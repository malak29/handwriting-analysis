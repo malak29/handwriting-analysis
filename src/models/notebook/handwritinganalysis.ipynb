{
  "cells": [
    {
      "cell_type": "code",
      "execution_count": 1,
      "metadata": {
        "colab": {
          "base_uri": "https://localhost:8080/"
        },
        "id": "GDY4_DsjJ7-n",
        "outputId": "49078b47-cf64-415c-eb23-c17a47ab0865"
      },
      "outputs": [
        {
          "output_type": "stream",
          "name": "stdout",
          "text": [
            "\u001b[2K     \u001b[90m━━━━━━━━━━━━━━━━━━━━━━━━━━━━━━━━━━━━━━━━\u001b[0m \u001b[32m719.8/719.8 kB\u001b[0m \u001b[31m8.6 MB/s\u001b[0m eta \u001b[36m0:00:00\u001b[0m\n",
            "\u001b[2K     \u001b[90m━━━━━━━━━━━━━━━━━━━━━━━━━━━━━━━━━━━━━━━━\u001b[0m \u001b[32m507.1/507.1 kB\u001b[0m \u001b[31m13.3 MB/s\u001b[0m eta \u001b[36m0:00:00\u001b[0m\n",
            "\u001b[2K     \u001b[90m━━━━━━━━━━━━━━━━━━━━━━━━━━━━━━━━━━━━━━━━\u001b[0m \u001b[32m115.3/115.3 kB\u001b[0m \u001b[31m14.7 MB/s\u001b[0m eta \u001b[36m0:00:00\u001b[0m\n",
            "\u001b[2K     \u001b[90m━━━━━━━━━━━━━━━━━━━━━━━━━━━━━━━━━━━━━━━━\u001b[0m \u001b[32m134.8/134.8 kB\u001b[0m \u001b[31m15.4 MB/s\u001b[0m eta \u001b[36m0:00:00\u001b[0m\n",
            "\u001b[2K     \u001b[90m━━━━━━━━━━━━━━━━━━━━━━━━━━━━━━━━━━━━━━━━\u001b[0m \u001b[32m1.6/1.6 MB\u001b[0m \u001b[31m19.3 MB/s\u001b[0m eta \u001b[36m0:00:00\u001b[0m\n",
            "\u001b[2K     \u001b[90m━━━━━━━━━━━━━━━━━━━━━━━━━━━━━━━━━━━━━━━━\u001b[0m \u001b[32m134.8/134.8 kB\u001b[0m \u001b[31m16.4 MB/s\u001b[0m eta \u001b[36m0:00:00\u001b[0m\n",
            "\u001b[?25h\u001b[31mERROR: Could not find a version that satisfies the requirement tensorflow-gpu==2.0.0 (from versions: 2.8.0rc0, 2.8.0rc1, 2.8.0, 2.8.1, 2.8.2, 2.8.3, 2.8.4, 2.9.0rc0, 2.9.0rc1, 2.9.0rc2, 2.9.0, 2.9.1, 2.9.2, 2.9.3, 2.10.0rc0, 2.10.0rc1, 2.10.0rc2, 2.10.0rc3, 2.10.0, 2.10.1, 2.11.0rc0, 2.11.0rc1, 2.11.0rc2, 2.11.0, 2.12.0)\u001b[0m\u001b[31m\n",
            "\u001b[0m\u001b[31mERROR: No matching distribution found for tensorflow-gpu==2.0.0\u001b[0m\u001b[31m\n",
            "\u001b[0mMounted at /content/gdrive\n"
          ]
        }
      ],
      "source": [
        "#hide\n",
        "!pip install -Uqq fastbook\n",
        "!pip install -U tensorflow-gpu==2.0.0 grpcio\n",
        "import fastbook\n",
        "fastbook.setup_book()\n"
      ]
    },
    {
      "cell_type": "code",
      "execution_count": 2,
      "metadata": {
        "id": "SEaZ0eiAJ7-r"
      },
      "outputs": [],
      "source": [
        "#hide\n",
        "from IPython.core.interactiveshell import InteractiveShell\n",
        "InteractiveShell.ast_node_interactivity = \"all\"\n",
        "\n",
        "from fastai.vision.all import *\n",
        "from fastbook import *\n",
        "\n",
        "matplotlib.rc('image', cmap='Greys')"
      ]
    },
    {
      "cell_type": "markdown",
      "metadata": {
        "id": "9VfX0oDSJ7-s"
      },
      "source": [
        "# Under the Hood: Training a Digit Classifier"
      ]
    },
    {
      "cell_type": "markdown",
      "metadata": {
        "id": "xxGSXJkDJ7-t"
      },
      "source": [
        "## Pixels: The Foundations of Computer Vision"
      ]
    },
    {
      "cell_type": "markdown",
      "metadata": {
        "id": "wNnjFcZZJ7-u"
      },
      "source": [
        "## Sidebar: Tenacity and Deep Learning"
      ]
    },
    {
      "cell_type": "markdown",
      "metadata": {
        "id": "wQObhO9SJ7-v"
      },
      "source": [
        "## End sidebar"
      ]
    },
    {
      "cell_type": "code",
      "source": [
        "# The MNIST dataset was constructed from two datasets of the US National Institute of Standards and Technology (NIST).\n",
        "# The training set consists of handwritten digits from 250 different people, 50 percent high school students,\n",
        "# and 50 percent employees from the Census Bureau. Note that the test set contains handwritten digits from different people following the same split.\n",
        "# The MNIST dataset is publicly available and consists of the following four parts:\n",
        "#     Training set images: train-images-idx3-ubyte.gz (9.9 MB, 47 MB unzipped, and 60,000 samples)\n",
        "#     Training set labels: train-labels-idx1-ubyte.gz (29 KB, 60 KB unzipped, and 60,000 labels)\n",
        "#     Test set images: t10k-images-idx3-ubyte.gz (1.6 MB, 7.8 MB, unzipped and 10,000 samples)\n",
        "#     Test set labels: t10k-labels-idx1-ubyte.gz (5 KB, 10 KB unzipped, and 10,000 labels)\n",
        "# PyTorch provides two high-level features:\n",
        "#     a) Tensor computation (like NumPy) with strong GPU acceleration\n",
        "#     b) Deep Neural Networks built on a tape-based autodiff system\n",
        "# PyTorch consists of 4 main packages:\n",
        "#       torch: a general purpose array library similar to Numpy that can do computations on GPU when the tensor type is cast to (torch.cuda.TensorFloat)\n",
        "#       torch.autograd: a package for building a computational graph and automatically obtaining gradients\n",
        "#       torch.nn: a neural net library with common layers and cost functions\n",
        "#       torch.optim: an optimization package with common optimization algorithms like SGD,Adam, etc\n",
        "# PyTorch Tensors:\n",
        "# In terms of programming, Tensors can simply be considered multidimensional arrays.\n",
        "# Tensors in PyTorch are similar to NumPy arrays, with the addition being that Tensors\n",
        "# can also be used on a GPU that supports CUDA. PyTorch supports various types of Tensors.\n",
        "# The MNIST dataset contains 28 by 28 grayscale images of single handwritten digits between 0 and 9. 28*28 = 784\n",
        "# The set consists of a total of 70,000 images, the training set having 60,000 and the test set has 10,000.\n",
        "# This means that there are 10 classes of digits, which includes the labels for the numbers 0 to 9."
      ],
      "metadata": {
        "id": "SZ_5TL0BTeSC"
      },
      "execution_count": 3,
      "outputs": []
    },
    {
      "cell_type": "code",
      "execution_count": 4,
      "metadata": {
        "id": "V24odAU9J7-v",
        "colab": {
          "base_uri": "https://localhost:8080/",
          "height": 37
        },
        "outputId": "6fdb8a83-83e4-45b1-edc2-65c5d46ada16"
      },
      "outputs": [
        {
          "output_type": "display_data",
          "data": {
            "text/plain": [
              "<IPython.core.display.HTML object>"
            ],
            "text/html": [
              "\n",
              "<style>\n",
              "    /* Turns off some styling */\n",
              "    progress {\n",
              "        /* gets rid of default border in Firefox and Opera. */\n",
              "        border: none;\n",
              "        /* Needs to be in here for Safari polyfill so background images work as expected. */\n",
              "        background-size: auto;\n",
              "    }\n",
              "    progress:not([value]), progress:not([value])::-webkit-progress-bar {\n",
              "        background: repeating-linear-gradient(45deg, #7e7e7e, #7e7e7e 10px, #5c5c5c 10px, #5c5c5c 20px);\n",
              "    }\n",
              "    .progress-bar-interrupted, .progress-bar-interrupted::-webkit-progress-bar {\n",
              "        background: #F44336;\n",
              "    }\n",
              "</style>\n"
            ]
          },
          "metadata": {}
        },
        {
          "output_type": "display_data",
          "data": {
            "text/plain": [
              "<IPython.core.display.HTML object>"
            ],
            "text/html": [
              "\n",
              "    <div>\n",
              "      <progress value='3219456' class='' max='3214948' style='width:300px; height:20px; vertical-align: middle;'></progress>\n",
              "      100.14% [3219456/3214948 00:00&lt;00:00]\n",
              "    </div>\n",
              "    "
            ]
          },
          "metadata": {}
        }
      ],
      "source": [
        "# Download a sample of MNIST that contains images of just these digits\n",
        "path = untar_data(URLs.MNIST_SAMPLE)"
      ]
    },
    {
      "cell_type": "code",
      "execution_count": 5,
      "metadata": {
        "id": "8RCeCWYkJ7-w"
      },
      "outputs": [],
      "source": [
        "#hide\n",
        "Path.BASE_PATH = path"
      ]
    },
    {
      "cell_type": "code",
      "execution_count": 6,
      "metadata": {
        "colab": {
          "base_uri": "https://localhost:8080/"
        },
        "id": "Q0NA6WHUJ7-2",
        "outputId": "a0f0d419-4417-460b-f3c4-acfc9f23bc91"
      },
      "outputs": [
        {
          "output_type": "execute_result",
          "data": {
            "text/plain": [
              "(#3) [Path('valid'),Path('labels.csv'),Path('train')]"
            ]
          },
          "metadata": {},
          "execution_count": 6
        }
      ],
      "source": [
        "# See what’s in this directory by using ls\n",
        "path.ls()"
      ]
    },
    {
      "cell_type": "code",
      "execution_count": 7,
      "metadata": {
        "colab": {
          "base_uri": "https://localhost:8080/"
        },
        "id": "EfDKR8b5J7-4",
        "outputId": "763ccdc1-eda8-4096-aae5-69500d9de84e"
      },
      "outputs": [
        {
          "output_type": "execute_result",
          "data": {
            "text/plain": [
              "(#2) [Path('train/3'),Path('train/7')]"
            ]
          },
          "metadata": {},
          "execution_count": 7
        }
      ],
      "source": [
        "# The MNIST dataset follows a common layout for machine learning datasets: separate folders for the training set and the validation\n",
        "# (and/or test) set. Let’s see what is inside the training set:\n",
        "(path/'train').ls()"
      ]
    },
    {
      "cell_type": "code",
      "execution_count": 8,
      "metadata": {
        "colab": {
          "base_uri": "https://localhost:8080/"
        },
        "id": "EKC6TbMaJ7-5",
        "outputId": "f52df0bc-adba-4911-b2c3-38c10330eb68"
      },
      "outputs": [
        {
          "output_type": "execute_result",
          "data": {
            "text/plain": [
              "(#6131) [Path('train/3/10.png'),Path('train/3/10000.png'),Path('train/3/10011.png'),Path('train/3/10031.png'),Path('train/3/10034.png'),Path('train/3/10042.png'),Path('train/3/10052.png'),Path('train/3/1007.png'),Path('train/3/10074.png'),Path('train/3/10091.png')...]"
            ]
          },
          "metadata": {},
          "execution_count": 8
        },
        {
          "output_type": "execute_result",
          "data": {
            "text/plain": [
              "(#6265) [Path('train/7/10002.png'),Path('train/7/1001.png'),Path('train/7/10014.png'),Path('train/7/10019.png'),Path('train/7/10039.png'),Path('train/7/10046.png'),Path('train/7/10050.png'),Path('train/7/10063.png'),Path('train/7/10077.png'),Path('train/7/10086.png')...]"
            ]
          },
          "metadata": {},
          "execution_count": 8
        }
      ],
      "source": [
        "threes = (path/'train'/'3').ls().sorted()\n",
        "sevens = (path/'train'/'7').ls().sorted()\n",
        "threes\n",
        "sevens\n",
        "# It is full of image files"
      ]
    },
    {
      "cell_type": "code",
      "execution_count": 9,
      "metadata": {
        "colab": {
          "base_uri": "https://localhost:8080/",
          "height": 73
        },
        "id": "LfLIIFZgJ7-5",
        "outputId": "ea1b3ec5-f50a-4c44-be0d-01f96dc3819d"
      },
      "outputs": [
        {
          "output_type": "execute_result",
          "data": {
            "text/plain": [
              "<PIL.PngImagePlugin.PngImageFile image mode=L size=28x28>"
            ],
            "image/png": "[encoded data removed]"
          },
          "metadata": {},
          "execution_count": 9
        },
        {
          "output_type": "execute_result",
          "data": {
            "text/plain": [
              "<PIL.PngImagePlugin.PngImageFile image mode=L size=28x28>"
            ],
            "image/png": "[encoded data removed]"
          },
          "metadata": {},
          "execution_count": 9
        }
      ],
      "source": [
        "# There’s a folder of 3s, and a folder of 7s.\n",
        "# In machine learning parlance, we say that “3” and “7” are the labels (or targets) in this dataset.\n",
        "# Let us take a look in one of these folders (using sorted to ensure we all get the same order of files):\n",
        "im3_path = threes[1]\n",
        "im3 = Image.open(im3_path)\n",
        "im3\n",
        "im7_path = sevens[1]\n",
        "im7 = Image.open(im7_path)\n",
        "im7"
      ]
    },
    {
      "cell_type": "code",
      "execution_count": 10,
      "metadata": {
        "colab": {
          "base_uri": "https://localhost:8080/"
        },
        "id": "HOQnjZcWJ7-8",
        "outputId": "39983152-195b-423b-a324-3f8ac42d8fe4"
      },
      "outputs": [
        {
          "output_type": "execute_result",
          "data": {
            "text/plain": [
              "array([[  0,   0,   0,   0,   0,   0],\n",
              "       [  0,   0,   0,   0,   0,  29],\n",
              "       [  0,   0,   0,  48, 166, 224],\n",
              "       [  0,  93, 244, 249, 253, 187],\n",
              "       [  0, 107, 253, 253, 230,  48],\n",
              "       [  0,   3,  20,  20,  15,   0]], dtype=uint8)"
            ]
          },
          "metadata": {},
          "execution_count": 10
        }
      ],
      "source": [
        "# Here we are using the Image class from the Python Imaging Library (PIL), which is the most widely used Python package for opening,\n",
        "# manipulating, and viewing images. Jupyter knows about PIL images, so it displays the image for us automatically.\n",
        "# In a computer, everything is represented as a number.\n",
        "# To view the numbers that make up this image, we have to convert it to a NumPy array or a PyTorch tensor.\n",
        "# For instance, here’s what a section of the image looks like converted to a NumPy array:\n",
        "# The 4:10 indicates that we requested the rows from index 4 (inclusive) to 10 (noninclusive) and the same for the columns. Numpy indexes\n",
        "# from top to bottom and from left to right - so this section is located near the top left corner of the image\n",
        "array(im3)[4:10,4:10]"
      ]
    },
    {
      "cell_type": "code",
      "execution_count": 11,
      "metadata": {
        "colab": {
          "base_uri": "https://localhost:8080/"
        },
        "id": "tCMiCvI1J7-8",
        "outputId": "72fdedc8-b282-4a64-c469-c9b16dddcb50"
      },
      "outputs": [
        {
          "output_type": "execute_result",
          "data": {
            "text/plain": [
              "tensor([[  0,   0,   0,   0,   0,   0,   0,   0,   0,   0,   0,   0,   0,   0,   0,   0,   0,   0,   0,   0,   0,   0,   0,   0,   0,   0,   0,   0],\n",
              "        [  0,   0,   0,   0,   0,   0,   0,   0,   0,   0,   0,   0,   0,   0,   0,   0,   0,   0,   0,   0,   0,   0,   0,   0,   0,   0,   0,   0],\n",
              "        [  0,   0,   0,   0,   0,   0,   0,   0,   0,   0,   0,   0,   0,   0,   0,   0,   0,   0,   0,   0,   0,   0,   0,   0,   0,   0,   0,   0],\n",
              "        [  0,   0,   0,   0,   0,   0,   0,   0,   0,   0,   0,   0,   0,   0,   0,   0,   0,   0,   0,   0,   0,   0,   0,   0,   0,   0,   0,   0],\n",
              "        [  0,   0,   0,   0,   0,   0,   0,   0,   0,   0,   0,   0,   0,   0,   0,   0,   0,   0,   0,   0,   0,   0,   0,   0,   0,   0,   0,   0],\n",
              "        [  0,   0,   0,   0,   0,   0,   0,   0,   0,  29, 150, 195, 254, 255, 254, 176, 193, 150,  96,   0,   0,   0,   0,   0,   0,   0,   0,   0],\n",
              "        [  0,   0,   0,   0,   0,   0,   0,  48, 166, 224, 253, 253, 234, 196, 253, 253, 253, 253, 233,   0,   0,   0,   0,   0,   0,   0,   0,   0],\n",
              "        [  0,   0,   0,   0,   0,  93, 244, 249, 253, 187,  46,  10,   8,   4,  10, 194, 253, 253, 233,   0,   0,   0,   0,   0,   0,   0,   0,   0],\n",
              "        [  0,   0,   0,   0,   0, 107, 253, 253, 230,  48,   0,   0,   0,   0,   0, 192, 253, 253, 156,   0,   0,   0,   0,   0,   0,   0,   0,   0],\n",
              "        [  0,   0,   0,   0,   0,   3,  20,  20,  15,   0,   0,   0,   0,   0,  43, 224, 253, 245,  74,   0,   0,   0,   0,   0,   0,   0,   0,   0],\n",
              "        [  0,   0,   0,   0,   0,   0,   0,   0,   0,   0,   0,   0,   0,   0, 249, 253, 245, 126,   0,   0,   0,   0,   0,   0,   0,   0,   0,   0],\n",
              "        [  0,   0,   0,   0,   0,   0,   0,   0,   0,   0,   0,  14, 101, 223, 253, 248, 124,   0,   0,   0,   0,   0,   0,   0,   0,   0,   0,   0],\n",
              "        [  0,   0,   0,   0,   0,   0,   0,   0,   0,  11, 166, 239, 253, 253, 253, 187,  30,   0,   0,   0,   0,   0,   0,   0,   0,   0,   0,   0],\n",
              "        [  0,   0,   0,   0,   0,   0,   0,   0,   0,  16, 248, 250, 253, 253, 253, 253, 232, 213, 111,   2,   0,   0,   0,   0,   0,   0,   0,   0],\n",
              "        [  0,   0,   0,   0,   0,   0,   0,   0,   0,   0,   0,  43,  98,  98, 208, 253, 253, 253, 253, 187,  22,   0,   0,   0,   0,   0,   0,   0],\n",
              "        [  0,   0,   0,   0,   0,   0,   0,   0,   0,   0,   0,   0,   0,   0,   9,  51, 119, 253, 253, 253,  76,   0,   0,   0,   0,   0,   0,   0],\n",
              "        [  0,   0,   0,   0,   0,   0,   0,   0,   0,   0,   0,   0,   0,   0,   0,   0,   1, 183, 253, 253, 139,   0,   0,   0,   0,   0,   0,   0],\n",
              "        [  0,   0,   0,   0,   0,   0,   0,   0,   0,   0,   0,   0,   0,   0,   0,   0,   0, 182, 253, 253, 104,   0,   0,   0,   0,   0,   0,   0],\n",
              "        [  0,   0,   0,   0,   0,   0,   0,   0,   0,   0,   0,   0,   0,   0,   0,   0,  85, 249, 253, 253,  36,   0,   0,   0,   0,   0,   0,   0],\n",
              "        [  0,   0,   0,   0,   0,   0,   0,   0,   0,   0,   0,   0,   0,   0,   0,  60, 214, 253, 253, 173,  11,   0,   0,   0,   0,   0,   0,   0],\n",
              "        [  0,   0,   0,   0,   0,   0,   0,   0,   0,   0,   0,   0,   0,   0,  98, 247, 253, 253, 226,   9,   0,   0,   0,   0,   0,   0,   0,   0],\n",
              "        [  0,   0,   0,   0,   0,   0,   0,   0,   0,   0,   0,   0,  42, 150, 252, 253, 253, 233,  53,   0,   0,   0,   0,   0,   0,   0,   0,   0],\n",
              "        [  0,   0,   0,   0,   0,   0,  42, 115,  42,  60, 115, 159, 240, 253, 253, 250, 175,  25,   0,   0,   0,   0,   0,   0,   0,   0,   0,   0],\n",
              "        [  0,   0,   0,   0,   0,   0, 187, 253, 253, 253, 253, 253, 253, 253, 197,  86,   0,   0,   0,   0,   0,   0,   0,   0,   0,   0,   0,   0],\n",
              "        [  0,   0,   0,   0,   0,   0, 103, 253, 253, 253, 253, 253, 232,  67,   1,   0,   0,   0,   0,   0,   0,   0,   0,   0,   0,   0,   0,   0],\n",
              "        [  0,   0,   0,   0,   0,   0,   0,   0,   0,   0,   0,   0,   0,   0,   0,   0,   0,   0,   0,   0,   0,   0,   0,   0,   0,   0,   0,   0],\n",
              "        [  0,   0,   0,   0,   0,   0,   0,   0,   0,   0,   0,   0,   0,   0,   0,   0,   0,   0,   0,   0,   0,   0,   0,   0,   0,   0,   0,   0],\n",
              "        [  0,   0,   0,   0,   0,   0,   0,   0,   0,   0,   0,   0,   0,   0,   0,   0,   0,   0,   0,   0,   0,   0,   0,   0,   0,   0,   0,   0]], dtype=torch.uint8)"
            ]
          },
          "metadata": {},
          "execution_count": 11
        }
      ],
      "source": [
        "tensor(im3)[0:28,0:28]"
      ]
    },
    {
      "cell_type": "code",
      "source": [
        "# We can slice the array to pick just the part with the top of the digit and then use Pandas data frame to color code\n",
        "# the values using a gradient, which shows us clearly how the image is created from the pixel values\n",
        "# The same display from the previous cell is now displayed below\n",
        "im3_t = tensor(im3)\n",
        "df = pd.DataFrame(im3_t[0:10,0:10])\n",
        "df.style.set_properties(**{'font-size':'6pt'}).background_gradient('Greys')\n"
      ],
      "metadata": {
        "colab": {
          "base_uri": "https://localhost:8080/",
          "height": 363
        },
        "id": "xEb0TB1_WgL7",
        "outputId": "8d360daa-de65-40c0-aebf-95d56e0c12fd"
      },
      "execution_count": 12,
      "outputs": [
        {
          "output_type": "execute_result",
          "data": {
            "text/plain": [
              "<pandas.io.formats.style.Styler at 0x7c73bc9f58d0>"
            ],
            "text/html": [
              "<style type=\"text/css\">\n",
              "#T_65d8e_row0_col0, #T_65d8e_row0_col1, #T_65d8e_row0_col2, #T_65d8e_row0_col3, #T_65d8e_row0_col4, #T_65d8e_row0_col5, #T_65d8e_row0_col6, #T_65d8e_row0_col7, #T_65d8e_row0_col8, #T_65d8e_row0_col9, #T_65d8e_row1_col0, #T_65d8e_row1_col1, #T_65d8e_row1_col2, #T_65d8e_row1_col3, #T_65d8e_row1_col4, #T_65d8e_row1_col5, #T_65d8e_row1_col6, #T_65d8e_row1_col7, #T_65d8e_row1_col8, #T_65d8e_row1_col9, #T_65d8e_row2_col0, #T_65d8e_row2_col1, #T_65d8e_row2_col2, #T_65d8e_row2_col3, #T_65d8e_row2_col4, #T_65d8e_row2_col5, #T_65d8e_row2_col6, #T_65d8e_row2_col7, #T_65d8e_row2_col8, #T_65d8e_row2_col9, #T_65d8e_row3_col0, #T_65d8e_row3_col1, #T_65d8e_row3_col2, #T_65d8e_row3_col3, #T_65d8e_row3_col4, #T_65d8e_row3_col5, #T_65d8e_row3_col6, #T_65d8e_row3_col7, #T_65d8e_row3_col8, #T_65d8e_row3_col9, #T_65d8e_row4_col0, #T_65d8e_row4_col1, #T_65d8e_row4_col2, #T_65d8e_row4_col3, #T_65d8e_row4_col4, #T_65d8e_row4_col5, #T_65d8e_row4_col6, #T_65d8e_row4_col7, #T_65d8e_row4_col8, #T_65d8e_row4_col9, #T_65d8e_row5_col0, #T_65d8e_row5_col1, #T_65d8e_row5_col2, #T_65d8e_row5_col3, #T_65d8e_row5_col4, #T_65d8e_row5_col5, #T_65d8e_row5_col6, #T_65d8e_row5_col7, #T_65d8e_row5_col8, #T_65d8e_row6_col0, #T_65d8e_row6_col1, #T_65d8e_row6_col2, #T_65d8e_row6_col3, #T_65d8e_row6_col4, #T_65d8e_row6_col5, #T_65d8e_row6_col6, #T_65d8e_row7_col0, #T_65d8e_row7_col1, #T_65d8e_row7_col2, #T_65d8e_row7_col3, #T_65d8e_row7_col4, #T_65d8e_row8_col0, #T_65d8e_row8_col1, #T_65d8e_row8_col2, #T_65d8e_row8_col3, #T_65d8e_row8_col4, #T_65d8e_row9_col0, #T_65d8e_row9_col1, #T_65d8e_row9_col2, #T_65d8e_row9_col3, #T_65d8e_row9_col4, #T_65d8e_row9_col9 {\n",
              "  font-size: 6pt;\n",
              "  background-color: #ffffff;\n",
              "  color: #000000;\n",
              "}\n",
              "#T_65d8e_row5_col9 {\n",
              "  font-size: 6pt;\n",
              "  background-color: #efefef;\n",
              "  color: #000000;\n",
              "}\n",
              "#T_65d8e_row6_col7 {\n",
              "  font-size: 6pt;\n",
              "  background-color: #e4e4e4;\n",
              "  color: #000000;\n",
              "}\n",
              "#T_65d8e_row6_col8 {\n",
              "  font-size: 6pt;\n",
              "  background-color: #6b6b6b;\n",
              "  color: #f1f1f1;\n",
              "}\n",
              "#T_65d8e_row6_col9, #T_65d8e_row7_col8, #T_65d8e_row8_col5, #T_65d8e_row8_col6, #T_65d8e_row8_col7 {\n",
              "  font-size: 6pt;\n",
              "  background-color: #000000;\n",
              "  color: #f1f1f1;\n",
              "}\n",
              "#T_65d8e_row7_col5 {\n",
              "  font-size: 6pt;\n",
              "  background-color: #272727;\n",
              "  color: #f1f1f1;\n",
              "}\n",
              "#T_65d8e_row7_col6 {\n",
              "  font-size: 6pt;\n",
              "  background-color: #0a0a0a;\n",
              "  color: #f1f1f1;\n",
              "}\n",
              "#T_65d8e_row7_col7 {\n",
              "  font-size: 6pt;\n",
              "  background-color: #050505;\n",
              "  color: #f1f1f1;\n",
              "}\n",
              "#T_65d8e_row7_col9 {\n",
              "  font-size: 6pt;\n",
              "  background-color: #333333;\n",
              "  color: #f1f1f1;\n",
              "}\n",
              "#T_65d8e_row8_col8 {\n",
              "  font-size: 6pt;\n",
              "  background-color: #1b1b1b;\n",
              "  color: #f1f1f1;\n",
              "}\n",
              "#T_65d8e_row8_col9 {\n",
              "  font-size: 6pt;\n",
              "  background-color: #e0e0e0;\n",
              "  color: #000000;\n",
              "}\n",
              "#T_65d8e_row9_col5 {\n",
              "  font-size: 6pt;\n",
              "  background-color: #fcfcfc;\n",
              "  color: #000000;\n",
              "}\n",
              "#T_65d8e_row9_col6, #T_65d8e_row9_col7 {\n",
              "  font-size: 6pt;\n",
              "  background-color: #f6f6f6;\n",
              "  color: #000000;\n",
              "}\n",
              "#T_65d8e_row9_col8 {\n",
              "  font-size: 6pt;\n",
              "  background-color: #f8f8f8;\n",
              "  color: #000000;\n",
              "}\n",
              "</style>\n",
              "<table id=\"T_65d8e\" class=\"dataframe\">\n",
              "  <thead>\n",
              "    <tr>\n",
              "      <th class=\"blank level0\" >&nbsp;</th>\n",
              "      <th id=\"T_65d8e_level0_col0\" class=\"col_heading level0 col0\" >0</th>\n",
              "      <th id=\"T_65d8e_level0_col1\" class=\"col_heading level0 col1\" >1</th>\n",
              "      <th id=\"T_65d8e_level0_col2\" class=\"col_heading level0 col2\" >2</th>\n",
              "      <th id=\"T_65d8e_level0_col3\" class=\"col_heading level0 col3\" >3</th>\n",
              "      <th id=\"T_65d8e_level0_col4\" class=\"col_heading level0 col4\" >4</th>\n",
              "      <th id=\"T_65d8e_level0_col5\" class=\"col_heading level0 col5\" >5</th>\n",
              "      <th id=\"T_65d8e_level0_col6\" class=\"col_heading level0 col6\" >6</th>\n",
              "      <th id=\"T_65d8e_level0_col7\" class=\"col_heading level0 col7\" >7</th>\n",
              "      <th id=\"T_65d8e_level0_col8\" class=\"col_heading level0 col8\" >8</th>\n",
              "      <th id=\"T_65d8e_level0_col9\" class=\"col_heading level0 col9\" >9</th>\n",
              "    </tr>\n",
              "  </thead>\n",
              "  <tbody>\n",
              "    <tr>\n",
              "      <th id=\"T_65d8e_level0_row0\" class=\"row_heading level0 row0\" >0</th>\n",
              "      <td id=\"T_65d8e_row0_col0\" class=\"data row0 col0\" >0</td>\n",
              "      <td id=\"T_65d8e_row0_col1\" class=\"data row0 col1\" >0</td>\n",
              "      <td id=\"T_65d8e_row0_col2\" class=\"data row0 col2\" >0</td>\n",
              "      <td id=\"T_65d8e_row0_col3\" class=\"data row0 col3\" >0</td>\n",
              "      <td id=\"T_65d8e_row0_col4\" class=\"data row0 col4\" >0</td>\n",
              "      <td id=\"T_65d8e_row0_col5\" class=\"data row0 col5\" >0</td>\n",
              "      <td id=\"T_65d8e_row0_col6\" class=\"data row0 col6\" >0</td>\n",
              "      <td id=\"T_65d8e_row0_col7\" class=\"data row0 col7\" >0</td>\n",
              "      <td id=\"T_65d8e_row0_col8\" class=\"data row0 col8\" >0</td>\n",
              "      <td id=\"T_65d8e_row0_col9\" class=\"data row0 col9\" >0</td>\n",
              "    </tr>\n",
              "    <tr>\n",
              "      <th id=\"T_65d8e_level0_row1\" class=\"row_heading level0 row1\" >1</th>\n",
              "      <td id=\"T_65d8e_row1_col0\" class=\"data row1 col0\" >0</td>\n",
              "      <td id=\"T_65d8e_row1_col1\" class=\"data row1 col1\" >0</td>\n",
              "      <td id=\"T_65d8e_row1_col2\" class=\"data row1 col2\" >0</td>\n",
              "      <td id=\"T_65d8e_row1_col3\" class=\"data row1 col3\" >0</td>\n",
              "      <td id=\"T_65d8e_row1_col4\" class=\"data row1 col4\" >0</td>\n",
              "      <td id=\"T_65d8e_row1_col5\" class=\"data row1 col5\" >0</td>\n",
              "      <td id=\"T_65d8e_row1_col6\" class=\"data row1 col6\" >0</td>\n",
              "      <td id=\"T_65d8e_row1_col7\" class=\"data row1 col7\" >0</td>\n",
              "      <td id=\"T_65d8e_row1_col8\" class=\"data row1 col8\" >0</td>\n",
              "      <td id=\"T_65d8e_row1_col9\" class=\"data row1 col9\" >0</td>\n",
              "    </tr>\n",
              "    <tr>\n",
              "      <th id=\"T_65d8e_level0_row2\" class=\"row_heading level0 row2\" >2</th>\n",
              "      <td id=\"T_65d8e_row2_col0\" class=\"data row2 col0\" >0</td>\n",
              "      <td id=\"T_65d8e_row2_col1\" class=\"data row2 col1\" >0</td>\n",
              "      <td id=\"T_65d8e_row2_col2\" class=\"data row2 col2\" >0</td>\n",
              "      <td id=\"T_65d8e_row2_col3\" class=\"data row2 col3\" >0</td>\n",
              "      <td id=\"T_65d8e_row2_col4\" class=\"data row2 col4\" >0</td>\n",
              "      <td id=\"T_65d8e_row2_col5\" class=\"data row2 col5\" >0</td>\n",
              "      <td id=\"T_65d8e_row2_col6\" class=\"data row2 col6\" >0</td>\n",
              "      <td id=\"T_65d8e_row2_col7\" class=\"data row2 col7\" >0</td>\n",
              "      <td id=\"T_65d8e_row2_col8\" class=\"data row2 col8\" >0</td>\n",
              "      <td id=\"T_65d8e_row2_col9\" class=\"data row2 col9\" >0</td>\n",
              "    </tr>\n",
              "    <tr>\n",
              "      <th id=\"T_65d8e_level0_row3\" class=\"row_heading level0 row3\" >3</th>\n",
              "      <td id=\"T_65d8e_row3_col0\" class=\"data row3 col0\" >0</td>\n",
              "      <td id=\"T_65d8e_row3_col1\" class=\"data row3 col1\" >0</td>\n",
              "      <td id=\"T_65d8e_row3_col2\" class=\"data row3 col2\" >0</td>\n",
              "      <td id=\"T_65d8e_row3_col3\" class=\"data row3 col3\" >0</td>\n",
              "      <td id=\"T_65d8e_row3_col4\" class=\"data row3 col4\" >0</td>\n",
              "      <td id=\"T_65d8e_row3_col5\" class=\"data row3 col5\" >0</td>\n",
              "      <td id=\"T_65d8e_row3_col6\" class=\"data row3 col6\" >0</td>\n",
              "      <td id=\"T_65d8e_row3_col7\" class=\"data row3 col7\" >0</td>\n",
              "      <td id=\"T_65d8e_row3_col8\" class=\"data row3 col8\" >0</td>\n",
              "      <td id=\"T_65d8e_row3_col9\" class=\"data row3 col9\" >0</td>\n",
              "    </tr>\n",
              "    <tr>\n",
              "      <th id=\"T_65d8e_level0_row4\" class=\"row_heading level0 row4\" >4</th>\n",
              "      <td id=\"T_65d8e_row4_col0\" class=\"data row4 col0\" >0</td>\n",
              "      <td id=\"T_65d8e_row4_col1\" class=\"data row4 col1\" >0</td>\n",
              "      <td id=\"T_65d8e_row4_col2\" class=\"data row4 col2\" >0</td>\n",
              "      <td id=\"T_65d8e_row4_col3\" class=\"data row4 col3\" >0</td>\n",
              "      <td id=\"T_65d8e_row4_col4\" class=\"data row4 col4\" >0</td>\n",
              "      <td id=\"T_65d8e_row4_col5\" class=\"data row4 col5\" >0</td>\n",
              "      <td id=\"T_65d8e_row4_col6\" class=\"data row4 col6\" >0</td>\n",
              "      <td id=\"T_65d8e_row4_col7\" class=\"data row4 col7\" >0</td>\n",
              "      <td id=\"T_65d8e_row4_col8\" class=\"data row4 col8\" >0</td>\n",
              "      <td id=\"T_65d8e_row4_col9\" class=\"data row4 col9\" >0</td>\n",
              "    </tr>\n",
              "    <tr>\n",
              "      <th id=\"T_65d8e_level0_row5\" class=\"row_heading level0 row5\" >5</th>\n",
              "      <td id=\"T_65d8e_row5_col0\" class=\"data row5 col0\" >0</td>\n",
              "      <td id=\"T_65d8e_row5_col1\" class=\"data row5 col1\" >0</td>\n",
              "      <td id=\"T_65d8e_row5_col2\" class=\"data row5 col2\" >0</td>\n",
              "      <td id=\"T_65d8e_row5_col3\" class=\"data row5 col3\" >0</td>\n",
              "      <td id=\"T_65d8e_row5_col4\" class=\"data row5 col4\" >0</td>\n",
              "      <td id=\"T_65d8e_row5_col5\" class=\"data row5 col5\" >0</td>\n",
              "      <td id=\"T_65d8e_row5_col6\" class=\"data row5 col6\" >0</td>\n",
              "      <td id=\"T_65d8e_row5_col7\" class=\"data row5 col7\" >0</td>\n",
              "      <td id=\"T_65d8e_row5_col8\" class=\"data row5 col8\" >0</td>\n",
              "      <td id=\"T_65d8e_row5_col9\" class=\"data row5 col9\" >29</td>\n",
              "    </tr>\n",
              "    <tr>\n",
              "      <th id=\"T_65d8e_level0_row6\" class=\"row_heading level0 row6\" >6</th>\n",
              "      <td id=\"T_65d8e_row6_col0\" class=\"data row6 col0\" >0</td>\n",
              "      <td id=\"T_65d8e_row6_col1\" class=\"data row6 col1\" >0</td>\n",
              "      <td id=\"T_65d8e_row6_col2\" class=\"data row6 col2\" >0</td>\n",
              "      <td id=\"T_65d8e_row6_col3\" class=\"data row6 col3\" >0</td>\n",
              "      <td id=\"T_65d8e_row6_col4\" class=\"data row6 col4\" >0</td>\n",
              "      <td id=\"T_65d8e_row6_col5\" class=\"data row6 col5\" >0</td>\n",
              "      <td id=\"T_65d8e_row6_col6\" class=\"data row6 col6\" >0</td>\n",
              "      <td id=\"T_65d8e_row6_col7\" class=\"data row6 col7\" >48</td>\n",
              "      <td id=\"T_65d8e_row6_col8\" class=\"data row6 col8\" >166</td>\n",
              "      <td id=\"T_65d8e_row6_col9\" class=\"data row6 col9\" >224</td>\n",
              "    </tr>\n",
              "    <tr>\n",
              "      <th id=\"T_65d8e_level0_row7\" class=\"row_heading level0 row7\" >7</th>\n",
              "      <td id=\"T_65d8e_row7_col0\" class=\"data row7 col0\" >0</td>\n",
              "      <td id=\"T_65d8e_row7_col1\" class=\"data row7 col1\" >0</td>\n",
              "      <td id=\"T_65d8e_row7_col2\" class=\"data row7 col2\" >0</td>\n",
              "      <td id=\"T_65d8e_row7_col3\" class=\"data row7 col3\" >0</td>\n",
              "      <td id=\"T_65d8e_row7_col4\" class=\"data row7 col4\" >0</td>\n",
              "      <td id=\"T_65d8e_row7_col5\" class=\"data row7 col5\" >93</td>\n",
              "      <td id=\"T_65d8e_row7_col6\" class=\"data row7 col6\" >244</td>\n",
              "      <td id=\"T_65d8e_row7_col7\" class=\"data row7 col7\" >249</td>\n",
              "      <td id=\"T_65d8e_row7_col8\" class=\"data row7 col8\" >253</td>\n",
              "      <td id=\"T_65d8e_row7_col9\" class=\"data row7 col9\" >187</td>\n",
              "    </tr>\n",
              "    <tr>\n",
              "      <th id=\"T_65d8e_level0_row8\" class=\"row_heading level0 row8\" >8</th>\n",
              "      <td id=\"T_65d8e_row8_col0\" class=\"data row8 col0\" >0</td>\n",
              "      <td id=\"T_65d8e_row8_col1\" class=\"data row8 col1\" >0</td>\n",
              "      <td id=\"T_65d8e_row8_col2\" class=\"data row8 col2\" >0</td>\n",
              "      <td id=\"T_65d8e_row8_col3\" class=\"data row8 col3\" >0</td>\n",
              "      <td id=\"T_65d8e_row8_col4\" class=\"data row8 col4\" >0</td>\n",
              "      <td id=\"T_65d8e_row8_col5\" class=\"data row8 col5\" >107</td>\n",
              "      <td id=\"T_65d8e_row8_col6\" class=\"data row8 col6\" >253</td>\n",
              "      <td id=\"T_65d8e_row8_col7\" class=\"data row8 col7\" >253</td>\n",
              "      <td id=\"T_65d8e_row8_col8\" class=\"data row8 col8\" >230</td>\n",
              "      <td id=\"T_65d8e_row8_col9\" class=\"data row8 col9\" >48</td>\n",
              "    </tr>\n",
              "    <tr>\n",
              "      <th id=\"T_65d8e_level0_row9\" class=\"row_heading level0 row9\" >9</th>\n",
              "      <td id=\"T_65d8e_row9_col0\" class=\"data row9 col0\" >0</td>\n",
              "      <td id=\"T_65d8e_row9_col1\" class=\"data row9 col1\" >0</td>\n",
              "      <td id=\"T_65d8e_row9_col2\" class=\"data row9 col2\" >0</td>\n",
              "      <td id=\"T_65d8e_row9_col3\" class=\"data row9 col3\" >0</td>\n",
              "      <td id=\"T_65d8e_row9_col4\" class=\"data row9 col4\" >0</td>\n",
              "      <td id=\"T_65d8e_row9_col5\" class=\"data row9 col5\" >3</td>\n",
              "      <td id=\"T_65d8e_row9_col6\" class=\"data row9 col6\" >20</td>\n",
              "      <td id=\"T_65d8e_row9_col7\" class=\"data row9 col7\" >20</td>\n",
              "      <td id=\"T_65d8e_row9_col8\" class=\"data row9 col8\" >15</td>\n",
              "      <td id=\"T_65d8e_row9_col9\" class=\"data row9 col9\" >0</td>\n",
              "    </tr>\n",
              "  </tbody>\n",
              "</table>\n"
            ]
          },
          "metadata": {},
          "execution_count": 12
        }
      ]
    },
    {
      "cell_type": "code",
      "execution_count": 13,
      "metadata": {
        "colab": {
          "base_uri": "https://localhost:8080/",
          "height": 394
        },
        "id": "xffS7oZ4J7--",
        "outputId": "1bcf52dd-2b6d-48d1-87f0-97351b5ab427"
      },
      "outputs": [
        {
          "output_type": "execute_result",
          "data": {
            "text/plain": [
              "<pandas.io.formats.style.Styler at 0x7c73bcf1ef80>"
            ],
            "text/html": [
              "<style type=\"text/css\">\n",
              "#T_984c5_row0_col0, #T_984c5_row0_col1, #T_984c5_row0_col2, #T_984c5_row0_col3, #T_984c5_row0_col4, #T_984c5_row0_col5, #T_984c5_row0_col6, #T_984c5_row0_col7, #T_984c5_row0_col8, #T_984c5_row0_col9, #T_984c5_row0_col10, #T_984c5_row0_col11, #T_984c5_row0_col12, #T_984c5_row0_col13, #T_984c5_row0_col14, #T_984c5_row0_col15, #T_984c5_row0_col16, #T_984c5_row0_col17, #T_984c5_row1_col0, #T_984c5_row1_col1, #T_984c5_row1_col2, #T_984c5_row1_col3, #T_984c5_row1_col4, #T_984c5_row1_col15, #T_984c5_row1_col16, #T_984c5_row1_col17, #T_984c5_row2_col0, #T_984c5_row2_col1, #T_984c5_row2_col2, #T_984c5_row2_col15, #T_984c5_row2_col16, #T_984c5_row2_col17, #T_984c5_row3_col0, #T_984c5_row3_col15, #T_984c5_row3_col16, #T_984c5_row3_col17, #T_984c5_row4_col0, #T_984c5_row4_col6, #T_984c5_row4_col7, #T_984c5_row4_col8, #T_984c5_row4_col9, #T_984c5_row4_col10, #T_984c5_row4_col15, #T_984c5_row4_col16, #T_984c5_row4_col17, #T_984c5_row5_col0, #T_984c5_row5_col5, #T_984c5_row5_col6, #T_984c5_row5_col7, #T_984c5_row5_col8, #T_984c5_row5_col9, #T_984c5_row5_col15, #T_984c5_row5_col16, #T_984c5_row5_col17, #T_984c5_row6_col0, #T_984c5_row6_col1, #T_984c5_row6_col2, #T_984c5_row6_col3, #T_984c5_row6_col4, #T_984c5_row6_col5, #T_984c5_row6_col6, #T_984c5_row6_col7, #T_984c5_row6_col8, #T_984c5_row6_col9, #T_984c5_row6_col14, #T_984c5_row6_col15, #T_984c5_row6_col16, #T_984c5_row6_col17, #T_984c5_row7_col0, #T_984c5_row7_col1, #T_984c5_row7_col2, #T_984c5_row7_col3, #T_984c5_row7_col4, #T_984c5_row7_col5, #T_984c5_row7_col6, #T_984c5_row7_col13, #T_984c5_row7_col14, #T_984c5_row7_col15, #T_984c5_row7_col16, #T_984c5_row7_col17, #T_984c5_row8_col0, #T_984c5_row8_col1, #T_984c5_row8_col2, #T_984c5_row8_col3, #T_984c5_row8_col4, #T_984c5_row8_col13, #T_984c5_row8_col14, #T_984c5_row8_col15, #T_984c5_row8_col16, #T_984c5_row8_col17, #T_984c5_row9_col0, #T_984c5_row9_col1, #T_984c5_row9_col2, #T_984c5_row9_col3, #T_984c5_row9_col4, #T_984c5_row9_col16, #T_984c5_row9_col17, #T_984c5_row10_col0, #T_984c5_row10_col1, #T_984c5_row10_col2, #T_984c5_row10_col3, #T_984c5_row10_col4, #T_984c5_row10_col5, #T_984c5_row10_col6, #T_984c5_row10_col17 {\n",
              "  font-size: 6pt;\n",
              "  background-color: #ffffff;\n",
              "  color: #000000;\n",
              "}\n",
              "#T_984c5_row1_col5 {\n",
              "  font-size: 6pt;\n",
              "  background-color: #efefef;\n",
              "  color: #000000;\n",
              "}\n",
              "#T_984c5_row1_col6, #T_984c5_row1_col13 {\n",
              "  font-size: 6pt;\n",
              "  background-color: #7c7c7c;\n",
              "  color: #f1f1f1;\n",
              "}\n",
              "#T_984c5_row1_col7 {\n",
              "  font-size: 6pt;\n",
              "  background-color: #4a4a4a;\n",
              "  color: #f1f1f1;\n",
              "}\n",
              "#T_984c5_row1_col8, #T_984c5_row1_col9, #T_984c5_row1_col10, #T_984c5_row2_col5, #T_984c5_row2_col6, #T_984c5_row2_col7, #T_984c5_row2_col11, #T_984c5_row2_col12, #T_984c5_row2_col13, #T_984c5_row3_col4, #T_984c5_row3_col12, #T_984c5_row3_col13, #T_984c5_row4_col1, #T_984c5_row4_col2, #T_984c5_row4_col3, #T_984c5_row4_col12, #T_984c5_row4_col13, #T_984c5_row5_col12, #T_984c5_row6_col11, #T_984c5_row9_col11, #T_984c5_row10_col11, #T_984c5_row10_col12, #T_984c5_row10_col13, #T_984c5_row10_col14, #T_984c5_row10_col15, #T_984c5_row10_col16 {\n",
              "  font-size: 6pt;\n",
              "  background-color: #000000;\n",
              "  color: #f1f1f1;\n",
              "}\n",
              "#T_984c5_row1_col11 {\n",
              "  font-size: 6pt;\n",
              "  background-color: #606060;\n",
              "  color: #f1f1f1;\n",
              "}\n",
              "#T_984c5_row1_col12 {\n",
              "  font-size: 6pt;\n",
              "  background-color: #4d4d4d;\n",
              "  color: #f1f1f1;\n",
              "}\n",
              "#T_984c5_row1_col14 {\n",
              "  font-size: 6pt;\n",
              "  background-color: #bbbbbb;\n",
              "  color: #000000;\n",
              "}\n",
              "#T_984c5_row2_col3 {\n",
              "  font-size: 6pt;\n",
              "  background-color: #e4e4e4;\n",
              "  color: #000000;\n",
              "}\n",
              "#T_984c5_row2_col4, #T_984c5_row8_col6 {\n",
              "  font-size: 6pt;\n",
              "  background-color: #6b6b6b;\n",
              "  color: #f1f1f1;\n",
              "}\n",
              "#T_984c5_row2_col8, #T_984c5_row2_col14, #T_984c5_row3_col14 {\n",
              "  font-size: 6pt;\n",
              "  background-color: #171717;\n",
              "  color: #f1f1f1;\n",
              "}\n",
              "#T_984c5_row2_col9, #T_984c5_row3_col11 {\n",
              "  font-size: 6pt;\n",
              "  background-color: #4b4b4b;\n",
              "  color: #f1f1f1;\n",
              "}\n",
              "#T_984c5_row2_col10, #T_984c5_row7_col10, #T_984c5_row8_col8, #T_984c5_row8_col10, #T_984c5_row9_col8, #T_984c5_row9_col10 {\n",
              "  font-size: 6pt;\n",
              "  background-color: #010101;\n",
              "  color: #f1f1f1;\n",
              "}\n",
              "#T_984c5_row3_col1 {\n",
              "  font-size: 6pt;\n",
              "  background-color: #272727;\n",
              "  color: #f1f1f1;\n",
              "}\n",
              "#T_984c5_row3_col2 {\n",
              "  font-size: 6pt;\n",
              "  background-color: #0a0a0a;\n",
              "  color: #f1f1f1;\n",
              "}\n",
              "#T_984c5_row3_col3 {\n",
              "  font-size: 6pt;\n",
              "  background-color: #050505;\n",
              "  color: #f1f1f1;\n",
              "}\n",
              "#T_984c5_row3_col5 {\n",
              "  font-size: 6pt;\n",
              "  background-color: #333333;\n",
              "  color: #f1f1f1;\n",
              "}\n",
              "#T_984c5_row3_col6 {\n",
              "  font-size: 6pt;\n",
              "  background-color: #e6e6e6;\n",
              "  color: #000000;\n",
              "}\n",
              "#T_984c5_row3_col7, #T_984c5_row3_col10 {\n",
              "  font-size: 6pt;\n",
              "  background-color: #fafafa;\n",
              "  color: #000000;\n",
              "}\n",
              "#T_984c5_row3_col8 {\n",
              "  font-size: 6pt;\n",
              "  background-color: #fbfbfb;\n",
              "  color: #000000;\n",
              "}\n",
              "#T_984c5_row3_col9 {\n",
              "  font-size: 6pt;\n",
              "  background-color: #fdfdfd;\n",
              "  color: #000000;\n",
              "}\n",
              "#T_984c5_row4_col4 {\n",
              "  font-size: 6pt;\n",
              "  background-color: #1b1b1b;\n",
              "  color: #f1f1f1;\n",
              "}\n",
              "#T_984c5_row4_col5 {\n",
              "  font-size: 6pt;\n",
              "  background-color: #e0e0e0;\n",
              "  color: #000000;\n",
              "}\n",
              "#T_984c5_row4_col11 {\n",
              "  font-size: 6pt;\n",
              "  background-color: #4e4e4e;\n",
              "  color: #f1f1f1;\n",
              "}\n",
              "#T_984c5_row4_col14 {\n",
              "  font-size: 6pt;\n",
              "  background-color: #767676;\n",
              "  color: #f1f1f1;\n",
              "}\n",
              "#T_984c5_row5_col1 {\n",
              "  font-size: 6pt;\n",
              "  background-color: #fcfcfc;\n",
              "  color: #000000;\n",
              "}\n",
              "#T_984c5_row5_col2, #T_984c5_row5_col3 {\n",
              "  font-size: 6pt;\n",
              "  background-color: #f6f6f6;\n",
              "  color: #000000;\n",
              "}\n",
              "#T_984c5_row5_col4, #T_984c5_row7_col7 {\n",
              "  font-size: 6pt;\n",
              "  background-color: #f8f8f8;\n",
              "  color: #000000;\n",
              "}\n",
              "#T_984c5_row5_col10, #T_984c5_row10_col7 {\n",
              "  font-size: 6pt;\n",
              "  background-color: #e8e8e8;\n",
              "  color: #000000;\n",
              "}\n",
              "#T_984c5_row5_col11 {\n",
              "  font-size: 6pt;\n",
              "  background-color: #222222;\n",
              "  color: #f1f1f1;\n",
              "}\n",
              "#T_984c5_row5_col13, #T_984c5_row6_col12 {\n",
              "  font-size: 6pt;\n",
              "  background-color: #090909;\n",
              "  color: #f1f1f1;\n",
              "}\n",
              "#T_984c5_row5_col14 {\n",
              "  font-size: 6pt;\n",
              "  background-color: #d0d0d0;\n",
              "  color: #000000;\n",
              "}\n",
              "#T_984c5_row6_col10, #T_984c5_row7_col11, #T_984c5_row9_col6 {\n",
              "  font-size: 6pt;\n",
              "  background-color: #060606;\n",
              "  color: #f1f1f1;\n",
              "}\n",
              "#T_984c5_row6_col13 {\n",
              "  font-size: 6pt;\n",
              "  background-color: #979797;\n",
              "  color: #f1f1f1;\n",
              "}\n",
              "#T_984c5_row7_col8 {\n",
              "  font-size: 6pt;\n",
              "  background-color: #b6b6b6;\n",
              "  color: #000000;\n",
              "}\n",
              "#T_984c5_row7_col9 {\n",
              "  font-size: 6pt;\n",
              "  background-color: #252525;\n",
              "  color: #f1f1f1;\n",
              "}\n",
              "#T_984c5_row7_col12 {\n",
              "  font-size: 6pt;\n",
              "  background-color: #999999;\n",
              "  color: #f1f1f1;\n",
              "}\n",
              "#T_984c5_row8_col5 {\n",
              "  font-size: 6pt;\n",
              "  background-color: #f9f9f9;\n",
              "  color: #000000;\n",
              "}\n",
              "#T_984c5_row8_col7 {\n",
              "  font-size: 6pt;\n",
              "  background-color: #101010;\n",
              "  color: #f1f1f1;\n",
              "}\n",
              "#T_984c5_row8_col9, #T_984c5_row9_col9 {\n",
              "  font-size: 6pt;\n",
              "  background-color: #020202;\n",
              "  color: #f1f1f1;\n",
              "}\n",
              "#T_984c5_row8_col11 {\n",
              "  font-size: 6pt;\n",
              "  background-color: #545454;\n",
              "  color: #f1f1f1;\n",
              "}\n",
              "#T_984c5_row8_col12 {\n",
              "  font-size: 6pt;\n",
              "  background-color: #f1f1f1;\n",
              "  color: #000000;\n",
              "}\n",
              "#T_984c5_row9_col5 {\n",
              "  font-size: 6pt;\n",
              "  background-color: #f7f7f7;\n",
              "  color: #000000;\n",
              "}\n",
              "#T_984c5_row9_col7 {\n",
              "  font-size: 6pt;\n",
              "  background-color: #030303;\n",
              "  color: #f1f1f1;\n",
              "}\n",
              "#T_984c5_row9_col12 {\n",
              "  font-size: 6pt;\n",
              "  background-color: #181818;\n",
              "  color: #f1f1f1;\n",
              "}\n",
              "#T_984c5_row9_col13 {\n",
              "  font-size: 6pt;\n",
              "  background-color: #303030;\n",
              "  color: #f1f1f1;\n",
              "}\n",
              "#T_984c5_row9_col14 {\n",
              "  font-size: 6pt;\n",
              "  background-color: #a9a9a9;\n",
              "  color: #f1f1f1;\n",
              "}\n",
              "#T_984c5_row9_col15 {\n",
              "  font-size: 6pt;\n",
              "  background-color: #fefefe;\n",
              "  color: #000000;\n",
              "}\n",
              "#T_984c5_row10_col8, #T_984c5_row10_col9 {\n",
              "  font-size: 6pt;\n",
              "  background-color: #bababa;\n",
              "  color: #000000;\n",
              "}\n",
              "#T_984c5_row10_col10 {\n",
              "  font-size: 6pt;\n",
              "  background-color: #393939;\n",
              "  color: #f1f1f1;\n",
              "}\n",
              "</style>\n",
              "<table id=\"T_984c5\" class=\"dataframe\">\n",
              "  <thead>\n",
              "    <tr>\n",
              "      <th class=\"blank level0\" >&nbsp;</th>\n",
              "      <th id=\"T_984c5_level0_col0\" class=\"col_heading level0 col0\" >0</th>\n",
              "      <th id=\"T_984c5_level0_col1\" class=\"col_heading level0 col1\" >1</th>\n",
              "      <th id=\"T_984c5_level0_col2\" class=\"col_heading level0 col2\" >2</th>\n",
              "      <th id=\"T_984c5_level0_col3\" class=\"col_heading level0 col3\" >3</th>\n",
              "      <th id=\"T_984c5_level0_col4\" class=\"col_heading level0 col4\" >4</th>\n",
              "      <th id=\"T_984c5_level0_col5\" class=\"col_heading level0 col5\" >5</th>\n",
              "      <th id=\"T_984c5_level0_col6\" class=\"col_heading level0 col6\" >6</th>\n",
              "      <th id=\"T_984c5_level0_col7\" class=\"col_heading level0 col7\" >7</th>\n",
              "      <th id=\"T_984c5_level0_col8\" class=\"col_heading level0 col8\" >8</th>\n",
              "      <th id=\"T_984c5_level0_col9\" class=\"col_heading level0 col9\" >9</th>\n",
              "      <th id=\"T_984c5_level0_col10\" class=\"col_heading level0 col10\" >10</th>\n",
              "      <th id=\"T_984c5_level0_col11\" class=\"col_heading level0 col11\" >11</th>\n",
              "      <th id=\"T_984c5_level0_col12\" class=\"col_heading level0 col12\" >12</th>\n",
              "      <th id=\"T_984c5_level0_col13\" class=\"col_heading level0 col13\" >13</th>\n",
              "      <th id=\"T_984c5_level0_col14\" class=\"col_heading level0 col14\" >14</th>\n",
              "      <th id=\"T_984c5_level0_col15\" class=\"col_heading level0 col15\" >15</th>\n",
              "      <th id=\"T_984c5_level0_col16\" class=\"col_heading level0 col16\" >16</th>\n",
              "      <th id=\"T_984c5_level0_col17\" class=\"col_heading level0 col17\" >17</th>\n",
              "    </tr>\n",
              "  </thead>\n",
              "  <tbody>\n",
              "    <tr>\n",
              "      <th id=\"T_984c5_level0_row0\" class=\"row_heading level0 row0\" >0</th>\n",
              "      <td id=\"T_984c5_row0_col0\" class=\"data row0 col0\" >0</td>\n",
              "      <td id=\"T_984c5_row0_col1\" class=\"data row0 col1\" >0</td>\n",
              "      <td id=\"T_984c5_row0_col2\" class=\"data row0 col2\" >0</td>\n",
              "      <td id=\"T_984c5_row0_col3\" class=\"data row0 col3\" >0</td>\n",
              "      <td id=\"T_984c5_row0_col4\" class=\"data row0 col4\" >0</td>\n",
              "      <td id=\"T_984c5_row0_col5\" class=\"data row0 col5\" >0</td>\n",
              "      <td id=\"T_984c5_row0_col6\" class=\"data row0 col6\" >0</td>\n",
              "      <td id=\"T_984c5_row0_col7\" class=\"data row0 col7\" >0</td>\n",
              "      <td id=\"T_984c5_row0_col8\" class=\"data row0 col8\" >0</td>\n",
              "      <td id=\"T_984c5_row0_col9\" class=\"data row0 col9\" >0</td>\n",
              "      <td id=\"T_984c5_row0_col10\" class=\"data row0 col10\" >0</td>\n",
              "      <td id=\"T_984c5_row0_col11\" class=\"data row0 col11\" >0</td>\n",
              "      <td id=\"T_984c5_row0_col12\" class=\"data row0 col12\" >0</td>\n",
              "      <td id=\"T_984c5_row0_col13\" class=\"data row0 col13\" >0</td>\n",
              "      <td id=\"T_984c5_row0_col14\" class=\"data row0 col14\" >0</td>\n",
              "      <td id=\"T_984c5_row0_col15\" class=\"data row0 col15\" >0</td>\n",
              "      <td id=\"T_984c5_row0_col16\" class=\"data row0 col16\" >0</td>\n",
              "      <td id=\"T_984c5_row0_col17\" class=\"data row0 col17\" >0</td>\n",
              "    </tr>\n",
              "    <tr>\n",
              "      <th id=\"T_984c5_level0_row1\" class=\"row_heading level0 row1\" >1</th>\n",
              "      <td id=\"T_984c5_row1_col0\" class=\"data row1 col0\" >0</td>\n",
              "      <td id=\"T_984c5_row1_col1\" class=\"data row1 col1\" >0</td>\n",
              "      <td id=\"T_984c5_row1_col2\" class=\"data row1 col2\" >0</td>\n",
              "      <td id=\"T_984c5_row1_col3\" class=\"data row1 col3\" >0</td>\n",
              "      <td id=\"T_984c5_row1_col4\" class=\"data row1 col4\" >0</td>\n",
              "      <td id=\"T_984c5_row1_col5\" class=\"data row1 col5\" >29</td>\n",
              "      <td id=\"T_984c5_row1_col6\" class=\"data row1 col6\" >150</td>\n",
              "      <td id=\"T_984c5_row1_col7\" class=\"data row1 col7\" >195</td>\n",
              "      <td id=\"T_984c5_row1_col8\" class=\"data row1 col8\" >254</td>\n",
              "      <td id=\"T_984c5_row1_col9\" class=\"data row1 col9\" >255</td>\n",
              "      <td id=\"T_984c5_row1_col10\" class=\"data row1 col10\" >254</td>\n",
              "      <td id=\"T_984c5_row1_col11\" class=\"data row1 col11\" >176</td>\n",
              "      <td id=\"T_984c5_row1_col12\" class=\"data row1 col12\" >193</td>\n",
              "      <td id=\"T_984c5_row1_col13\" class=\"data row1 col13\" >150</td>\n",
              "      <td id=\"T_984c5_row1_col14\" class=\"data row1 col14\" >96</td>\n",
              "      <td id=\"T_984c5_row1_col15\" class=\"data row1 col15\" >0</td>\n",
              "      <td id=\"T_984c5_row1_col16\" class=\"data row1 col16\" >0</td>\n",
              "      <td id=\"T_984c5_row1_col17\" class=\"data row1 col17\" >0</td>\n",
              "    </tr>\n",
              "    <tr>\n",
              "      <th id=\"T_984c5_level0_row2\" class=\"row_heading level0 row2\" >2</th>\n",
              "      <td id=\"T_984c5_row2_col0\" class=\"data row2 col0\" >0</td>\n",
              "      <td id=\"T_984c5_row2_col1\" class=\"data row2 col1\" >0</td>\n",
              "      <td id=\"T_984c5_row2_col2\" class=\"data row2 col2\" >0</td>\n",
              "      <td id=\"T_984c5_row2_col3\" class=\"data row2 col3\" >48</td>\n",
              "      <td id=\"T_984c5_row2_col4\" class=\"data row2 col4\" >166</td>\n",
              "      <td id=\"T_984c5_row2_col5\" class=\"data row2 col5\" >224</td>\n",
              "      <td id=\"T_984c5_row2_col6\" class=\"data row2 col6\" >253</td>\n",
              "      <td id=\"T_984c5_row2_col7\" class=\"data row2 col7\" >253</td>\n",
              "      <td id=\"T_984c5_row2_col8\" class=\"data row2 col8\" >234</td>\n",
              "      <td id=\"T_984c5_row2_col9\" class=\"data row2 col9\" >196</td>\n",
              "      <td id=\"T_984c5_row2_col10\" class=\"data row2 col10\" >253</td>\n",
              "      <td id=\"T_984c5_row2_col11\" class=\"data row2 col11\" >253</td>\n",
              "      <td id=\"T_984c5_row2_col12\" class=\"data row2 col12\" >253</td>\n",
              "      <td id=\"T_984c5_row2_col13\" class=\"data row2 col13\" >253</td>\n",
              "      <td id=\"T_984c5_row2_col14\" class=\"data row2 col14\" >233</td>\n",
              "      <td id=\"T_984c5_row2_col15\" class=\"data row2 col15\" >0</td>\n",
              "      <td id=\"T_984c5_row2_col16\" class=\"data row2 col16\" >0</td>\n",
              "      <td id=\"T_984c5_row2_col17\" class=\"data row2 col17\" >0</td>\n",
              "    </tr>\n",
              "    <tr>\n",
              "      <th id=\"T_984c5_level0_row3\" class=\"row_heading level0 row3\" >3</th>\n",
              "      <td id=\"T_984c5_row3_col0\" class=\"data row3 col0\" >0</td>\n",
              "      <td id=\"T_984c5_row3_col1\" class=\"data row3 col1\" >93</td>\n",
              "      <td id=\"T_984c5_row3_col2\" class=\"data row3 col2\" >244</td>\n",
              "      <td id=\"T_984c5_row3_col3\" class=\"data row3 col3\" >249</td>\n",
              "      <td id=\"T_984c5_row3_col4\" class=\"data row3 col4\" >253</td>\n",
              "      <td id=\"T_984c5_row3_col5\" class=\"data row3 col5\" >187</td>\n",
              "      <td id=\"T_984c5_row3_col6\" class=\"data row3 col6\" >46</td>\n",
              "      <td id=\"T_984c5_row3_col7\" class=\"data row3 col7\" >10</td>\n",
              "      <td id=\"T_984c5_row3_col8\" class=\"data row3 col8\" >8</td>\n",
              "      <td id=\"T_984c5_row3_col9\" class=\"data row3 col9\" >4</td>\n",
              "      <td id=\"T_984c5_row3_col10\" class=\"data row3 col10\" >10</td>\n",
              "      <td id=\"T_984c5_row3_col11\" class=\"data row3 col11\" >194</td>\n",
              "      <td id=\"T_984c5_row3_col12\" class=\"data row3 col12\" >253</td>\n",
              "      <td id=\"T_984c5_row3_col13\" class=\"data row3 col13\" >253</td>\n",
              "      <td id=\"T_984c5_row3_col14\" class=\"data row3 col14\" >233</td>\n",
              "      <td id=\"T_984c5_row3_col15\" class=\"data row3 col15\" >0</td>\n",
              "      <td id=\"T_984c5_row3_col16\" class=\"data row3 col16\" >0</td>\n",
              "      <td id=\"T_984c5_row3_col17\" class=\"data row3 col17\" >0</td>\n",
              "    </tr>\n",
              "    <tr>\n",
              "      <th id=\"T_984c5_level0_row4\" class=\"row_heading level0 row4\" >4</th>\n",
              "      <td id=\"T_984c5_row4_col0\" class=\"data row4 col0\" >0</td>\n",
              "      <td id=\"T_984c5_row4_col1\" class=\"data row4 col1\" >107</td>\n",
              "      <td id=\"T_984c5_row4_col2\" class=\"data row4 col2\" >253</td>\n",
              "      <td id=\"T_984c5_row4_col3\" class=\"data row4 col3\" >253</td>\n",
              "      <td id=\"T_984c5_row4_col4\" class=\"data row4 col4\" >230</td>\n",
              "      <td id=\"T_984c5_row4_col5\" class=\"data row4 col5\" >48</td>\n",
              "      <td id=\"T_984c5_row4_col6\" class=\"data row4 col6\" >0</td>\n",
              "      <td id=\"T_984c5_row4_col7\" class=\"data row4 col7\" >0</td>\n",
              "      <td id=\"T_984c5_row4_col8\" class=\"data row4 col8\" >0</td>\n",
              "      <td id=\"T_984c5_row4_col9\" class=\"data row4 col9\" >0</td>\n",
              "      <td id=\"T_984c5_row4_col10\" class=\"data row4 col10\" >0</td>\n",
              "      <td id=\"T_984c5_row4_col11\" class=\"data row4 col11\" >192</td>\n",
              "      <td id=\"T_984c5_row4_col12\" class=\"data row4 col12\" >253</td>\n",
              "      <td id=\"T_984c5_row4_col13\" class=\"data row4 col13\" >253</td>\n",
              "      <td id=\"T_984c5_row4_col14\" class=\"data row4 col14\" >156</td>\n",
              "      <td id=\"T_984c5_row4_col15\" class=\"data row4 col15\" >0</td>\n",
              "      <td id=\"T_984c5_row4_col16\" class=\"data row4 col16\" >0</td>\n",
              "      <td id=\"T_984c5_row4_col17\" class=\"data row4 col17\" >0</td>\n",
              "    </tr>\n",
              "    <tr>\n",
              "      <th id=\"T_984c5_level0_row5\" class=\"row_heading level0 row5\" >5</th>\n",
              "      <td id=\"T_984c5_row5_col0\" class=\"data row5 col0\" >0</td>\n",
              "      <td id=\"T_984c5_row5_col1\" class=\"data row5 col1\" >3</td>\n",
              "      <td id=\"T_984c5_row5_col2\" class=\"data row5 col2\" >20</td>\n",
              "      <td id=\"T_984c5_row5_col3\" class=\"data row5 col3\" >20</td>\n",
              "      <td id=\"T_984c5_row5_col4\" class=\"data row5 col4\" >15</td>\n",
              "      <td id=\"T_984c5_row5_col5\" class=\"data row5 col5\" >0</td>\n",
              "      <td id=\"T_984c5_row5_col6\" class=\"data row5 col6\" >0</td>\n",
              "      <td id=\"T_984c5_row5_col7\" class=\"data row5 col7\" >0</td>\n",
              "      <td id=\"T_984c5_row5_col8\" class=\"data row5 col8\" >0</td>\n",
              "      <td id=\"T_984c5_row5_col9\" class=\"data row5 col9\" >0</td>\n",
              "      <td id=\"T_984c5_row5_col10\" class=\"data row5 col10\" >43</td>\n",
              "      <td id=\"T_984c5_row5_col11\" class=\"data row5 col11\" >224</td>\n",
              "      <td id=\"T_984c5_row5_col12\" class=\"data row5 col12\" >253</td>\n",
              "      <td id=\"T_984c5_row5_col13\" class=\"data row5 col13\" >245</td>\n",
              "      <td id=\"T_984c5_row5_col14\" class=\"data row5 col14\" >74</td>\n",
              "      <td id=\"T_984c5_row5_col15\" class=\"data row5 col15\" >0</td>\n",
              "      <td id=\"T_984c5_row5_col16\" class=\"data row5 col16\" >0</td>\n",
              "      <td id=\"T_984c5_row5_col17\" class=\"data row5 col17\" >0</td>\n",
              "    </tr>\n",
              "    <tr>\n",
              "      <th id=\"T_984c5_level0_row6\" class=\"row_heading level0 row6\" >6</th>\n",
              "      <td id=\"T_984c5_row6_col0\" class=\"data row6 col0\" >0</td>\n",
              "      <td id=\"T_984c5_row6_col1\" class=\"data row6 col1\" >0</td>\n",
              "      <td id=\"T_984c5_row6_col2\" class=\"data row6 col2\" >0</td>\n",
              "      <td id=\"T_984c5_row6_col3\" class=\"data row6 col3\" >0</td>\n",
              "      <td id=\"T_984c5_row6_col4\" class=\"data row6 col4\" >0</td>\n",
              "      <td id=\"T_984c5_row6_col5\" class=\"data row6 col5\" >0</td>\n",
              "      <td id=\"T_984c5_row6_col6\" class=\"data row6 col6\" >0</td>\n",
              "      <td id=\"T_984c5_row6_col7\" class=\"data row6 col7\" >0</td>\n",
              "      <td id=\"T_984c5_row6_col8\" class=\"data row6 col8\" >0</td>\n",
              "      <td id=\"T_984c5_row6_col9\" class=\"data row6 col9\" >0</td>\n",
              "      <td id=\"T_984c5_row6_col10\" class=\"data row6 col10\" >249</td>\n",
              "      <td id=\"T_984c5_row6_col11\" class=\"data row6 col11\" >253</td>\n",
              "      <td id=\"T_984c5_row6_col12\" class=\"data row6 col12\" >245</td>\n",
              "      <td id=\"T_984c5_row6_col13\" class=\"data row6 col13\" >126</td>\n",
              "      <td id=\"T_984c5_row6_col14\" class=\"data row6 col14\" >0</td>\n",
              "      <td id=\"T_984c5_row6_col15\" class=\"data row6 col15\" >0</td>\n",
              "      <td id=\"T_984c5_row6_col16\" class=\"data row6 col16\" >0</td>\n",
              "      <td id=\"T_984c5_row6_col17\" class=\"data row6 col17\" >0</td>\n",
              "    </tr>\n",
              "    <tr>\n",
              "      <th id=\"T_984c5_level0_row7\" class=\"row_heading level0 row7\" >7</th>\n",
              "      <td id=\"T_984c5_row7_col0\" class=\"data row7 col0\" >0</td>\n",
              "      <td id=\"T_984c5_row7_col1\" class=\"data row7 col1\" >0</td>\n",
              "      <td id=\"T_984c5_row7_col2\" class=\"data row7 col2\" >0</td>\n",
              "      <td id=\"T_984c5_row7_col3\" class=\"data row7 col3\" >0</td>\n",
              "      <td id=\"T_984c5_row7_col4\" class=\"data row7 col4\" >0</td>\n",
              "      <td id=\"T_984c5_row7_col5\" class=\"data row7 col5\" >0</td>\n",
              "      <td id=\"T_984c5_row7_col6\" class=\"data row7 col6\" >0</td>\n",
              "      <td id=\"T_984c5_row7_col7\" class=\"data row7 col7\" >14</td>\n",
              "      <td id=\"T_984c5_row7_col8\" class=\"data row7 col8\" >101</td>\n",
              "      <td id=\"T_984c5_row7_col9\" class=\"data row7 col9\" >223</td>\n",
              "      <td id=\"T_984c5_row7_col10\" class=\"data row7 col10\" >253</td>\n",
              "      <td id=\"T_984c5_row7_col11\" class=\"data row7 col11\" >248</td>\n",
              "      <td id=\"T_984c5_row7_col12\" class=\"data row7 col12\" >124</td>\n",
              "      <td id=\"T_984c5_row7_col13\" class=\"data row7 col13\" >0</td>\n",
              "      <td id=\"T_984c5_row7_col14\" class=\"data row7 col14\" >0</td>\n",
              "      <td id=\"T_984c5_row7_col15\" class=\"data row7 col15\" >0</td>\n",
              "      <td id=\"T_984c5_row7_col16\" class=\"data row7 col16\" >0</td>\n",
              "      <td id=\"T_984c5_row7_col17\" class=\"data row7 col17\" >0</td>\n",
              "    </tr>\n",
              "    <tr>\n",
              "      <th id=\"T_984c5_level0_row8\" class=\"row_heading level0 row8\" >8</th>\n",
              "      <td id=\"T_984c5_row8_col0\" class=\"data row8 col0\" >0</td>\n",
              "      <td id=\"T_984c5_row8_col1\" class=\"data row8 col1\" >0</td>\n",
              "      <td id=\"T_984c5_row8_col2\" class=\"data row8 col2\" >0</td>\n",
              "      <td id=\"T_984c5_row8_col3\" class=\"data row8 col3\" >0</td>\n",
              "      <td id=\"T_984c5_row8_col4\" class=\"data row8 col4\" >0</td>\n",
              "      <td id=\"T_984c5_row8_col5\" class=\"data row8 col5\" >11</td>\n",
              "      <td id=\"T_984c5_row8_col6\" class=\"data row8 col6\" >166</td>\n",
              "      <td id=\"T_984c5_row8_col7\" class=\"data row8 col7\" >239</td>\n",
              "      <td id=\"T_984c5_row8_col8\" class=\"data row8 col8\" >253</td>\n",
              "      <td id=\"T_984c5_row8_col9\" class=\"data row8 col9\" >253</td>\n",
              "      <td id=\"T_984c5_row8_col10\" class=\"data row8 col10\" >253</td>\n",
              "      <td id=\"T_984c5_row8_col11\" class=\"data row8 col11\" >187</td>\n",
              "      <td id=\"T_984c5_row8_col12\" class=\"data row8 col12\" >30</td>\n",
              "      <td id=\"T_984c5_row8_col13\" class=\"data row8 col13\" >0</td>\n",
              "      <td id=\"T_984c5_row8_col14\" class=\"data row8 col14\" >0</td>\n",
              "      <td id=\"T_984c5_row8_col15\" class=\"data row8 col15\" >0</td>\n",
              "      <td id=\"T_984c5_row8_col16\" class=\"data row8 col16\" >0</td>\n",
              "      <td id=\"T_984c5_row8_col17\" class=\"data row8 col17\" >0</td>\n",
              "    </tr>\n",
              "    <tr>\n",
              "      <th id=\"T_984c5_level0_row9\" class=\"row_heading level0 row9\" >9</th>\n",
              "      <td id=\"T_984c5_row9_col0\" class=\"data row9 col0\" >0</td>\n",
              "      <td id=\"T_984c5_row9_col1\" class=\"data row9 col1\" >0</td>\n",
              "      <td id=\"T_984c5_row9_col2\" class=\"data row9 col2\" >0</td>\n",
              "      <td id=\"T_984c5_row9_col3\" class=\"data row9 col3\" >0</td>\n",
              "      <td id=\"T_984c5_row9_col4\" class=\"data row9 col4\" >0</td>\n",
              "      <td id=\"T_984c5_row9_col5\" class=\"data row9 col5\" >16</td>\n",
              "      <td id=\"T_984c5_row9_col6\" class=\"data row9 col6\" >248</td>\n",
              "      <td id=\"T_984c5_row9_col7\" class=\"data row9 col7\" >250</td>\n",
              "      <td id=\"T_984c5_row9_col8\" class=\"data row9 col8\" >253</td>\n",
              "      <td id=\"T_984c5_row9_col9\" class=\"data row9 col9\" >253</td>\n",
              "      <td id=\"T_984c5_row9_col10\" class=\"data row9 col10\" >253</td>\n",
              "      <td id=\"T_984c5_row9_col11\" class=\"data row9 col11\" >253</td>\n",
              "      <td id=\"T_984c5_row9_col12\" class=\"data row9 col12\" >232</td>\n",
              "      <td id=\"T_984c5_row9_col13\" class=\"data row9 col13\" >213</td>\n",
              "      <td id=\"T_984c5_row9_col14\" class=\"data row9 col14\" >111</td>\n",
              "      <td id=\"T_984c5_row9_col15\" class=\"data row9 col15\" >2</td>\n",
              "      <td id=\"T_984c5_row9_col16\" class=\"data row9 col16\" >0</td>\n",
              "      <td id=\"T_984c5_row9_col17\" class=\"data row9 col17\" >0</td>\n",
              "    </tr>\n",
              "    <tr>\n",
              "      <th id=\"T_984c5_level0_row10\" class=\"row_heading level0 row10\" >10</th>\n",
              "      <td id=\"T_984c5_row10_col0\" class=\"data row10 col0\" >0</td>\n",
              "      <td id=\"T_984c5_row10_col1\" class=\"data row10 col1\" >0</td>\n",
              "      <td id=\"T_984c5_row10_col2\" class=\"data row10 col2\" >0</td>\n",
              "      <td id=\"T_984c5_row10_col3\" class=\"data row10 col3\" >0</td>\n",
              "      <td id=\"T_984c5_row10_col4\" class=\"data row10 col4\" >0</td>\n",
              "      <td id=\"T_984c5_row10_col5\" class=\"data row10 col5\" >0</td>\n",
              "      <td id=\"T_984c5_row10_col6\" class=\"data row10 col6\" >0</td>\n",
              "      <td id=\"T_984c5_row10_col7\" class=\"data row10 col7\" >43</td>\n",
              "      <td id=\"T_984c5_row10_col8\" class=\"data row10 col8\" >98</td>\n",
              "      <td id=\"T_984c5_row10_col9\" class=\"data row10 col9\" >98</td>\n",
              "      <td id=\"T_984c5_row10_col10\" class=\"data row10 col10\" >208</td>\n",
              "      <td id=\"T_984c5_row10_col11\" class=\"data row10 col11\" >253</td>\n",
              "      <td id=\"T_984c5_row10_col12\" class=\"data row10 col12\" >253</td>\n",
              "      <td id=\"T_984c5_row10_col13\" class=\"data row10 col13\" >253</td>\n",
              "      <td id=\"T_984c5_row10_col14\" class=\"data row10 col14\" >253</td>\n",
              "      <td id=\"T_984c5_row10_col15\" class=\"data row10 col15\" >187</td>\n",
              "      <td id=\"T_984c5_row10_col16\" class=\"data row10 col16\" >22</td>\n",
              "      <td id=\"T_984c5_row10_col17\" class=\"data row10 col17\" >0</td>\n",
              "    </tr>\n",
              "  </tbody>\n",
              "</table>\n"
            ]
          },
          "metadata": {},
          "execution_count": 13
        }
      ],
      "source": [
        "# We can slice the array to pick just the part with the top of the digit and then use Pandas data frame to color code\n",
        "# the values using a gradient, which shows us clearly how the image is created from the pixel values\n",
        "im3_t = tensor(im3)\n",
        "df = pd.DataFrame(im3_t[4:15,4:22])\n",
        "df.style.set_properties(**{'font-size':'6pt'}).background_gradient('Greys')\n",
        "\n",
        "# You can see that the background white pixels are stored as the number 0, black is the number 255,\n",
        "# and shades of gray are between the two. The entire image contains 28 pixels across and 28 pixels down,\n",
        "# for a total of 784 pixels. (This is much smaller than an image that you would get from a phone camera,\n",
        "# which has millions of pixels, but is a convenient size for our initial learning and experiments."
      ]
    },
    {
      "cell_type": "code",
      "source": [],
      "metadata": {
        "id": "WT8MarjbWcG3"
      },
      "execution_count": 13,
      "outputs": []
    },
    {
      "cell_type": "code",
      "source": [
        "# Another version of the same display with a different set of indices\n",
        "im3_t_2 = tensor(im3)\n",
        "df = pd.DataFrame(im3_t_2[4:55,4:55])\n",
        "df.style.set_properties(**{'font-size':'6pt'}).background_gradient('Greys')\n"
      ],
      "metadata": {
        "colab": {
          "base_uri": "https://localhost:8080/",
          "height": 802
        },
        "id": "feRkg2SHVjb7",
        "outputId": "805a2b7a-e4d2-4012-cd45-05d7d1a46958"
      },
      "execution_count": 14,
      "outputs": [
        {
          "output_type": "execute_result",
          "data": {
            "text/plain": [
              "<pandas.io.formats.style.Styler at 0x7c73bc9f5990>"
            ],
            "text/html": [
              "<style type=\"text/css\">\n",
              "#T_80d29_row0_col0, #T_80d29_row0_col1, #T_80d29_row0_col2, #T_80d29_row0_col3, #T_80d29_row0_col4, #T_80d29_row0_col5, #T_80d29_row0_col6, #T_80d29_row0_col7, #T_80d29_row0_col8, #T_80d29_row0_col9, #T_80d29_row0_col10, #T_80d29_row0_col11, #T_80d29_row0_col12, #T_80d29_row0_col13, #T_80d29_row0_col14, #T_80d29_row0_col15, #T_80d29_row0_col16, #T_80d29_row0_col17, #T_80d29_row0_col18, #T_80d29_row0_col19, #T_80d29_row0_col20, #T_80d29_row0_col21, #T_80d29_row0_col22, #T_80d29_row0_col23, #T_80d29_row1_col0, #T_80d29_row1_col1, #T_80d29_row1_col2, #T_80d29_row1_col3, #T_80d29_row1_col4, #T_80d29_row1_col15, #T_80d29_row1_col16, #T_80d29_row1_col17, #T_80d29_row1_col18, #T_80d29_row1_col19, #T_80d29_row1_col20, #T_80d29_row1_col21, #T_80d29_row1_col22, #T_80d29_row1_col23, #T_80d29_row2_col0, #T_80d29_row2_col1, #T_80d29_row2_col2, #T_80d29_row2_col15, #T_80d29_row2_col16, #T_80d29_row2_col17, #T_80d29_row2_col18, #T_80d29_row2_col19, #T_80d29_row2_col20, #T_80d29_row2_col21, #T_80d29_row2_col22, #T_80d29_row2_col23, #T_80d29_row3_col0, #T_80d29_row3_col15, #T_80d29_row3_col16, #T_80d29_row3_col17, #T_80d29_row3_col18, #T_80d29_row3_col19, #T_80d29_row3_col20, #T_80d29_row3_col21, #T_80d29_row3_col22, #T_80d29_row3_col23, #T_80d29_row4_col0, #T_80d29_row4_col6, #T_80d29_row4_col7, #T_80d29_row4_col8, #T_80d29_row4_col9, #T_80d29_row4_col10, #T_80d29_row4_col15, #T_80d29_row4_col16, #T_80d29_row4_col17, #T_80d29_row4_col18, #T_80d29_row4_col19, #T_80d29_row4_col20, #T_80d29_row4_col21, #T_80d29_row4_col22, #T_80d29_row4_col23, #T_80d29_row5_col0, #T_80d29_row5_col5, #T_80d29_row5_col6, #T_80d29_row5_col7, #T_80d29_row5_col8, #T_80d29_row5_col9, #T_80d29_row5_col15, #T_80d29_row5_col16, #T_80d29_row5_col17, #T_80d29_row5_col18, #T_80d29_row5_col19, #T_80d29_row5_col20, #T_80d29_row5_col21, #T_80d29_row5_col22, #T_80d29_row5_col23, #T_80d29_row6_col0, #T_80d29_row6_col1, #T_80d29_row6_col2, #T_80d29_row6_col3, #T_80d29_row6_col4, #T_80d29_row6_col5, #T_80d29_row6_col6, #T_80d29_row6_col7, #T_80d29_row6_col8, #T_80d29_row6_col9, #T_80d29_row6_col14, #T_80d29_row6_col15, #T_80d29_row6_col16, #T_80d29_row6_col17, #T_80d29_row6_col18, #T_80d29_row6_col19, #T_80d29_row6_col20, #T_80d29_row6_col21, #T_80d29_row6_col22, #T_80d29_row6_col23, #T_80d29_row7_col0, #T_80d29_row7_col1, #T_80d29_row7_col2, #T_80d29_row7_col3, #T_80d29_row7_col4, #T_80d29_row7_col5, #T_80d29_row7_col6, #T_80d29_row7_col13, #T_80d29_row7_col14, #T_80d29_row7_col15, #T_80d29_row7_col16, #T_80d29_row7_col17, #T_80d29_row7_col18, #T_80d29_row7_col19, #T_80d29_row7_col20, #T_80d29_row7_col21, #T_80d29_row7_col22, #T_80d29_row7_col23, #T_80d29_row8_col0, #T_80d29_row8_col1, #T_80d29_row8_col2, #T_80d29_row8_col3, #T_80d29_row8_col4, #T_80d29_row8_col13, #T_80d29_row8_col14, #T_80d29_row8_col15, #T_80d29_row8_col16, #T_80d29_row8_col17, #T_80d29_row8_col18, #T_80d29_row8_col19, #T_80d29_row8_col20, #T_80d29_row8_col21, #T_80d29_row8_col22, #T_80d29_row8_col23, #T_80d29_row9_col0, #T_80d29_row9_col1, #T_80d29_row9_col2, #T_80d29_row9_col3, #T_80d29_row9_col4, #T_80d29_row9_col16, #T_80d29_row9_col17, #T_80d29_row9_col18, #T_80d29_row9_col19, #T_80d29_row9_col20, #T_80d29_row9_col21, #T_80d29_row9_col22, #T_80d29_row9_col23, #T_80d29_row10_col0, #T_80d29_row10_col1, #T_80d29_row10_col2, #T_80d29_row10_col3, #T_80d29_row10_col4, #T_80d29_row10_col5, #T_80d29_row10_col6, #T_80d29_row10_col17, #T_80d29_row10_col18, #T_80d29_row10_col19, #T_80d29_row10_col20, #T_80d29_row10_col21, #T_80d29_row10_col22, #T_80d29_row10_col23, #T_80d29_row11_col0, #T_80d29_row11_col1, #T_80d29_row11_col2, #T_80d29_row11_col3, #T_80d29_row11_col4, #T_80d29_row11_col5, #T_80d29_row11_col6, #T_80d29_row11_col7, #T_80d29_row11_col8, #T_80d29_row11_col9, #T_80d29_row11_col17, #T_80d29_row11_col18, #T_80d29_row11_col19, #T_80d29_row11_col20, #T_80d29_row11_col21, #T_80d29_row11_col22, #T_80d29_row11_col23, #T_80d29_row12_col0, #T_80d29_row12_col1, #T_80d29_row12_col2, #T_80d29_row12_col3, #T_80d29_row12_col4, #T_80d29_row12_col5, #T_80d29_row12_col6, #T_80d29_row12_col7, #T_80d29_row12_col8, #T_80d29_row12_col9, #T_80d29_row12_col10, #T_80d29_row12_col11, #T_80d29_row12_col12, #T_80d29_row12_col17, #T_80d29_row12_col18, #T_80d29_row12_col19, #T_80d29_row12_col20, #T_80d29_row12_col21, #T_80d29_row12_col22, #T_80d29_row12_col23, #T_80d29_row13_col0, #T_80d29_row13_col1, #T_80d29_row13_col2, #T_80d29_row13_col3, #T_80d29_row13_col4, #T_80d29_row13_col5, #T_80d29_row13_col6, #T_80d29_row13_col7, #T_80d29_row13_col8, #T_80d29_row13_col9, #T_80d29_row13_col10, #T_80d29_row13_col11, #T_80d29_row13_col12, #T_80d29_row13_col17, #T_80d29_row13_col18, #T_80d29_row13_col19, #T_80d29_row13_col20, #T_80d29_row13_col21, #T_80d29_row13_col22, #T_80d29_row13_col23, #T_80d29_row14_col0, #T_80d29_row14_col1, #T_80d29_row14_col2, #T_80d29_row14_col3, #T_80d29_row14_col4, #T_80d29_row14_col5, #T_80d29_row14_col6, #T_80d29_row14_col7, #T_80d29_row14_col8, #T_80d29_row14_col9, #T_80d29_row14_col10, #T_80d29_row14_col11, #T_80d29_row14_col17, #T_80d29_row14_col18, #T_80d29_row14_col19, #T_80d29_row14_col20, #T_80d29_row14_col21, #T_80d29_row14_col22, #T_80d29_row14_col23, #T_80d29_row15_col0, #T_80d29_row15_col1, #T_80d29_row15_col2, #T_80d29_row15_col3, #T_80d29_row15_col4, #T_80d29_row15_col5, #T_80d29_row15_col6, #T_80d29_row15_col7, #T_80d29_row15_col8, #T_80d29_row15_col9, #T_80d29_row15_col10, #T_80d29_row15_col17, #T_80d29_row15_col18, #T_80d29_row15_col19, #T_80d29_row15_col20, #T_80d29_row15_col21, #T_80d29_row15_col22, #T_80d29_row15_col23, #T_80d29_row16_col0, #T_80d29_row16_col1, #T_80d29_row16_col2, #T_80d29_row16_col3, #T_80d29_row16_col4, #T_80d29_row16_col5, #T_80d29_row16_col6, #T_80d29_row16_col7, #T_80d29_row16_col8, #T_80d29_row16_col9, #T_80d29_row16_col16, #T_80d29_row16_col17, #T_80d29_row16_col18, #T_80d29_row16_col19, #T_80d29_row16_col20, #T_80d29_row16_col21, #T_80d29_row16_col22, #T_80d29_row16_col23, #T_80d29_row17_col0, #T_80d29_row17_col1, #T_80d29_row17_col2, #T_80d29_row17_col3, #T_80d29_row17_col4, #T_80d29_row17_col5, #T_80d29_row17_col6, #T_80d29_row17_col7, #T_80d29_row17_col15, #T_80d29_row17_col16, #T_80d29_row17_col17, #T_80d29_row17_col18, #T_80d29_row17_col19, #T_80d29_row17_col20, #T_80d29_row17_col21, #T_80d29_row17_col22, #T_80d29_row17_col23, #T_80d29_row18_col0, #T_80d29_row18_col1, #T_80d29_row18_col14, #T_80d29_row18_col15, #T_80d29_row18_col16, #T_80d29_row18_col17, #T_80d29_row18_col18, #T_80d29_row18_col19, #T_80d29_row18_col20, #T_80d29_row18_col21, #T_80d29_row18_col22, #T_80d29_row18_col23, #T_80d29_row19_col0, #T_80d29_row19_col1, #T_80d29_row19_col12, #T_80d29_row19_col13, #T_80d29_row19_col14, #T_80d29_row19_col15, #T_80d29_row19_col16, #T_80d29_row19_col17, #T_80d29_row19_col18, #T_80d29_row19_col19, #T_80d29_row19_col20, #T_80d29_row19_col21, #T_80d29_row19_col22, #T_80d29_row19_col23, #T_80d29_row20_col0, #T_80d29_row20_col1, #T_80d29_row20_col10, #T_80d29_row20_col11, #T_80d29_row20_col12, #T_80d29_row20_col13, #T_80d29_row20_col14, #T_80d29_row20_col15, #T_80d29_row20_col16, #T_80d29_row20_col17, #T_80d29_row20_col18, #T_80d29_row20_col19, #T_80d29_row20_col20, #T_80d29_row20_col21, #T_80d29_row20_col22, #T_80d29_row20_col23, #T_80d29_row21_col0, #T_80d29_row21_col1, #T_80d29_row21_col2, #T_80d29_row21_col3, #T_80d29_row21_col4, #T_80d29_row21_col5, #T_80d29_row21_col6, #T_80d29_row21_col7, #T_80d29_row21_col8, #T_80d29_row21_col9, #T_80d29_row21_col10, #T_80d29_row21_col11, #T_80d29_row21_col12, #T_80d29_row21_col13, #T_80d29_row21_col14, #T_80d29_row21_col15, #T_80d29_row21_col16, #T_80d29_row21_col17, #T_80d29_row21_col18, #T_80d29_row21_col19, #T_80d29_row21_col20, #T_80d29_row21_col21, #T_80d29_row21_col22, #T_80d29_row21_col23, #T_80d29_row22_col0, #T_80d29_row22_col1, #T_80d29_row22_col2, #T_80d29_row22_col3, #T_80d29_row22_col4, #T_80d29_row22_col5, #T_80d29_row22_col6, #T_80d29_row22_col7, #T_80d29_row22_col8, #T_80d29_row22_col9, #T_80d29_row22_col10, #T_80d29_row22_col11, #T_80d29_row22_col12, #T_80d29_row22_col13, #T_80d29_row22_col14, #T_80d29_row22_col15, #T_80d29_row22_col16, #T_80d29_row22_col17, #T_80d29_row22_col18, #T_80d29_row22_col19, #T_80d29_row22_col20, #T_80d29_row22_col21, #T_80d29_row22_col22, #T_80d29_row22_col23, #T_80d29_row23_col0, #T_80d29_row23_col1, #T_80d29_row23_col2, #T_80d29_row23_col3, #T_80d29_row23_col4, #T_80d29_row23_col5, #T_80d29_row23_col6, #T_80d29_row23_col7, #T_80d29_row23_col8, #T_80d29_row23_col9, #T_80d29_row23_col10, #T_80d29_row23_col11, #T_80d29_row23_col12, #T_80d29_row23_col13, #T_80d29_row23_col14, #T_80d29_row23_col15, #T_80d29_row23_col16, #T_80d29_row23_col17, #T_80d29_row23_col18, #T_80d29_row23_col19, #T_80d29_row23_col20, #T_80d29_row23_col21, #T_80d29_row23_col22, #T_80d29_row23_col23 {\n",
              "  font-size: 6pt;\n",
              "  background-color: #ffffff;\n",
              "  color: #000000;\n",
              "}\n",
              "#T_80d29_row1_col5, #T_80d29_row8_col12 {\n",
              "  font-size: 6pt;\n",
              "  background-color: #f1f1f1;\n",
              "  color: #000000;\n",
              "}\n",
              "#T_80d29_row1_col6, #T_80d29_row1_col13 {\n",
              "  font-size: 6pt;\n",
              "  background-color: #7c7c7c;\n",
              "  color: #f1f1f1;\n",
              "}\n",
              "#T_80d29_row1_col7 {\n",
              "  font-size: 6pt;\n",
              "  background-color: #4a4a4a;\n",
              "  color: #f1f1f1;\n",
              "}\n",
              "#T_80d29_row1_col8, #T_80d29_row1_col9, #T_80d29_row1_col10, #T_80d29_row2_col6, #T_80d29_row2_col7, #T_80d29_row2_col11, #T_80d29_row2_col12, #T_80d29_row2_col13, #T_80d29_row3_col4, #T_80d29_row3_col12, #T_80d29_row3_col13, #T_80d29_row4_col1, #T_80d29_row4_col2, #T_80d29_row4_col3, #T_80d29_row4_col12, #T_80d29_row4_col13, #T_80d29_row5_col12, #T_80d29_row6_col11, #T_80d29_row9_col11, #T_80d29_row10_col11, #T_80d29_row10_col12, #T_80d29_row10_col13, #T_80d29_row10_col14, #T_80d29_row11_col13, #T_80d29_row11_col14, #T_80d29_row11_col15, #T_80d29_row12_col14, #T_80d29_row12_col15, #T_80d29_row12_col16, #T_80d29_row13_col14, #T_80d29_row13_col15, #T_80d29_row14_col14, #T_80d29_row14_col15, #T_80d29_row15_col13, #T_80d29_row15_col14, #T_80d29_row16_col12, #T_80d29_row16_col13, #T_80d29_row17_col11, #T_80d29_row17_col12, #T_80d29_row19_col3, #T_80d29_row19_col4, #T_80d29_row19_col5, #T_80d29_row19_col6, #T_80d29_row19_col7, #T_80d29_row20_col3, #T_80d29_row20_col4, #T_80d29_row20_col5, #T_80d29_row20_col6, #T_80d29_row20_col7 {\n",
              "  font-size: 6pt;\n",
              "  background-color: #000000;\n",
              "  color: #f1f1f1;\n",
              "}\n",
              "#T_80d29_row1_col11 {\n",
              "  font-size: 6pt;\n",
              "  background-color: #606060;\n",
              "  color: #f1f1f1;\n",
              "}\n",
              "#T_80d29_row1_col12 {\n",
              "  font-size: 6pt;\n",
              "  background-color: #4d4d4d;\n",
              "  color: #f1f1f1;\n",
              "}\n",
              "#T_80d29_row1_col14 {\n",
              "  font-size: 6pt;\n",
              "  background-color: #bbbbbb;\n",
              "  color: #000000;\n",
              "}\n",
              "#T_80d29_row2_col3, #T_80d29_row4_col5 {\n",
              "  font-size: 6pt;\n",
              "  background-color: #e4e4e4;\n",
              "  color: #000000;\n",
              "}\n",
              "#T_80d29_row2_col4, #T_80d29_row8_col6 {\n",
              "  font-size: 6pt;\n",
              "  background-color: #6b6b6b;\n",
              "  color: #f1f1f1;\n",
              "}\n",
              "#T_80d29_row2_col5, #T_80d29_row5_col11 {\n",
              "  font-size: 6pt;\n",
              "  background-color: #222222;\n",
              "  color: #f1f1f1;\n",
              "}\n",
              "#T_80d29_row2_col8, #T_80d29_row2_col14, #T_80d29_row3_col14, #T_80d29_row17_col13 {\n",
              "  font-size: 6pt;\n",
              "  background-color: #171717;\n",
              "  color: #f1f1f1;\n",
              "}\n",
              "#T_80d29_row2_col9, #T_80d29_row3_col11 {\n",
              "  font-size: 6pt;\n",
              "  background-color: #4b4b4b;\n",
              "  color: #f1f1f1;\n",
              "}\n",
              "#T_80d29_row2_col10, #T_80d29_row7_col10, #T_80d29_row8_col8, #T_80d29_row8_col10, #T_80d29_row9_col8, #T_80d29_row9_col10, #T_80d29_row18_col10, #T_80d29_row19_col8 {\n",
              "  font-size: 6pt;\n",
              "  background-color: #010101;\n",
              "  color: #f1f1f1;\n",
              "}\n",
              "#T_80d29_row3_col1 {\n",
              "  font-size: 6pt;\n",
              "  background-color: #272727;\n",
              "  color: #f1f1f1;\n",
              "}\n",
              "#T_80d29_row3_col2 {\n",
              "  font-size: 6pt;\n",
              "  background-color: #0a0a0a;\n",
              "  color: #f1f1f1;\n",
              "}\n",
              "#T_80d29_row3_col3, #T_80d29_row14_col13 {\n",
              "  font-size: 6pt;\n",
              "  background-color: #050505;\n",
              "  color: #f1f1f1;\n",
              "}\n",
              "#T_80d29_row3_col5, #T_80d29_row8_col11, #T_80d29_row10_col15, #T_80d29_row19_col2 {\n",
              "  font-size: 6pt;\n",
              "  background-color: #545454;\n",
              "  color: #f1f1f1;\n",
              "}\n",
              "#T_80d29_row3_col6 {\n",
              "  font-size: 6pt;\n",
              "  background-color: #e6e6e6;\n",
              "  color: #000000;\n",
              "}\n",
              "#T_80d29_row3_col7, #T_80d29_row3_col10, #T_80d29_row8_col5 {\n",
              "  font-size: 6pt;\n",
              "  background-color: #fafafa;\n",
              "  color: #000000;\n",
              "}\n",
              "#T_80d29_row3_col8, #T_80d29_row11_col10, #T_80d29_row16_col15 {\n",
              "  font-size: 6pt;\n",
              "  background-color: #fbfbfb;\n",
              "  color: #000000;\n",
              "}\n",
              "#T_80d29_row3_col9 {\n",
              "  font-size: 6pt;\n",
              "  background-color: #fdfdfd;\n",
              "  color: #000000;\n",
              "}\n",
              "#T_80d29_row4_col4 {\n",
              "  font-size: 6pt;\n",
              "  background-color: #1b1b1b;\n",
              "  color: #f1f1f1;\n",
              "}\n",
              "#T_80d29_row4_col11 {\n",
              "  font-size: 6pt;\n",
              "  background-color: #4e4e4e;\n",
              "  color: #f1f1f1;\n",
              "}\n",
              "#T_80d29_row4_col14 {\n",
              "  font-size: 6pt;\n",
              "  background-color: #767676;\n",
              "  color: #f1f1f1;\n",
              "}\n",
              "#T_80d29_row5_col1 {\n",
              "  font-size: 6pt;\n",
              "  background-color: #fcfcfc;\n",
              "  color: #000000;\n",
              "}\n",
              "#T_80d29_row5_col2, #T_80d29_row5_col3, #T_80d29_row15_col16 {\n",
              "  font-size: 6pt;\n",
              "  background-color: #f6f6f6;\n",
              "  color: #000000;\n",
              "}\n",
              "#T_80d29_row5_col4, #T_80d29_row7_col7 {\n",
              "  font-size: 6pt;\n",
              "  background-color: #f8f8f8;\n",
              "  color: #000000;\n",
              "}\n",
              "#T_80d29_row5_col10, #T_80d29_row10_col7 {\n",
              "  font-size: 6pt;\n",
              "  background-color: #e8e8e8;\n",
              "  color: #000000;\n",
              "}\n",
              "#T_80d29_row5_col13, #T_80d29_row6_col12 {\n",
              "  font-size: 6pt;\n",
              "  background-color: #090909;\n",
              "  color: #f1f1f1;\n",
              "}\n",
              "#T_80d29_row5_col14 {\n",
              "  font-size: 6pt;\n",
              "  background-color: #d0d0d0;\n",
              "  color: #000000;\n",
              "}\n",
              "#T_80d29_row6_col10, #T_80d29_row7_col11, #T_80d29_row9_col6 {\n",
              "  font-size: 6pt;\n",
              "  background-color: #060606;\n",
              "  color: #f1f1f1;\n",
              "}\n",
              "#T_80d29_row6_col13 {\n",
              "  font-size: 6pt;\n",
              "  background-color: #979797;\n",
              "  color: #f1f1f1;\n",
              "}\n",
              "#T_80d29_row7_col8 {\n",
              "  font-size: 6pt;\n",
              "  background-color: #b6b6b6;\n",
              "  color: #000000;\n",
              "}\n",
              "#T_80d29_row7_col9 {\n",
              "  font-size: 6pt;\n",
              "  background-color: #252525;\n",
              "  color: #f1f1f1;\n",
              "}\n",
              "#T_80d29_row7_col12 {\n",
              "  font-size: 6pt;\n",
              "  background-color: #999999;\n",
              "  color: #f1f1f1;\n",
              "}\n",
              "#T_80d29_row8_col7, #T_80d29_row18_col8 {\n",
              "  font-size: 6pt;\n",
              "  background-color: #101010;\n",
              "  color: #f1f1f1;\n",
              "}\n",
              "#T_80d29_row8_col9, #T_80d29_row9_col9, #T_80d29_row17_col10, #T_80d29_row18_col9, #T_80d29_row19_col9 {\n",
              "  font-size: 6pt;\n",
              "  background-color: #020202;\n",
              "  color: #f1f1f1;\n",
              "}\n",
              "#T_80d29_row9_col5 {\n",
              "  font-size: 6pt;\n",
              "  background-color: #f7f7f7;\n",
              "  color: #000000;\n",
              "}\n",
              "#T_80d29_row9_col7, #T_80d29_row18_col11 {\n",
              "  font-size: 6pt;\n",
              "  background-color: #030303;\n",
              "  color: #f1f1f1;\n",
              "}\n",
              "#T_80d29_row9_col12 {\n",
              "  font-size: 6pt;\n",
              "  background-color: #181818;\n",
              "  color: #f1f1f1;\n",
              "}\n",
              "#T_80d29_row9_col13 {\n",
              "  font-size: 6pt;\n",
              "  background-color: #303030;\n",
              "  color: #f1f1f1;\n",
              "}\n",
              "#T_80d29_row9_col14 {\n",
              "  font-size: 6pt;\n",
              "  background-color: #a9a9a9;\n",
              "  color: #f1f1f1;\n",
              "}\n",
              "#T_80d29_row9_col15 {\n",
              "  font-size: 6pt;\n",
              "  background-color: #fefefe;\n",
              "  color: #000000;\n",
              "}\n",
              "#T_80d29_row10_col8, #T_80d29_row10_col9, #T_80d29_row16_col10 {\n",
              "  font-size: 6pt;\n",
              "  background-color: #bababa;\n",
              "  color: #000000;\n",
              "}\n",
              "#T_80d29_row10_col10 {\n",
              "  font-size: 6pt;\n",
              "  background-color: #393939;\n",
              "  color: #f1f1f1;\n",
              "}\n",
              "#T_80d29_row10_col16 {\n",
              "  font-size: 6pt;\n",
              "  background-color: #eaeaea;\n",
              "  color: #000000;\n",
              "}\n",
              "#T_80d29_row11_col11 {\n",
              "  font-size: 6pt;\n",
              "  background-color: #e2e2e2;\n",
              "  color: #000000;\n",
              "}\n",
              "#T_80d29_row11_col12 {\n",
              "  font-size: 6pt;\n",
              "  background-color: #9f9f9f;\n",
              "  color: #f1f1f1;\n",
              "}\n",
              "#T_80d29_row11_col16 {\n",
              "  font-size: 6pt;\n",
              "  background-color: #898989;\n",
              "  color: #f1f1f1;\n",
              "}\n",
              "#T_80d29_row12_col13 {\n",
              "  font-size: 6pt;\n",
              "  background-color: #585858;\n",
              "  color: #f1f1f1;\n",
              "}\n",
              "#T_80d29_row13_col13 {\n",
              "  font-size: 6pt;\n",
              "  background-color: #5a5a5a;\n",
              "  color: #f1f1f1;\n",
              "}\n",
              "#T_80d29_row13_col16 {\n",
              "  font-size: 6pt;\n",
              "  background-color: #525252;\n",
              "  color: #f1f1f1;\n",
              "}\n",
              "#T_80d29_row14_col12, #T_80d29_row19_col11 {\n",
              "  font-size: 6pt;\n",
              "  background-color: #c5c5c5;\n",
              "  color: #000000;\n",
              "}\n",
              "#T_80d29_row14_col16 {\n",
              "  font-size: 6pt;\n",
              "  background-color: #d7d7d7;\n",
              "  color: #000000;\n",
              "}\n",
              "#T_80d29_row15_col11, #T_80d29_row18_col5 {\n",
              "  font-size: 6pt;\n",
              "  background-color: #dcdcdc;\n",
              "  color: #000000;\n",
              "}\n",
              "#T_80d29_row15_col12 {\n",
              "  font-size: 6pt;\n",
              "  background-color: #2f2f2f;\n",
              "  color: #f1f1f1;\n",
              "}\n",
              "#T_80d29_row15_col15 {\n",
              "  font-size: 6pt;\n",
              "  background-color: #636363;\n",
              "  color: #f1f1f1;\n",
              "}\n",
              "#T_80d29_row16_col11 {\n",
              "  font-size: 6pt;\n",
              "  background-color: #070707;\n",
              "  color: #f1f1f1;\n",
              "}\n",
              "#T_80d29_row16_col14 {\n",
              "  font-size: 6pt;\n",
              "  background-color: #1f1f1f;\n",
              "  color: #f1f1f1;\n",
              "}\n",
              "#T_80d29_row17_col8, #T_80d29_row18_col2, #T_80d29_row18_col4 {\n",
              "  font-size: 6pt;\n",
              "  background-color: #e9e9e9;\n",
              "  color: #000000;\n",
              "}\n",
              "#T_80d29_row17_col9 {\n",
              "  font-size: 6pt;\n",
              "  background-color: #7d7d7d;\n",
              "  color: #f1f1f1;\n",
              "}\n",
              "#T_80d29_row17_col14 {\n",
              "  font-size: 6pt;\n",
              "  background-color: #e1e1e1;\n",
              "  color: #000000;\n",
              "}\n",
              "#T_80d29_row18_col3, #T_80d29_row18_col6 {\n",
              "  font-size: 6pt;\n",
              "  background-color: #a4a4a4;\n",
              "  color: #f1f1f1;\n",
              "}\n",
              "#T_80d29_row18_col7 {\n",
              "  font-size: 6pt;\n",
              "  background-color: #727272;\n",
              "  color: #f1f1f1;\n",
              "}\n",
              "#T_80d29_row18_col12 {\n",
              "  font-size: 6pt;\n",
              "  background-color: #616161;\n",
              "  color: #f1f1f1;\n",
              "}\n",
              "#T_80d29_row18_col13 {\n",
              "  font-size: 6pt;\n",
              "  background-color: #f3f3f3;\n",
              "  color: #000000;\n",
              "}\n",
              "#T_80d29_row19_col10 {\n",
              "  font-size: 6pt;\n",
              "  background-color: #484848;\n",
              "  color: #f1f1f1;\n",
              "}\n",
              "#T_80d29_row20_col2 {\n",
              "  font-size: 6pt;\n",
              "  background-color: #b3b3b3;\n",
              "  color: #000000;\n",
              "}\n",
              "#T_80d29_row20_col8 {\n",
              "  font-size: 6pt;\n",
              "  background-color: #1a1a1a;\n",
              "  color: #f1f1f1;\n",
              "}\n",
              "#T_80d29_row20_col9 {\n",
              "  font-size: 6pt;\n",
              "  background-color: #d6d6d6;\n",
              "  color: #000000;\n",
              "}\n",
              "</style>\n",
              "<table id=\"T_80d29\" class=\"dataframe\">\n",
              "  <thead>\n",
              "    <tr>\n",
              "      <th class=\"blank level0\" >&nbsp;</th>\n",
              "      <th id=\"T_80d29_level0_col0\" class=\"col_heading level0 col0\" >0</th>\n",
              "      <th id=\"T_80d29_level0_col1\" class=\"col_heading level0 col1\" >1</th>\n",
              "      <th id=\"T_80d29_level0_col2\" class=\"col_heading level0 col2\" >2</th>\n",
              "      <th id=\"T_80d29_level0_col3\" class=\"col_heading level0 col3\" >3</th>\n",
              "      <th id=\"T_80d29_level0_col4\" class=\"col_heading level0 col4\" >4</th>\n",
              "      <th id=\"T_80d29_level0_col5\" class=\"col_heading level0 col5\" >5</th>\n",
              "      <th id=\"T_80d29_level0_col6\" class=\"col_heading level0 col6\" >6</th>\n",
              "      <th id=\"T_80d29_level0_col7\" class=\"col_heading level0 col7\" >7</th>\n",
              "      <th id=\"T_80d29_level0_col8\" class=\"col_heading level0 col8\" >8</th>\n",
              "      <th id=\"T_80d29_level0_col9\" class=\"col_heading level0 col9\" >9</th>\n",
              "      <th id=\"T_80d29_level0_col10\" class=\"col_heading level0 col10\" >10</th>\n",
              "      <th id=\"T_80d29_level0_col11\" class=\"col_heading level0 col11\" >11</th>\n",
              "      <th id=\"T_80d29_level0_col12\" class=\"col_heading level0 col12\" >12</th>\n",
              "      <th id=\"T_80d29_level0_col13\" class=\"col_heading level0 col13\" >13</th>\n",
              "      <th id=\"T_80d29_level0_col14\" class=\"col_heading level0 col14\" >14</th>\n",
              "      <th id=\"T_80d29_level0_col15\" class=\"col_heading level0 col15\" >15</th>\n",
              "      <th id=\"T_80d29_level0_col16\" class=\"col_heading level0 col16\" >16</th>\n",
              "      <th id=\"T_80d29_level0_col17\" class=\"col_heading level0 col17\" >17</th>\n",
              "      <th id=\"T_80d29_level0_col18\" class=\"col_heading level0 col18\" >18</th>\n",
              "      <th id=\"T_80d29_level0_col19\" class=\"col_heading level0 col19\" >19</th>\n",
              "      <th id=\"T_80d29_level0_col20\" class=\"col_heading level0 col20\" >20</th>\n",
              "      <th id=\"T_80d29_level0_col21\" class=\"col_heading level0 col21\" >21</th>\n",
              "      <th id=\"T_80d29_level0_col22\" class=\"col_heading level0 col22\" >22</th>\n",
              "      <th id=\"T_80d29_level0_col23\" class=\"col_heading level0 col23\" >23</th>\n",
              "    </tr>\n",
              "  </thead>\n",
              "  <tbody>\n",
              "    <tr>\n",
              "      <th id=\"T_80d29_level0_row0\" class=\"row_heading level0 row0\" >0</th>\n",
              "      <td id=\"T_80d29_row0_col0\" class=\"data row0 col0\" >0</td>\n",
              "      <td id=\"T_80d29_row0_col1\" class=\"data row0 col1\" >0</td>\n",
              "      <td id=\"T_80d29_row0_col2\" class=\"data row0 col2\" >0</td>\n",
              "      <td id=\"T_80d29_row0_col3\" class=\"data row0 col3\" >0</td>\n",
              "      <td id=\"T_80d29_row0_col4\" class=\"data row0 col4\" >0</td>\n",
              "      <td id=\"T_80d29_row0_col5\" class=\"data row0 col5\" >0</td>\n",
              "      <td id=\"T_80d29_row0_col6\" class=\"data row0 col6\" >0</td>\n",
              "      <td id=\"T_80d29_row0_col7\" class=\"data row0 col7\" >0</td>\n",
              "      <td id=\"T_80d29_row0_col8\" class=\"data row0 col8\" >0</td>\n",
              "      <td id=\"T_80d29_row0_col9\" class=\"data row0 col9\" >0</td>\n",
              "      <td id=\"T_80d29_row0_col10\" class=\"data row0 col10\" >0</td>\n",
              "      <td id=\"T_80d29_row0_col11\" class=\"data row0 col11\" >0</td>\n",
              "      <td id=\"T_80d29_row0_col12\" class=\"data row0 col12\" >0</td>\n",
              "      <td id=\"T_80d29_row0_col13\" class=\"data row0 col13\" >0</td>\n",
              "      <td id=\"T_80d29_row0_col14\" class=\"data row0 col14\" >0</td>\n",
              "      <td id=\"T_80d29_row0_col15\" class=\"data row0 col15\" >0</td>\n",
              "      <td id=\"T_80d29_row0_col16\" class=\"data row0 col16\" >0</td>\n",
              "      <td id=\"T_80d29_row0_col17\" class=\"data row0 col17\" >0</td>\n",
              "      <td id=\"T_80d29_row0_col18\" class=\"data row0 col18\" >0</td>\n",
              "      <td id=\"T_80d29_row0_col19\" class=\"data row0 col19\" >0</td>\n",
              "      <td id=\"T_80d29_row0_col20\" class=\"data row0 col20\" >0</td>\n",
              "      <td id=\"T_80d29_row0_col21\" class=\"data row0 col21\" >0</td>\n",
              "      <td id=\"T_80d29_row0_col22\" class=\"data row0 col22\" >0</td>\n",
              "      <td id=\"T_80d29_row0_col23\" class=\"data row0 col23\" >0</td>\n",
              "    </tr>\n",
              "    <tr>\n",
              "      <th id=\"T_80d29_level0_row1\" class=\"row_heading level0 row1\" >1</th>\n",
              "      <td id=\"T_80d29_row1_col0\" class=\"data row1 col0\" >0</td>\n",
              "      <td id=\"T_80d29_row1_col1\" class=\"data row1 col1\" >0</td>\n",
              "      <td id=\"T_80d29_row1_col2\" class=\"data row1 col2\" >0</td>\n",
              "      <td id=\"T_80d29_row1_col3\" class=\"data row1 col3\" >0</td>\n",
              "      <td id=\"T_80d29_row1_col4\" class=\"data row1 col4\" >0</td>\n",
              "      <td id=\"T_80d29_row1_col5\" class=\"data row1 col5\" >29</td>\n",
              "      <td id=\"T_80d29_row1_col6\" class=\"data row1 col6\" >150</td>\n",
              "      <td id=\"T_80d29_row1_col7\" class=\"data row1 col7\" >195</td>\n",
              "      <td id=\"T_80d29_row1_col8\" class=\"data row1 col8\" >254</td>\n",
              "      <td id=\"T_80d29_row1_col9\" class=\"data row1 col9\" >255</td>\n",
              "      <td id=\"T_80d29_row1_col10\" class=\"data row1 col10\" >254</td>\n",
              "      <td id=\"T_80d29_row1_col11\" class=\"data row1 col11\" >176</td>\n",
              "      <td id=\"T_80d29_row1_col12\" class=\"data row1 col12\" >193</td>\n",
              "      <td id=\"T_80d29_row1_col13\" class=\"data row1 col13\" >150</td>\n",
              "      <td id=\"T_80d29_row1_col14\" class=\"data row1 col14\" >96</td>\n",
              "      <td id=\"T_80d29_row1_col15\" class=\"data row1 col15\" >0</td>\n",
              "      <td id=\"T_80d29_row1_col16\" class=\"data row1 col16\" >0</td>\n",
              "      <td id=\"T_80d29_row1_col17\" class=\"data row1 col17\" >0</td>\n",
              "      <td id=\"T_80d29_row1_col18\" class=\"data row1 col18\" >0</td>\n",
              "      <td id=\"T_80d29_row1_col19\" class=\"data row1 col19\" >0</td>\n",
              "      <td id=\"T_80d29_row1_col20\" class=\"data row1 col20\" >0</td>\n",
              "      <td id=\"T_80d29_row1_col21\" class=\"data row1 col21\" >0</td>\n",
              "      <td id=\"T_80d29_row1_col22\" class=\"data row1 col22\" >0</td>\n",
              "      <td id=\"T_80d29_row1_col23\" class=\"data row1 col23\" >0</td>\n",
              "    </tr>\n",
              "    <tr>\n",
              "      <th id=\"T_80d29_level0_row2\" class=\"row_heading level0 row2\" >2</th>\n",
              "      <td id=\"T_80d29_row2_col0\" class=\"data row2 col0\" >0</td>\n",
              "      <td id=\"T_80d29_row2_col1\" class=\"data row2 col1\" >0</td>\n",
              "      <td id=\"T_80d29_row2_col2\" class=\"data row2 col2\" >0</td>\n",
              "      <td id=\"T_80d29_row2_col3\" class=\"data row2 col3\" >48</td>\n",
              "      <td id=\"T_80d29_row2_col4\" class=\"data row2 col4\" >166</td>\n",
              "      <td id=\"T_80d29_row2_col5\" class=\"data row2 col5\" >224</td>\n",
              "      <td id=\"T_80d29_row2_col6\" class=\"data row2 col6\" >253</td>\n",
              "      <td id=\"T_80d29_row2_col7\" class=\"data row2 col7\" >253</td>\n",
              "      <td id=\"T_80d29_row2_col8\" class=\"data row2 col8\" >234</td>\n",
              "      <td id=\"T_80d29_row2_col9\" class=\"data row2 col9\" >196</td>\n",
              "      <td id=\"T_80d29_row2_col10\" class=\"data row2 col10\" >253</td>\n",
              "      <td id=\"T_80d29_row2_col11\" class=\"data row2 col11\" >253</td>\n",
              "      <td id=\"T_80d29_row2_col12\" class=\"data row2 col12\" >253</td>\n",
              "      <td id=\"T_80d29_row2_col13\" class=\"data row2 col13\" >253</td>\n",
              "      <td id=\"T_80d29_row2_col14\" class=\"data row2 col14\" >233</td>\n",
              "      <td id=\"T_80d29_row2_col15\" class=\"data row2 col15\" >0</td>\n",
              "      <td id=\"T_80d29_row2_col16\" class=\"data row2 col16\" >0</td>\n",
              "      <td id=\"T_80d29_row2_col17\" class=\"data row2 col17\" >0</td>\n",
              "      <td id=\"T_80d29_row2_col18\" class=\"data row2 col18\" >0</td>\n",
              "      <td id=\"T_80d29_row2_col19\" class=\"data row2 col19\" >0</td>\n",
              "      <td id=\"T_80d29_row2_col20\" class=\"data row2 col20\" >0</td>\n",
              "      <td id=\"T_80d29_row2_col21\" class=\"data row2 col21\" >0</td>\n",
              "      <td id=\"T_80d29_row2_col22\" class=\"data row2 col22\" >0</td>\n",
              "      <td id=\"T_80d29_row2_col23\" class=\"data row2 col23\" >0</td>\n",
              "    </tr>\n",
              "    <tr>\n",
              "      <th id=\"T_80d29_level0_row3\" class=\"row_heading level0 row3\" >3</th>\n",
              "      <td id=\"T_80d29_row3_col0\" class=\"data row3 col0\" >0</td>\n",
              "      <td id=\"T_80d29_row3_col1\" class=\"data row3 col1\" >93</td>\n",
              "      <td id=\"T_80d29_row3_col2\" class=\"data row3 col2\" >244</td>\n",
              "      <td id=\"T_80d29_row3_col3\" class=\"data row3 col3\" >249</td>\n",
              "      <td id=\"T_80d29_row3_col4\" class=\"data row3 col4\" >253</td>\n",
              "      <td id=\"T_80d29_row3_col5\" class=\"data row3 col5\" >187</td>\n",
              "      <td id=\"T_80d29_row3_col6\" class=\"data row3 col6\" >46</td>\n",
              "      <td id=\"T_80d29_row3_col7\" class=\"data row3 col7\" >10</td>\n",
              "      <td id=\"T_80d29_row3_col8\" class=\"data row3 col8\" >8</td>\n",
              "      <td id=\"T_80d29_row3_col9\" class=\"data row3 col9\" >4</td>\n",
              "      <td id=\"T_80d29_row3_col10\" class=\"data row3 col10\" >10</td>\n",
              "      <td id=\"T_80d29_row3_col11\" class=\"data row3 col11\" >194</td>\n",
              "      <td id=\"T_80d29_row3_col12\" class=\"data row3 col12\" >253</td>\n",
              "      <td id=\"T_80d29_row3_col13\" class=\"data row3 col13\" >253</td>\n",
              "      <td id=\"T_80d29_row3_col14\" class=\"data row3 col14\" >233</td>\n",
              "      <td id=\"T_80d29_row3_col15\" class=\"data row3 col15\" >0</td>\n",
              "      <td id=\"T_80d29_row3_col16\" class=\"data row3 col16\" >0</td>\n",
              "      <td id=\"T_80d29_row3_col17\" class=\"data row3 col17\" >0</td>\n",
              "      <td id=\"T_80d29_row3_col18\" class=\"data row3 col18\" >0</td>\n",
              "      <td id=\"T_80d29_row3_col19\" class=\"data row3 col19\" >0</td>\n",
              "      <td id=\"T_80d29_row3_col20\" class=\"data row3 col20\" >0</td>\n",
              "      <td id=\"T_80d29_row3_col21\" class=\"data row3 col21\" >0</td>\n",
              "      <td id=\"T_80d29_row3_col22\" class=\"data row3 col22\" >0</td>\n",
              "      <td id=\"T_80d29_row3_col23\" class=\"data row3 col23\" >0</td>\n",
              "    </tr>\n",
              "    <tr>\n",
              "      <th id=\"T_80d29_level0_row4\" class=\"row_heading level0 row4\" >4</th>\n",
              "      <td id=\"T_80d29_row4_col0\" class=\"data row4 col0\" >0</td>\n",
              "      <td id=\"T_80d29_row4_col1\" class=\"data row4 col1\" >107</td>\n",
              "      <td id=\"T_80d29_row4_col2\" class=\"data row4 col2\" >253</td>\n",
              "      <td id=\"T_80d29_row4_col3\" class=\"data row4 col3\" >253</td>\n",
              "      <td id=\"T_80d29_row4_col4\" class=\"data row4 col4\" >230</td>\n",
              "      <td id=\"T_80d29_row4_col5\" class=\"data row4 col5\" >48</td>\n",
              "      <td id=\"T_80d29_row4_col6\" class=\"data row4 col6\" >0</td>\n",
              "      <td id=\"T_80d29_row4_col7\" class=\"data row4 col7\" >0</td>\n",
              "      <td id=\"T_80d29_row4_col8\" class=\"data row4 col8\" >0</td>\n",
              "      <td id=\"T_80d29_row4_col9\" class=\"data row4 col9\" >0</td>\n",
              "      <td id=\"T_80d29_row4_col10\" class=\"data row4 col10\" >0</td>\n",
              "      <td id=\"T_80d29_row4_col11\" class=\"data row4 col11\" >192</td>\n",
              "      <td id=\"T_80d29_row4_col12\" class=\"data row4 col12\" >253</td>\n",
              "      <td id=\"T_80d29_row4_col13\" class=\"data row4 col13\" >253</td>\n",
              "      <td id=\"T_80d29_row4_col14\" class=\"data row4 col14\" >156</td>\n",
              "      <td id=\"T_80d29_row4_col15\" class=\"data row4 col15\" >0</td>\n",
              "      <td id=\"T_80d29_row4_col16\" class=\"data row4 col16\" >0</td>\n",
              "      <td id=\"T_80d29_row4_col17\" class=\"data row4 col17\" >0</td>\n",
              "      <td id=\"T_80d29_row4_col18\" class=\"data row4 col18\" >0</td>\n",
              "      <td id=\"T_80d29_row4_col19\" class=\"data row4 col19\" >0</td>\n",
              "      <td id=\"T_80d29_row4_col20\" class=\"data row4 col20\" >0</td>\n",
              "      <td id=\"T_80d29_row4_col21\" class=\"data row4 col21\" >0</td>\n",
              "      <td id=\"T_80d29_row4_col22\" class=\"data row4 col22\" >0</td>\n",
              "      <td id=\"T_80d29_row4_col23\" class=\"data row4 col23\" >0</td>\n",
              "    </tr>\n",
              "    <tr>\n",
              "      <th id=\"T_80d29_level0_row5\" class=\"row_heading level0 row5\" >5</th>\n",
              "      <td id=\"T_80d29_row5_col0\" class=\"data row5 col0\" >0</td>\n",
              "      <td id=\"T_80d29_row5_col1\" class=\"data row5 col1\" >3</td>\n",
              "      <td id=\"T_80d29_row5_col2\" class=\"data row5 col2\" >20</td>\n",
              "      <td id=\"T_80d29_row5_col3\" class=\"data row5 col3\" >20</td>\n",
              "      <td id=\"T_80d29_row5_col4\" class=\"data row5 col4\" >15</td>\n",
              "      <td id=\"T_80d29_row5_col5\" class=\"data row5 col5\" >0</td>\n",
              "      <td id=\"T_80d29_row5_col6\" class=\"data row5 col6\" >0</td>\n",
              "      <td id=\"T_80d29_row5_col7\" class=\"data row5 col7\" >0</td>\n",
              "      <td id=\"T_80d29_row5_col8\" class=\"data row5 col8\" >0</td>\n",
              "      <td id=\"T_80d29_row5_col9\" class=\"data row5 col9\" >0</td>\n",
              "      <td id=\"T_80d29_row5_col10\" class=\"data row5 col10\" >43</td>\n",
              "      <td id=\"T_80d29_row5_col11\" class=\"data row5 col11\" >224</td>\n",
              "      <td id=\"T_80d29_row5_col12\" class=\"data row5 col12\" >253</td>\n",
              "      <td id=\"T_80d29_row5_col13\" class=\"data row5 col13\" >245</td>\n",
              "      <td id=\"T_80d29_row5_col14\" class=\"data row5 col14\" >74</td>\n",
              "      <td id=\"T_80d29_row5_col15\" class=\"data row5 col15\" >0</td>\n",
              "      <td id=\"T_80d29_row5_col16\" class=\"data row5 col16\" >0</td>\n",
              "      <td id=\"T_80d29_row5_col17\" class=\"data row5 col17\" >0</td>\n",
              "      <td id=\"T_80d29_row5_col18\" class=\"data row5 col18\" >0</td>\n",
              "      <td id=\"T_80d29_row5_col19\" class=\"data row5 col19\" >0</td>\n",
              "      <td id=\"T_80d29_row5_col20\" class=\"data row5 col20\" >0</td>\n",
              "      <td id=\"T_80d29_row5_col21\" class=\"data row5 col21\" >0</td>\n",
              "      <td id=\"T_80d29_row5_col22\" class=\"data row5 col22\" >0</td>\n",
              "      <td id=\"T_80d29_row5_col23\" class=\"data row5 col23\" >0</td>\n",
              "    </tr>\n",
              "    <tr>\n",
              "      <th id=\"T_80d29_level0_row6\" class=\"row_heading level0 row6\" >6</th>\n",
              "      <td id=\"T_80d29_row6_col0\" class=\"data row6 col0\" >0</td>\n",
              "      <td id=\"T_80d29_row6_col1\" class=\"data row6 col1\" >0</td>\n",
              "      <td id=\"T_80d29_row6_col2\" class=\"data row6 col2\" >0</td>\n",
              "      <td id=\"T_80d29_row6_col3\" class=\"data row6 col3\" >0</td>\n",
              "      <td id=\"T_80d29_row6_col4\" class=\"data row6 col4\" >0</td>\n",
              "      <td id=\"T_80d29_row6_col5\" class=\"data row6 col5\" >0</td>\n",
              "      <td id=\"T_80d29_row6_col6\" class=\"data row6 col6\" >0</td>\n",
              "      <td id=\"T_80d29_row6_col7\" class=\"data row6 col7\" >0</td>\n",
              "      <td id=\"T_80d29_row6_col8\" class=\"data row6 col8\" >0</td>\n",
              "      <td id=\"T_80d29_row6_col9\" class=\"data row6 col9\" >0</td>\n",
              "      <td id=\"T_80d29_row6_col10\" class=\"data row6 col10\" >249</td>\n",
              "      <td id=\"T_80d29_row6_col11\" class=\"data row6 col11\" >253</td>\n",
              "      <td id=\"T_80d29_row6_col12\" class=\"data row6 col12\" >245</td>\n",
              "      <td id=\"T_80d29_row6_col13\" class=\"data row6 col13\" >126</td>\n",
              "      <td id=\"T_80d29_row6_col14\" class=\"data row6 col14\" >0</td>\n",
              "      <td id=\"T_80d29_row6_col15\" class=\"data row6 col15\" >0</td>\n",
              "      <td id=\"T_80d29_row6_col16\" class=\"data row6 col16\" >0</td>\n",
              "      <td id=\"T_80d29_row6_col17\" class=\"data row6 col17\" >0</td>\n",
              "      <td id=\"T_80d29_row6_col18\" class=\"data row6 col18\" >0</td>\n",
              "      <td id=\"T_80d29_row6_col19\" class=\"data row6 col19\" >0</td>\n",
              "      <td id=\"T_80d29_row6_col20\" class=\"data row6 col20\" >0</td>\n",
              "      <td id=\"T_80d29_row6_col21\" class=\"data row6 col21\" >0</td>\n",
              "      <td id=\"T_80d29_row6_col22\" class=\"data row6 col22\" >0</td>\n",
              "      <td id=\"T_80d29_row6_col23\" class=\"data row6 col23\" >0</td>\n",
              "    </tr>\n",
              "    <tr>\n",
              "      <th id=\"T_80d29_level0_row7\" class=\"row_heading level0 row7\" >7</th>\n",
              "      <td id=\"T_80d29_row7_col0\" class=\"data row7 col0\" >0</td>\n",
              "      <td id=\"T_80d29_row7_col1\" class=\"data row7 col1\" >0</td>\n",
              "      <td id=\"T_80d29_row7_col2\" class=\"data row7 col2\" >0</td>\n",
              "      <td id=\"T_80d29_row7_col3\" class=\"data row7 col3\" >0</td>\n",
              "      <td id=\"T_80d29_row7_col4\" class=\"data row7 col4\" >0</td>\n",
              "      <td id=\"T_80d29_row7_col5\" class=\"data row7 col5\" >0</td>\n",
              "      <td id=\"T_80d29_row7_col6\" class=\"data row7 col6\" >0</td>\n",
              "      <td id=\"T_80d29_row7_col7\" class=\"data row7 col7\" >14</td>\n",
              "      <td id=\"T_80d29_row7_col8\" class=\"data row7 col8\" >101</td>\n",
              "      <td id=\"T_80d29_row7_col9\" class=\"data row7 col9\" >223</td>\n",
              "      <td id=\"T_80d29_row7_col10\" class=\"data row7 col10\" >253</td>\n",
              "      <td id=\"T_80d29_row7_col11\" class=\"data row7 col11\" >248</td>\n",
              "      <td id=\"T_80d29_row7_col12\" class=\"data row7 col12\" >124</td>\n",
              "      <td id=\"T_80d29_row7_col13\" class=\"data row7 col13\" >0</td>\n",
              "      <td id=\"T_80d29_row7_col14\" class=\"data row7 col14\" >0</td>\n",
              "      <td id=\"T_80d29_row7_col15\" class=\"data row7 col15\" >0</td>\n",
              "      <td id=\"T_80d29_row7_col16\" class=\"data row7 col16\" >0</td>\n",
              "      <td id=\"T_80d29_row7_col17\" class=\"data row7 col17\" >0</td>\n",
              "      <td id=\"T_80d29_row7_col18\" class=\"data row7 col18\" >0</td>\n",
              "      <td id=\"T_80d29_row7_col19\" class=\"data row7 col19\" >0</td>\n",
              "      <td id=\"T_80d29_row7_col20\" class=\"data row7 col20\" >0</td>\n",
              "      <td id=\"T_80d29_row7_col21\" class=\"data row7 col21\" >0</td>\n",
              "      <td id=\"T_80d29_row7_col22\" class=\"data row7 col22\" >0</td>\n",
              "      <td id=\"T_80d29_row7_col23\" class=\"data row7 col23\" >0</td>\n",
              "    </tr>\n",
              "    <tr>\n",
              "      <th id=\"T_80d29_level0_row8\" class=\"row_heading level0 row8\" >8</th>\n",
              "      <td id=\"T_80d29_row8_col0\" class=\"data row8 col0\" >0</td>\n",
              "      <td id=\"T_80d29_row8_col1\" class=\"data row8 col1\" >0</td>\n",
              "      <td id=\"T_80d29_row8_col2\" class=\"data row8 col2\" >0</td>\n",
              "      <td id=\"T_80d29_row8_col3\" class=\"data row8 col3\" >0</td>\n",
              "      <td id=\"T_80d29_row8_col4\" class=\"data row8 col4\" >0</td>\n",
              "      <td id=\"T_80d29_row8_col5\" class=\"data row8 col5\" >11</td>\n",
              "      <td id=\"T_80d29_row8_col6\" class=\"data row8 col6\" >166</td>\n",
              "      <td id=\"T_80d29_row8_col7\" class=\"data row8 col7\" >239</td>\n",
              "      <td id=\"T_80d29_row8_col8\" class=\"data row8 col8\" >253</td>\n",
              "      <td id=\"T_80d29_row8_col9\" class=\"data row8 col9\" >253</td>\n",
              "      <td id=\"T_80d29_row8_col10\" class=\"data row8 col10\" >253</td>\n",
              "      <td id=\"T_80d29_row8_col11\" class=\"data row8 col11\" >187</td>\n",
              "      <td id=\"T_80d29_row8_col12\" class=\"data row8 col12\" >30</td>\n",
              "      <td id=\"T_80d29_row8_col13\" class=\"data row8 col13\" >0</td>\n",
              "      <td id=\"T_80d29_row8_col14\" class=\"data row8 col14\" >0</td>\n",
              "      <td id=\"T_80d29_row8_col15\" class=\"data row8 col15\" >0</td>\n",
              "      <td id=\"T_80d29_row8_col16\" class=\"data row8 col16\" >0</td>\n",
              "      <td id=\"T_80d29_row8_col17\" class=\"data row8 col17\" >0</td>\n",
              "      <td id=\"T_80d29_row8_col18\" class=\"data row8 col18\" >0</td>\n",
              "      <td id=\"T_80d29_row8_col19\" class=\"data row8 col19\" >0</td>\n",
              "      <td id=\"T_80d29_row8_col20\" class=\"data row8 col20\" >0</td>\n",
              "      <td id=\"T_80d29_row8_col21\" class=\"data row8 col21\" >0</td>\n",
              "      <td id=\"T_80d29_row8_col22\" class=\"data row8 col22\" >0</td>\n",
              "      <td id=\"T_80d29_row8_col23\" class=\"data row8 col23\" >0</td>\n",
              "    </tr>\n",
              "    <tr>\n",
              "      <th id=\"T_80d29_level0_row9\" class=\"row_heading level0 row9\" >9</th>\n",
              "      <td id=\"T_80d29_row9_col0\" class=\"data row9 col0\" >0</td>\n",
              "      <td id=\"T_80d29_row9_col1\" class=\"data row9 col1\" >0</td>\n",
              "      <td id=\"T_80d29_row9_col2\" class=\"data row9 col2\" >0</td>\n",
              "      <td id=\"T_80d29_row9_col3\" class=\"data row9 col3\" >0</td>\n",
              "      <td id=\"T_80d29_row9_col4\" class=\"data row9 col4\" >0</td>\n",
              "      <td id=\"T_80d29_row9_col5\" class=\"data row9 col5\" >16</td>\n",
              "      <td id=\"T_80d29_row9_col6\" class=\"data row9 col6\" >248</td>\n",
              "      <td id=\"T_80d29_row9_col7\" class=\"data row9 col7\" >250</td>\n",
              "      <td id=\"T_80d29_row9_col8\" class=\"data row9 col8\" >253</td>\n",
              "      <td id=\"T_80d29_row9_col9\" class=\"data row9 col9\" >253</td>\n",
              "      <td id=\"T_80d29_row9_col10\" class=\"data row9 col10\" >253</td>\n",
              "      <td id=\"T_80d29_row9_col11\" class=\"data row9 col11\" >253</td>\n",
              "      <td id=\"T_80d29_row9_col12\" class=\"data row9 col12\" >232</td>\n",
              "      <td id=\"T_80d29_row9_col13\" class=\"data row9 col13\" >213</td>\n",
              "      <td id=\"T_80d29_row9_col14\" class=\"data row9 col14\" >111</td>\n",
              "      <td id=\"T_80d29_row9_col15\" class=\"data row9 col15\" >2</td>\n",
              "      <td id=\"T_80d29_row9_col16\" class=\"data row9 col16\" >0</td>\n",
              "      <td id=\"T_80d29_row9_col17\" class=\"data row9 col17\" >0</td>\n",
              "      <td id=\"T_80d29_row9_col18\" class=\"data row9 col18\" >0</td>\n",
              "      <td id=\"T_80d29_row9_col19\" class=\"data row9 col19\" >0</td>\n",
              "      <td id=\"T_80d29_row9_col20\" class=\"data row9 col20\" >0</td>\n",
              "      <td id=\"T_80d29_row9_col21\" class=\"data row9 col21\" >0</td>\n",
              "      <td id=\"T_80d29_row9_col22\" class=\"data row9 col22\" >0</td>\n",
              "      <td id=\"T_80d29_row9_col23\" class=\"data row9 col23\" >0</td>\n",
              "    </tr>\n",
              "    <tr>\n",
              "      <th id=\"T_80d29_level0_row10\" class=\"row_heading level0 row10\" >10</th>\n",
              "      <td id=\"T_80d29_row10_col0\" class=\"data row10 col0\" >0</td>\n",
              "      <td id=\"T_80d29_row10_col1\" class=\"data row10 col1\" >0</td>\n",
              "      <td id=\"T_80d29_row10_col2\" class=\"data row10 col2\" >0</td>\n",
              "      <td id=\"T_80d29_row10_col3\" class=\"data row10 col3\" >0</td>\n",
              "      <td id=\"T_80d29_row10_col4\" class=\"data row10 col4\" >0</td>\n",
              "      <td id=\"T_80d29_row10_col5\" class=\"data row10 col5\" >0</td>\n",
              "      <td id=\"T_80d29_row10_col6\" class=\"data row10 col6\" >0</td>\n",
              "      <td id=\"T_80d29_row10_col7\" class=\"data row10 col7\" >43</td>\n",
              "      <td id=\"T_80d29_row10_col8\" class=\"data row10 col8\" >98</td>\n",
              "      <td id=\"T_80d29_row10_col9\" class=\"data row10 col9\" >98</td>\n",
              "      <td id=\"T_80d29_row10_col10\" class=\"data row10 col10\" >208</td>\n",
              "      <td id=\"T_80d29_row10_col11\" class=\"data row10 col11\" >253</td>\n",
              "      <td id=\"T_80d29_row10_col12\" class=\"data row10 col12\" >253</td>\n",
              "      <td id=\"T_80d29_row10_col13\" class=\"data row10 col13\" >253</td>\n",
              "      <td id=\"T_80d29_row10_col14\" class=\"data row10 col14\" >253</td>\n",
              "      <td id=\"T_80d29_row10_col15\" class=\"data row10 col15\" >187</td>\n",
              "      <td id=\"T_80d29_row10_col16\" class=\"data row10 col16\" >22</td>\n",
              "      <td id=\"T_80d29_row10_col17\" class=\"data row10 col17\" >0</td>\n",
              "      <td id=\"T_80d29_row10_col18\" class=\"data row10 col18\" >0</td>\n",
              "      <td id=\"T_80d29_row10_col19\" class=\"data row10 col19\" >0</td>\n",
              "      <td id=\"T_80d29_row10_col20\" class=\"data row10 col20\" >0</td>\n",
              "      <td id=\"T_80d29_row10_col21\" class=\"data row10 col21\" >0</td>\n",
              "      <td id=\"T_80d29_row10_col22\" class=\"data row10 col22\" >0</td>\n",
              "      <td id=\"T_80d29_row10_col23\" class=\"data row10 col23\" >0</td>\n",
              "    </tr>\n",
              "    <tr>\n",
              "      <th id=\"T_80d29_level0_row11\" class=\"row_heading level0 row11\" >11</th>\n",
              "      <td id=\"T_80d29_row11_col0\" class=\"data row11 col0\" >0</td>\n",
              "      <td id=\"T_80d29_row11_col1\" class=\"data row11 col1\" >0</td>\n",
              "      <td id=\"T_80d29_row11_col2\" class=\"data row11 col2\" >0</td>\n",
              "      <td id=\"T_80d29_row11_col3\" class=\"data row11 col3\" >0</td>\n",
              "      <td id=\"T_80d29_row11_col4\" class=\"data row11 col4\" >0</td>\n",
              "      <td id=\"T_80d29_row11_col5\" class=\"data row11 col5\" >0</td>\n",
              "      <td id=\"T_80d29_row11_col6\" class=\"data row11 col6\" >0</td>\n",
              "      <td id=\"T_80d29_row11_col7\" class=\"data row11 col7\" >0</td>\n",
              "      <td id=\"T_80d29_row11_col8\" class=\"data row11 col8\" >0</td>\n",
              "      <td id=\"T_80d29_row11_col9\" class=\"data row11 col9\" >0</td>\n",
              "      <td id=\"T_80d29_row11_col10\" class=\"data row11 col10\" >9</td>\n",
              "      <td id=\"T_80d29_row11_col11\" class=\"data row11 col11\" >51</td>\n",
              "      <td id=\"T_80d29_row11_col12\" class=\"data row11 col12\" >119</td>\n",
              "      <td id=\"T_80d29_row11_col13\" class=\"data row11 col13\" >253</td>\n",
              "      <td id=\"T_80d29_row11_col14\" class=\"data row11 col14\" >253</td>\n",
              "      <td id=\"T_80d29_row11_col15\" class=\"data row11 col15\" >253</td>\n",
              "      <td id=\"T_80d29_row11_col16\" class=\"data row11 col16\" >76</td>\n",
              "      <td id=\"T_80d29_row11_col17\" class=\"data row11 col17\" >0</td>\n",
              "      <td id=\"T_80d29_row11_col18\" class=\"data row11 col18\" >0</td>\n",
              "      <td id=\"T_80d29_row11_col19\" class=\"data row11 col19\" >0</td>\n",
              "      <td id=\"T_80d29_row11_col20\" class=\"data row11 col20\" >0</td>\n",
              "      <td id=\"T_80d29_row11_col21\" class=\"data row11 col21\" >0</td>\n",
              "      <td id=\"T_80d29_row11_col22\" class=\"data row11 col22\" >0</td>\n",
              "      <td id=\"T_80d29_row11_col23\" class=\"data row11 col23\" >0</td>\n",
              "    </tr>\n",
              "    <tr>\n",
              "      <th id=\"T_80d29_level0_row12\" class=\"row_heading level0 row12\" >12</th>\n",
              "      <td id=\"T_80d29_row12_col0\" class=\"data row12 col0\" >0</td>\n",
              "      <td id=\"T_80d29_row12_col1\" class=\"data row12 col1\" >0</td>\n",
              "      <td id=\"T_80d29_row12_col2\" class=\"data row12 col2\" >0</td>\n",
              "      <td id=\"T_80d29_row12_col3\" class=\"data row12 col3\" >0</td>\n",
              "      <td id=\"T_80d29_row12_col4\" class=\"data row12 col4\" >0</td>\n",
              "      <td id=\"T_80d29_row12_col5\" class=\"data row12 col5\" >0</td>\n",
              "      <td id=\"T_80d29_row12_col6\" class=\"data row12 col6\" >0</td>\n",
              "      <td id=\"T_80d29_row12_col7\" class=\"data row12 col7\" >0</td>\n",
              "      <td id=\"T_80d29_row12_col8\" class=\"data row12 col8\" >0</td>\n",
              "      <td id=\"T_80d29_row12_col9\" class=\"data row12 col9\" >0</td>\n",
              "      <td id=\"T_80d29_row12_col10\" class=\"data row12 col10\" >0</td>\n",
              "      <td id=\"T_80d29_row12_col11\" class=\"data row12 col11\" >0</td>\n",
              "      <td id=\"T_80d29_row12_col12\" class=\"data row12 col12\" >1</td>\n",
              "      <td id=\"T_80d29_row12_col13\" class=\"data row12 col13\" >183</td>\n",
              "      <td id=\"T_80d29_row12_col14\" class=\"data row12 col14\" >253</td>\n",
              "      <td id=\"T_80d29_row12_col15\" class=\"data row12 col15\" >253</td>\n",
              "      <td id=\"T_80d29_row12_col16\" class=\"data row12 col16\" >139</td>\n",
              "      <td id=\"T_80d29_row12_col17\" class=\"data row12 col17\" >0</td>\n",
              "      <td id=\"T_80d29_row12_col18\" class=\"data row12 col18\" >0</td>\n",
              "      <td id=\"T_80d29_row12_col19\" class=\"data row12 col19\" >0</td>\n",
              "      <td id=\"T_80d29_row12_col20\" class=\"data row12 col20\" >0</td>\n",
              "      <td id=\"T_80d29_row12_col21\" class=\"data row12 col21\" >0</td>\n",
              "      <td id=\"T_80d29_row12_col22\" class=\"data row12 col22\" >0</td>\n",
              "      <td id=\"T_80d29_row12_col23\" class=\"data row12 col23\" >0</td>\n",
              "    </tr>\n",
              "    <tr>\n",
              "      <th id=\"T_80d29_level0_row13\" class=\"row_heading level0 row13\" >13</th>\n",
              "      <td id=\"T_80d29_row13_col0\" class=\"data row13 col0\" >0</td>\n",
              "      <td id=\"T_80d29_row13_col1\" class=\"data row13 col1\" >0</td>\n",
              "      <td id=\"T_80d29_row13_col2\" class=\"data row13 col2\" >0</td>\n",
              "      <td id=\"T_80d29_row13_col3\" class=\"data row13 col3\" >0</td>\n",
              "      <td id=\"T_80d29_row13_col4\" class=\"data row13 col4\" >0</td>\n",
              "      <td id=\"T_80d29_row13_col5\" class=\"data row13 col5\" >0</td>\n",
              "      <td id=\"T_80d29_row13_col6\" class=\"data row13 col6\" >0</td>\n",
              "      <td id=\"T_80d29_row13_col7\" class=\"data row13 col7\" >0</td>\n",
              "      <td id=\"T_80d29_row13_col8\" class=\"data row13 col8\" >0</td>\n",
              "      <td id=\"T_80d29_row13_col9\" class=\"data row13 col9\" >0</td>\n",
              "      <td id=\"T_80d29_row13_col10\" class=\"data row13 col10\" >0</td>\n",
              "      <td id=\"T_80d29_row13_col11\" class=\"data row13 col11\" >0</td>\n",
              "      <td id=\"T_80d29_row13_col12\" class=\"data row13 col12\" >0</td>\n",
              "      <td id=\"T_80d29_row13_col13\" class=\"data row13 col13\" >182</td>\n",
              "      <td id=\"T_80d29_row13_col14\" class=\"data row13 col14\" >253</td>\n",
              "      <td id=\"T_80d29_row13_col15\" class=\"data row13 col15\" >253</td>\n",
              "      <td id=\"T_80d29_row13_col16\" class=\"data row13 col16\" >104</td>\n",
              "      <td id=\"T_80d29_row13_col17\" class=\"data row13 col17\" >0</td>\n",
              "      <td id=\"T_80d29_row13_col18\" class=\"data row13 col18\" >0</td>\n",
              "      <td id=\"T_80d29_row13_col19\" class=\"data row13 col19\" >0</td>\n",
              "      <td id=\"T_80d29_row13_col20\" class=\"data row13 col20\" >0</td>\n",
              "      <td id=\"T_80d29_row13_col21\" class=\"data row13 col21\" >0</td>\n",
              "      <td id=\"T_80d29_row13_col22\" class=\"data row13 col22\" >0</td>\n",
              "      <td id=\"T_80d29_row13_col23\" class=\"data row13 col23\" >0</td>\n",
              "    </tr>\n",
              "    <tr>\n",
              "      <th id=\"T_80d29_level0_row14\" class=\"row_heading level0 row14\" >14</th>\n",
              "      <td id=\"T_80d29_row14_col0\" class=\"data row14 col0\" >0</td>\n",
              "      <td id=\"T_80d29_row14_col1\" class=\"data row14 col1\" >0</td>\n",
              "      <td id=\"T_80d29_row14_col2\" class=\"data row14 col2\" >0</td>\n",
              "      <td id=\"T_80d29_row14_col3\" class=\"data row14 col3\" >0</td>\n",
              "      <td id=\"T_80d29_row14_col4\" class=\"data row14 col4\" >0</td>\n",
              "      <td id=\"T_80d29_row14_col5\" class=\"data row14 col5\" >0</td>\n",
              "      <td id=\"T_80d29_row14_col6\" class=\"data row14 col6\" >0</td>\n",
              "      <td id=\"T_80d29_row14_col7\" class=\"data row14 col7\" >0</td>\n",
              "      <td id=\"T_80d29_row14_col8\" class=\"data row14 col8\" >0</td>\n",
              "      <td id=\"T_80d29_row14_col9\" class=\"data row14 col9\" >0</td>\n",
              "      <td id=\"T_80d29_row14_col10\" class=\"data row14 col10\" >0</td>\n",
              "      <td id=\"T_80d29_row14_col11\" class=\"data row14 col11\" >0</td>\n",
              "      <td id=\"T_80d29_row14_col12\" class=\"data row14 col12\" >85</td>\n",
              "      <td id=\"T_80d29_row14_col13\" class=\"data row14 col13\" >249</td>\n",
              "      <td id=\"T_80d29_row14_col14\" class=\"data row14 col14\" >253</td>\n",
              "      <td id=\"T_80d29_row14_col15\" class=\"data row14 col15\" >253</td>\n",
              "      <td id=\"T_80d29_row14_col16\" class=\"data row14 col16\" >36</td>\n",
              "      <td id=\"T_80d29_row14_col17\" class=\"data row14 col17\" >0</td>\n",
              "      <td id=\"T_80d29_row14_col18\" class=\"data row14 col18\" >0</td>\n",
              "      <td id=\"T_80d29_row14_col19\" class=\"data row14 col19\" >0</td>\n",
              "      <td id=\"T_80d29_row14_col20\" class=\"data row14 col20\" >0</td>\n",
              "      <td id=\"T_80d29_row14_col21\" class=\"data row14 col21\" >0</td>\n",
              "      <td id=\"T_80d29_row14_col22\" class=\"data row14 col22\" >0</td>\n",
              "      <td id=\"T_80d29_row14_col23\" class=\"data row14 col23\" >0</td>\n",
              "    </tr>\n",
              "    <tr>\n",
              "      <th id=\"T_80d29_level0_row15\" class=\"row_heading level0 row15\" >15</th>\n",
              "      <td id=\"T_80d29_row15_col0\" class=\"data row15 col0\" >0</td>\n",
              "      <td id=\"T_80d29_row15_col1\" class=\"data row15 col1\" >0</td>\n",
              "      <td id=\"T_80d29_row15_col2\" class=\"data row15 col2\" >0</td>\n",
              "      <td id=\"T_80d29_row15_col3\" class=\"data row15 col3\" >0</td>\n",
              "      <td id=\"T_80d29_row15_col4\" class=\"data row15 col4\" >0</td>\n",
              "      <td id=\"T_80d29_row15_col5\" class=\"data row15 col5\" >0</td>\n",
              "      <td id=\"T_80d29_row15_col6\" class=\"data row15 col6\" >0</td>\n",
              "      <td id=\"T_80d29_row15_col7\" class=\"data row15 col7\" >0</td>\n",
              "      <td id=\"T_80d29_row15_col8\" class=\"data row15 col8\" >0</td>\n",
              "      <td id=\"T_80d29_row15_col9\" class=\"data row15 col9\" >0</td>\n",
              "      <td id=\"T_80d29_row15_col10\" class=\"data row15 col10\" >0</td>\n",
              "      <td id=\"T_80d29_row15_col11\" class=\"data row15 col11\" >60</td>\n",
              "      <td id=\"T_80d29_row15_col12\" class=\"data row15 col12\" >214</td>\n",
              "      <td id=\"T_80d29_row15_col13\" class=\"data row15 col13\" >253</td>\n",
              "      <td id=\"T_80d29_row15_col14\" class=\"data row15 col14\" >253</td>\n",
              "      <td id=\"T_80d29_row15_col15\" class=\"data row15 col15\" >173</td>\n",
              "      <td id=\"T_80d29_row15_col16\" class=\"data row15 col16\" >11</td>\n",
              "      <td id=\"T_80d29_row15_col17\" class=\"data row15 col17\" >0</td>\n",
              "      <td id=\"T_80d29_row15_col18\" class=\"data row15 col18\" >0</td>\n",
              "      <td id=\"T_80d29_row15_col19\" class=\"data row15 col19\" >0</td>\n",
              "      <td id=\"T_80d29_row15_col20\" class=\"data row15 col20\" >0</td>\n",
              "      <td id=\"T_80d29_row15_col21\" class=\"data row15 col21\" >0</td>\n",
              "      <td id=\"T_80d29_row15_col22\" class=\"data row15 col22\" >0</td>\n",
              "      <td id=\"T_80d29_row15_col23\" class=\"data row15 col23\" >0</td>\n",
              "    </tr>\n",
              "    <tr>\n",
              "      <th id=\"T_80d29_level0_row16\" class=\"row_heading level0 row16\" >16</th>\n",
              "      <td id=\"T_80d29_row16_col0\" class=\"data row16 col0\" >0</td>\n",
              "      <td id=\"T_80d29_row16_col1\" class=\"data row16 col1\" >0</td>\n",
              "      <td id=\"T_80d29_row16_col2\" class=\"data row16 col2\" >0</td>\n",
              "      <td id=\"T_80d29_row16_col3\" class=\"data row16 col3\" >0</td>\n",
              "      <td id=\"T_80d29_row16_col4\" class=\"data row16 col4\" >0</td>\n",
              "      <td id=\"T_80d29_row16_col5\" class=\"data row16 col5\" >0</td>\n",
              "      <td id=\"T_80d29_row16_col6\" class=\"data row16 col6\" >0</td>\n",
              "      <td id=\"T_80d29_row16_col7\" class=\"data row16 col7\" >0</td>\n",
              "      <td id=\"T_80d29_row16_col8\" class=\"data row16 col8\" >0</td>\n",
              "      <td id=\"T_80d29_row16_col9\" class=\"data row16 col9\" >0</td>\n",
              "      <td id=\"T_80d29_row16_col10\" class=\"data row16 col10\" >98</td>\n",
              "      <td id=\"T_80d29_row16_col11\" class=\"data row16 col11\" >247</td>\n",
              "      <td id=\"T_80d29_row16_col12\" class=\"data row16 col12\" >253</td>\n",
              "      <td id=\"T_80d29_row16_col13\" class=\"data row16 col13\" >253</td>\n",
              "      <td id=\"T_80d29_row16_col14\" class=\"data row16 col14\" >226</td>\n",
              "      <td id=\"T_80d29_row16_col15\" class=\"data row16 col15\" >9</td>\n",
              "      <td id=\"T_80d29_row16_col16\" class=\"data row16 col16\" >0</td>\n",
              "      <td id=\"T_80d29_row16_col17\" class=\"data row16 col17\" >0</td>\n",
              "      <td id=\"T_80d29_row16_col18\" class=\"data row16 col18\" >0</td>\n",
              "      <td id=\"T_80d29_row16_col19\" class=\"data row16 col19\" >0</td>\n",
              "      <td id=\"T_80d29_row16_col20\" class=\"data row16 col20\" >0</td>\n",
              "      <td id=\"T_80d29_row16_col21\" class=\"data row16 col21\" >0</td>\n",
              "      <td id=\"T_80d29_row16_col22\" class=\"data row16 col22\" >0</td>\n",
              "      <td id=\"T_80d29_row16_col23\" class=\"data row16 col23\" >0</td>\n",
              "    </tr>\n",
              "    <tr>\n",
              "      <th id=\"T_80d29_level0_row17\" class=\"row_heading level0 row17\" >17</th>\n",
              "      <td id=\"T_80d29_row17_col0\" class=\"data row17 col0\" >0</td>\n",
              "      <td id=\"T_80d29_row17_col1\" class=\"data row17 col1\" >0</td>\n",
              "      <td id=\"T_80d29_row17_col2\" class=\"data row17 col2\" >0</td>\n",
              "      <td id=\"T_80d29_row17_col3\" class=\"data row17 col3\" >0</td>\n",
              "      <td id=\"T_80d29_row17_col4\" class=\"data row17 col4\" >0</td>\n",
              "      <td id=\"T_80d29_row17_col5\" class=\"data row17 col5\" >0</td>\n",
              "      <td id=\"T_80d29_row17_col6\" class=\"data row17 col6\" >0</td>\n",
              "      <td id=\"T_80d29_row17_col7\" class=\"data row17 col7\" >0</td>\n",
              "      <td id=\"T_80d29_row17_col8\" class=\"data row17 col8\" >42</td>\n",
              "      <td id=\"T_80d29_row17_col9\" class=\"data row17 col9\" >150</td>\n",
              "      <td id=\"T_80d29_row17_col10\" class=\"data row17 col10\" >252</td>\n",
              "      <td id=\"T_80d29_row17_col11\" class=\"data row17 col11\" >253</td>\n",
              "      <td id=\"T_80d29_row17_col12\" class=\"data row17 col12\" >253</td>\n",
              "      <td id=\"T_80d29_row17_col13\" class=\"data row17 col13\" >233</td>\n",
              "      <td id=\"T_80d29_row17_col14\" class=\"data row17 col14\" >53</td>\n",
              "      <td id=\"T_80d29_row17_col15\" class=\"data row17 col15\" >0</td>\n",
              "      <td id=\"T_80d29_row17_col16\" class=\"data row17 col16\" >0</td>\n",
              "      <td id=\"T_80d29_row17_col17\" class=\"data row17 col17\" >0</td>\n",
              "      <td id=\"T_80d29_row17_col18\" class=\"data row17 col18\" >0</td>\n",
              "      <td id=\"T_80d29_row17_col19\" class=\"data row17 col19\" >0</td>\n",
              "      <td id=\"T_80d29_row17_col20\" class=\"data row17 col20\" >0</td>\n",
              "      <td id=\"T_80d29_row17_col21\" class=\"data row17 col21\" >0</td>\n",
              "      <td id=\"T_80d29_row17_col22\" class=\"data row17 col22\" >0</td>\n",
              "      <td id=\"T_80d29_row17_col23\" class=\"data row17 col23\" >0</td>\n",
              "    </tr>\n",
              "    <tr>\n",
              "      <th id=\"T_80d29_level0_row18\" class=\"row_heading level0 row18\" >18</th>\n",
              "      <td id=\"T_80d29_row18_col0\" class=\"data row18 col0\" >0</td>\n",
              "      <td id=\"T_80d29_row18_col1\" class=\"data row18 col1\" >0</td>\n",
              "      <td id=\"T_80d29_row18_col2\" class=\"data row18 col2\" >42</td>\n",
              "      <td id=\"T_80d29_row18_col3\" class=\"data row18 col3\" >115</td>\n",
              "      <td id=\"T_80d29_row18_col4\" class=\"data row18 col4\" >42</td>\n",
              "      <td id=\"T_80d29_row18_col5\" class=\"data row18 col5\" >60</td>\n",
              "      <td id=\"T_80d29_row18_col6\" class=\"data row18 col6\" >115</td>\n",
              "      <td id=\"T_80d29_row18_col7\" class=\"data row18 col7\" >159</td>\n",
              "      <td id=\"T_80d29_row18_col8\" class=\"data row18 col8\" >240</td>\n",
              "      <td id=\"T_80d29_row18_col9\" class=\"data row18 col9\" >253</td>\n",
              "      <td id=\"T_80d29_row18_col10\" class=\"data row18 col10\" >253</td>\n",
              "      <td id=\"T_80d29_row18_col11\" class=\"data row18 col11\" >250</td>\n",
              "      <td id=\"T_80d29_row18_col12\" class=\"data row18 col12\" >175</td>\n",
              "      <td id=\"T_80d29_row18_col13\" class=\"data row18 col13\" >25</td>\n",
              "      <td id=\"T_80d29_row18_col14\" class=\"data row18 col14\" >0</td>\n",
              "      <td id=\"T_80d29_row18_col15\" class=\"data row18 col15\" >0</td>\n",
              "      <td id=\"T_80d29_row18_col16\" class=\"data row18 col16\" >0</td>\n",
              "      <td id=\"T_80d29_row18_col17\" class=\"data row18 col17\" >0</td>\n",
              "      <td id=\"T_80d29_row18_col18\" class=\"data row18 col18\" >0</td>\n",
              "      <td id=\"T_80d29_row18_col19\" class=\"data row18 col19\" >0</td>\n",
              "      <td id=\"T_80d29_row18_col20\" class=\"data row18 col20\" >0</td>\n",
              "      <td id=\"T_80d29_row18_col21\" class=\"data row18 col21\" >0</td>\n",
              "      <td id=\"T_80d29_row18_col22\" class=\"data row18 col22\" >0</td>\n",
              "      <td id=\"T_80d29_row18_col23\" class=\"data row18 col23\" >0</td>\n",
              "    </tr>\n",
              "    <tr>\n",
              "      <th id=\"T_80d29_level0_row19\" class=\"row_heading level0 row19\" >19</th>\n",
              "      <td id=\"T_80d29_row19_col0\" class=\"data row19 col0\" >0</td>\n",
              "      <td id=\"T_80d29_row19_col1\" class=\"data row19 col1\" >0</td>\n",
              "      <td id=\"T_80d29_row19_col2\" class=\"data row19 col2\" >187</td>\n",
              "      <td id=\"T_80d29_row19_col3\" class=\"data row19 col3\" >253</td>\n",
              "      <td id=\"T_80d29_row19_col4\" class=\"data row19 col4\" >253</td>\n",
              "      <td id=\"T_80d29_row19_col5\" class=\"data row19 col5\" >253</td>\n",
              "      <td id=\"T_80d29_row19_col6\" class=\"data row19 col6\" >253</td>\n",
              "      <td id=\"T_80d29_row19_col7\" class=\"data row19 col7\" >253</td>\n",
              "      <td id=\"T_80d29_row19_col8\" class=\"data row19 col8\" >253</td>\n",
              "      <td id=\"T_80d29_row19_col9\" class=\"data row19 col9\" >253</td>\n",
              "      <td id=\"T_80d29_row19_col10\" class=\"data row19 col10\" >197</td>\n",
              "      <td id=\"T_80d29_row19_col11\" class=\"data row19 col11\" >86</td>\n",
              "      <td id=\"T_80d29_row19_col12\" class=\"data row19 col12\" >0</td>\n",
              "      <td id=\"T_80d29_row19_col13\" class=\"data row19 col13\" >0</td>\n",
              "      <td id=\"T_80d29_row19_col14\" class=\"data row19 col14\" >0</td>\n",
              "      <td id=\"T_80d29_row19_col15\" class=\"data row19 col15\" >0</td>\n",
              "      <td id=\"T_80d29_row19_col16\" class=\"data row19 col16\" >0</td>\n",
              "      <td id=\"T_80d29_row19_col17\" class=\"data row19 col17\" >0</td>\n",
              "      <td id=\"T_80d29_row19_col18\" class=\"data row19 col18\" >0</td>\n",
              "      <td id=\"T_80d29_row19_col19\" class=\"data row19 col19\" >0</td>\n",
              "      <td id=\"T_80d29_row19_col20\" class=\"data row19 col20\" >0</td>\n",
              "      <td id=\"T_80d29_row19_col21\" class=\"data row19 col21\" >0</td>\n",
              "      <td id=\"T_80d29_row19_col22\" class=\"data row19 col22\" >0</td>\n",
              "      <td id=\"T_80d29_row19_col23\" class=\"data row19 col23\" >0</td>\n",
              "    </tr>\n",
              "    <tr>\n",
              "      <th id=\"T_80d29_level0_row20\" class=\"row_heading level0 row20\" >20</th>\n",
              "      <td id=\"T_80d29_row20_col0\" class=\"data row20 col0\" >0</td>\n",
              "      <td id=\"T_80d29_row20_col1\" class=\"data row20 col1\" >0</td>\n",
              "      <td id=\"T_80d29_row20_col2\" class=\"data row20 col2\" >103</td>\n",
              "      <td id=\"T_80d29_row20_col3\" class=\"data row20 col3\" >253</td>\n",
              "      <td id=\"T_80d29_row20_col4\" class=\"data row20 col4\" >253</td>\n",
              "      <td id=\"T_80d29_row20_col5\" class=\"data row20 col5\" >253</td>\n",
              "      <td id=\"T_80d29_row20_col6\" class=\"data row20 col6\" >253</td>\n",
              "      <td id=\"T_80d29_row20_col7\" class=\"data row20 col7\" >253</td>\n",
              "      <td id=\"T_80d29_row20_col8\" class=\"data row20 col8\" >232</td>\n",
              "      <td id=\"T_80d29_row20_col9\" class=\"data row20 col9\" >67</td>\n",
              "      <td id=\"T_80d29_row20_col10\" class=\"data row20 col10\" >1</td>\n",
              "      <td id=\"T_80d29_row20_col11\" class=\"data row20 col11\" >0</td>\n",
              "      <td id=\"T_80d29_row20_col12\" class=\"data row20 col12\" >0</td>\n",
              "      <td id=\"T_80d29_row20_col13\" class=\"data row20 col13\" >0</td>\n",
              "      <td id=\"T_80d29_row20_col14\" class=\"data row20 col14\" >0</td>\n",
              "      <td id=\"T_80d29_row20_col15\" class=\"data row20 col15\" >0</td>\n",
              "      <td id=\"T_80d29_row20_col16\" class=\"data row20 col16\" >0</td>\n",
              "      <td id=\"T_80d29_row20_col17\" class=\"data row20 col17\" >0</td>\n",
              "      <td id=\"T_80d29_row20_col18\" class=\"data row20 col18\" >0</td>\n",
              "      <td id=\"T_80d29_row20_col19\" class=\"data row20 col19\" >0</td>\n",
              "      <td id=\"T_80d29_row20_col20\" class=\"data row20 col20\" >0</td>\n",
              "      <td id=\"T_80d29_row20_col21\" class=\"data row20 col21\" >0</td>\n",
              "      <td id=\"T_80d29_row20_col22\" class=\"data row20 col22\" >0</td>\n",
              "      <td id=\"T_80d29_row20_col23\" class=\"data row20 col23\" >0</td>\n",
              "    </tr>\n",
              "    <tr>\n",
              "      <th id=\"T_80d29_level0_row21\" class=\"row_heading level0 row21\" >21</th>\n",
              "      <td id=\"T_80d29_row21_col0\" class=\"data row21 col0\" >0</td>\n",
              "      <td id=\"T_80d29_row21_col1\" class=\"data row21 col1\" >0</td>\n",
              "      <td id=\"T_80d29_row21_col2\" class=\"data row21 col2\" >0</td>\n",
              "      <td id=\"T_80d29_row21_col3\" class=\"data row21 col3\" >0</td>\n",
              "      <td id=\"T_80d29_row21_col4\" class=\"data row21 col4\" >0</td>\n",
              "      <td id=\"T_80d29_row21_col5\" class=\"data row21 col5\" >0</td>\n",
              "      <td id=\"T_80d29_row21_col6\" class=\"data row21 col6\" >0</td>\n",
              "      <td id=\"T_80d29_row21_col7\" class=\"data row21 col7\" >0</td>\n",
              "      <td id=\"T_80d29_row21_col8\" class=\"data row21 col8\" >0</td>\n",
              "      <td id=\"T_80d29_row21_col9\" class=\"data row21 col9\" >0</td>\n",
              "      <td id=\"T_80d29_row21_col10\" class=\"data row21 col10\" >0</td>\n",
              "      <td id=\"T_80d29_row21_col11\" class=\"data row21 col11\" >0</td>\n",
              "      <td id=\"T_80d29_row21_col12\" class=\"data row21 col12\" >0</td>\n",
              "      <td id=\"T_80d29_row21_col13\" class=\"data row21 col13\" >0</td>\n",
              "      <td id=\"T_80d29_row21_col14\" class=\"data row21 col14\" >0</td>\n",
              "      <td id=\"T_80d29_row21_col15\" class=\"data row21 col15\" >0</td>\n",
              "      <td id=\"T_80d29_row21_col16\" class=\"data row21 col16\" >0</td>\n",
              "      <td id=\"T_80d29_row21_col17\" class=\"data row21 col17\" >0</td>\n",
              "      <td id=\"T_80d29_row21_col18\" class=\"data row21 col18\" >0</td>\n",
              "      <td id=\"T_80d29_row21_col19\" class=\"data row21 col19\" >0</td>\n",
              "      <td id=\"T_80d29_row21_col20\" class=\"data row21 col20\" >0</td>\n",
              "      <td id=\"T_80d29_row21_col21\" class=\"data row21 col21\" >0</td>\n",
              "      <td id=\"T_80d29_row21_col22\" class=\"data row21 col22\" >0</td>\n",
              "      <td id=\"T_80d29_row21_col23\" class=\"data row21 col23\" >0</td>\n",
              "    </tr>\n",
              "    <tr>\n",
              "      <th id=\"T_80d29_level0_row22\" class=\"row_heading level0 row22\" >22</th>\n",
              "      <td id=\"T_80d29_row22_col0\" class=\"data row22 col0\" >0</td>\n",
              "      <td id=\"T_80d29_row22_col1\" class=\"data row22 col1\" >0</td>\n",
              "      <td id=\"T_80d29_row22_col2\" class=\"data row22 col2\" >0</td>\n",
              "      <td id=\"T_80d29_row22_col3\" class=\"data row22 col3\" >0</td>\n",
              "      <td id=\"T_80d29_row22_col4\" class=\"data row22 col4\" >0</td>\n",
              "      <td id=\"T_80d29_row22_col5\" class=\"data row22 col5\" >0</td>\n",
              "      <td id=\"T_80d29_row22_col6\" class=\"data row22 col6\" >0</td>\n",
              "      <td id=\"T_80d29_row22_col7\" class=\"data row22 col7\" >0</td>\n",
              "      <td id=\"T_80d29_row22_col8\" class=\"data row22 col8\" >0</td>\n",
              "      <td id=\"T_80d29_row22_col9\" class=\"data row22 col9\" >0</td>\n",
              "      <td id=\"T_80d29_row22_col10\" class=\"data row22 col10\" >0</td>\n",
              "      <td id=\"T_80d29_row22_col11\" class=\"data row22 col11\" >0</td>\n",
              "      <td id=\"T_80d29_row22_col12\" class=\"data row22 col12\" >0</td>\n",
              "      <td id=\"T_80d29_row22_col13\" class=\"data row22 col13\" >0</td>\n",
              "      <td id=\"T_80d29_row22_col14\" class=\"data row22 col14\" >0</td>\n",
              "      <td id=\"T_80d29_row22_col15\" class=\"data row22 col15\" >0</td>\n",
              "      <td id=\"T_80d29_row22_col16\" class=\"data row22 col16\" >0</td>\n",
              "      <td id=\"T_80d29_row22_col17\" class=\"data row22 col17\" >0</td>\n",
              "      <td id=\"T_80d29_row22_col18\" class=\"data row22 col18\" >0</td>\n",
              "      <td id=\"T_80d29_row22_col19\" class=\"data row22 col19\" >0</td>\n",
              "      <td id=\"T_80d29_row22_col20\" class=\"data row22 col20\" >0</td>\n",
              "      <td id=\"T_80d29_row22_col21\" class=\"data row22 col21\" >0</td>\n",
              "      <td id=\"T_80d29_row22_col22\" class=\"data row22 col22\" >0</td>\n",
              "      <td id=\"T_80d29_row22_col23\" class=\"data row22 col23\" >0</td>\n",
              "    </tr>\n",
              "    <tr>\n",
              "      <th id=\"T_80d29_level0_row23\" class=\"row_heading level0 row23\" >23</th>\n",
              "      <td id=\"T_80d29_row23_col0\" class=\"data row23 col0\" >0</td>\n",
              "      <td id=\"T_80d29_row23_col1\" class=\"data row23 col1\" >0</td>\n",
              "      <td id=\"T_80d29_row23_col2\" class=\"data row23 col2\" >0</td>\n",
              "      <td id=\"T_80d29_row23_col3\" class=\"data row23 col3\" >0</td>\n",
              "      <td id=\"T_80d29_row23_col4\" class=\"data row23 col4\" >0</td>\n",
              "      <td id=\"T_80d29_row23_col5\" class=\"data row23 col5\" >0</td>\n",
              "      <td id=\"T_80d29_row23_col6\" class=\"data row23 col6\" >0</td>\n",
              "      <td id=\"T_80d29_row23_col7\" class=\"data row23 col7\" >0</td>\n",
              "      <td id=\"T_80d29_row23_col8\" class=\"data row23 col8\" >0</td>\n",
              "      <td id=\"T_80d29_row23_col9\" class=\"data row23 col9\" >0</td>\n",
              "      <td id=\"T_80d29_row23_col10\" class=\"data row23 col10\" >0</td>\n",
              "      <td id=\"T_80d29_row23_col11\" class=\"data row23 col11\" >0</td>\n",
              "      <td id=\"T_80d29_row23_col12\" class=\"data row23 col12\" >0</td>\n",
              "      <td id=\"T_80d29_row23_col13\" class=\"data row23 col13\" >0</td>\n",
              "      <td id=\"T_80d29_row23_col14\" class=\"data row23 col14\" >0</td>\n",
              "      <td id=\"T_80d29_row23_col15\" class=\"data row23 col15\" >0</td>\n",
              "      <td id=\"T_80d29_row23_col16\" class=\"data row23 col16\" >0</td>\n",
              "      <td id=\"T_80d29_row23_col17\" class=\"data row23 col17\" >0</td>\n",
              "      <td id=\"T_80d29_row23_col18\" class=\"data row23 col18\" >0</td>\n",
              "      <td id=\"T_80d29_row23_col19\" class=\"data row23 col19\" >0</td>\n",
              "      <td id=\"T_80d29_row23_col20\" class=\"data row23 col20\" >0</td>\n",
              "      <td id=\"T_80d29_row23_col21\" class=\"data row23 col21\" >0</td>\n",
              "      <td id=\"T_80d29_row23_col22\" class=\"data row23 col22\" >0</td>\n",
              "      <td id=\"T_80d29_row23_col23\" class=\"data row23 col23\" >0</td>\n",
              "    </tr>\n",
              "  </tbody>\n",
              "</table>\n"
            ]
          },
          "metadata": {},
          "execution_count": 14
        }
      ]
    },
    {
      "cell_type": "markdown",
      "metadata": {
        "id": "kJr9fJpbJ7_M"
      },
      "source": [
        "## First Try: Pixel Similarity"
      ]
    },
    {
      "cell_type": "code",
      "source": [
        "# You can see that the background white pixels are stored as the number 0, black is the number 255, and shades of gray are between the two.\n",
        "# The entire image contains 28 pixels across and 28 pixels down, for a total of 784 pixels.\n",
        "# (This is much smaller than an image that you would get from a phone camera, which has millions of pixels,\n",
        "# but is a convenient size for our initial learning and experiments.                                                                                                                                                                                                                                   We will build up to bigger, full-color images soon.)\n",
        "# So, now you’ve seen what an image looks like to a computer, let’s recall our goal:\n",
        "# We need to create a model that can recognize 3s and 7s.\n",
        "# How might you go about getting a computer to do that?\n",
        "# This is now an exercise of thinking about features since the features of two dissimilar objects are going to have a different structure\n",
        "# What kind of features might the program need to understand and evaluate?\n",
        "# How would it identify those features? How would it combine those features?\n",
        "# You could start thinking about creating a vector of all the pixels for a 3 vs a 7\n",
        "# We could compute an average pixel value for every pixel of the 3s and do the same for the 7s. This would give us an ideal point\n",
        "# measure of 3 vs 7 and could provide a baseline. We could then measure the average of an incoming 3 data point and then compare it\n",
        "# to the baseline 3 as well as 7 and see how far away the average for the candidate data point are from the ideal and then\n",
        "# probabilistically assign it to either 3 or 7 depending on high the probability measure are. This where tensors come in.\n",
        "# We can create a tensor containing all of our 3s stacked together using python list comprehension\n",
        "# Review list comprehensions in python\n",
        "# A list comprehension looks like this: new_list = [f(o) for o in a_list if o>0].\n",
        "# This will return every element of a_list that is greater than 0, after passing it to the function f.\n",
        "# There are three parts here: the collection you are iterating over (a_list),\n",
        "# an optional filter (if o>0) or if then condition, and something to do to each element (f(o)).\n",
        "# It’s not only shorter to write, but also way faster than the alternative ways of creating the same list with a loop.\n"
      ],
      "metadata": {
        "id": "a28OtzIkaIPz"
      },
      "execution_count": 15,
      "outputs": []
    },
    {
      "cell_type": "code",
      "execution_count": 16,
      "metadata": {
        "colab": {
          "base_uri": "https://localhost:8080/"
        },
        "id": "LKEvkThrJ7_S",
        "outputId": "a73fb4e6-bf66-455e-e92b-c85da3e1e61b"
      },
      "outputs": [
        {
          "output_type": "execute_result",
          "data": {
            "text/plain": [
              "(6131, 6265)"
            ]
          },
          "metadata": {},
          "execution_count": 16
        }
      ],
      "source": [
        "seven_tensors = [tensor(Image.open(o)) for o in sevens]\n",
        "three_tensors = [tensor(Image.open(o)) for o in threes]\n",
        "len(three_tensors),len(seven_tensors)"
      ]
    },
    {
      "cell_type": "code",
      "execution_count": 17,
      "metadata": {
        "id": "w7K6erMRJ7_e",
        "colab": {
          "base_uri": "https://localhost:8080/",
          "height": 114
        },
        "outputId": "caa5539f-074c-45e4-e612-ea279c6b20ee"
      },
      "outputs": [
        {
          "output_type": "display_data",
          "data": {
            "text/plain": [
              "<Figure size 100x100 with 1 Axes>"
            ],
            "image/png": "[encoded data removed]"
          },
          "metadata": {}
        }
      ],
      "source": [
        "show_image(three_tensors[1]);"
      ]
    },
    {
      "cell_type": "code",
      "source": [],
      "metadata": {
        "id": "MNNe2uUZ7SFl"
      },
      "execution_count": 17,
      "outputs": []
    },
    {
      "cell_type": "code",
      "execution_count": 18,
      "metadata": {
        "colab": {
          "base_uri": "https://localhost:8080/"
        },
        "id": "qBbFuk2zJ7_f",
        "outputId": "2816e22b-89f7-4272-827e-a8886cc82009"
      },
      "outputs": [
        {
          "output_type": "execute_result",
          "data": {
            "text/plain": [
              "torch.Size([6131, 28, 28])"
            ]
          },
          "metadata": {},
          "execution_count": 18
        },
        {
          "output_type": "execute_result",
          "data": {
            "text/plain": [
              "torch.Size([6265, 28, 28])"
            ]
          },
          "metadata": {},
          "execution_count": 18
        }
      ],
      "source": [
        "# For every pixel position, we want to compute the average over all the images of the intensity of that pixel.\n",
        "# To do this, we first combine all the images in this list into a single three-dimensional tensor.\n",
        "# The most common way to describe such a tensor is to call it a rank-3 tensor.\n",
        "# We often need to stack up individual tensors in a collection into a single tensor.\n",
        "# PyTorch has a function called stack that we can use for this purpose.\n",
        "# Since these images are floats, the pixel values are expected to be between 0 and 1 and we will divide by 255.\n",
        "# Why 255 - to convert RGB pixel values which are in the range of (0,255) to (0.0, 1.0).\n",
        "# Grey scale images have 256 values - 8 bit for each channel and 2^8 = 256!\n",
        "# Tensors - founded by Gregorio Ricci-Curbastro, Tullio Levi-Civita who popularised tensors in 1900\n",
        "# – continuing the earlier work of Bernhard Riemann and Elwin Bruno Christoffel\n",
        "# Tensors - origin of the word from the muscle that stretche or tightens\n",
        "# Tensors are a generalization of matrices and vectors\n",
        "# The most important attributes of a tensor is its shape which for the threes have 6131 images - each of size 28 * 28.\n",
        "# There is nothing specifically about this tensor that says that the first axis is the number of images, the second is the height,\n",
        "# and the third is the width—the semantics of a tensor are entirely up to us, and how we construct it.\n",
        "# As far as PyTorch is concerned, it is just a bunch of numbers in memory.\n",
        "stacked_sevens = torch.stack(seven_tensors).float()/255\n",
        "stacked_threes = torch.stack(three_tensors).float()/255\n",
        "stacked_threes.shape\n",
        "stacked_sevens.shape"
      ]
    },
    {
      "cell_type": "code",
      "source": [
        "# Scalars - is a single number\n",
        "x = np.array(49)\n",
        "print(x)\n",
        "print('A scalar is of rank %d' %(x.ndim))"
      ],
      "metadata": {
        "colab": {
          "base_uri": "https://localhost:8080/"
        },
        "id": "Kzl0mYPj7XQZ",
        "outputId": "0526dc02-6c1e-4557-e3f8-77d4ee78c45e"
      },
      "execution_count": 19,
      "outputs": [
        {
          "output_type": "stream",
          "name": "stdout",
          "text": [
            "49\n",
            "A scalar is of rank 0\n"
          ]
        }
      ]
    },
    {
      "cell_type": "code",
      "source": [
        "# Vector - single dimension (1D) tensor which is also refered to as an array.\n",
        "# A vector is made up of a series of numbers has 1 axis and is of rank 1\n",
        "x = np.array([1, 1, 2, 3, 5, 8])\n",
        "print(x)\n",
        "print('A vector is of rank %d' %(x.ndim))\n",
        ""
      ],
      "metadata": {
        "colab": {
          "base_uri": "https://localhost:8080/"
        },
        "id": "NZ-bOePc7x0h",
        "outputId": "438aae24-e0e8-4f3e-f976-ce7a4b5a7e45"
      },
      "execution_count": 20,
      "outputs": [
        {
          "output_type": "stream",
          "name": "stdout",
          "text": [
            "[1 1 2 3 5 8]\n",
            "A vector is of rank 1\n"
          ]
        }
      ]
    },
    {
      "cell_type": "code",
      "source": [
        "# Matrix - A matrix is a tensor of rank 2, meaning that it has 2 axes.\n",
        "# A matrix is arranged as a grid of numbers (think rows and columns), and is technically a 2 dimension (2D) tensor\n",
        "x = np.array([[1, 2, 3],\n",
        "              [4, 5, 6],\n",
        "              [7, 8, 9]])\n",
        "print(x)\n",
        "print('A matrix is of rank %d' %(x.ndim))"
      ],
      "metadata": {
        "colab": {
          "base_uri": "https://localhost:8080/"
        },
        "id": "XvlS0kSN8F6W",
        "outputId": "90eea91b-8506-4491-ca01-bac819a3918e"
      },
      "execution_count": 21,
      "outputs": [
        {
          "output_type": "stream",
          "name": "stdout",
          "text": [
            "[[1 2 3]\n",
            " [4 5 6]\n",
            " [7 8 9]]\n",
            "A matrix is of rank 2\n"
          ]
        }
      ]
    },
    {
      "cell_type": "code",
      "source": [
        "# Tensors - speaking of the generalization of the concept of a matrix to N >= 3 dimensions\n",
        "x = np.array([[[1, 4, 7],\n",
        "               [2, 5, 8],\n",
        "               [3, 6, 9]],\n",
        "              [[10, 40, 70],\n",
        "               [20, 50, 80],\n",
        "               [30, 60, 90]],\n",
        "              [[100, 400, 700],\n",
        "               [200, 500, 800],\n",
        "               [300, 600, 900]]])\n",
        "print(x)\n",
        "print('This tensor is of rank %d' %(x.ndim))"
      ],
      "metadata": {
        "colab": {
          "base_uri": "https://localhost:8080/"
        },
        "id": "qjXtmfnv8ow7",
        "outputId": "7dd032dc-84e4-4e00-b932-3eee89f2bde0"
      },
      "execution_count": 22,
      "outputs": [
        {
          "output_type": "stream",
          "name": "stdout",
          "text": [
            "[[[  1   4   7]\n",
            "  [  2   5   8]\n",
            "  [  3   6   9]]\n",
            "\n",
            " [[ 10  40  70]\n",
            "  [ 20  50  80]\n",
            "  [ 30  60  90]]\n",
            "\n",
            " [[100 400 700]\n",
            "  [200 500 800]\n",
            "  [300 600 900]]]\n",
            "This tensor is of rank 3\n"
          ]
        }
      ]
    },
    {
      "cell_type": "code",
      "execution_count": 23,
      "metadata": {
        "colab": {
          "base_uri": "https://localhost:8080/"
        },
        "id": "TOqDQWwzJ7_k",
        "outputId": "9ec21b7e-1787-442d-e01c-84670cf19746"
      },
      "outputs": [
        {
          "output_type": "execute_result",
          "data": {
            "text/plain": [
              "3"
            ]
          },
          "metadata": {},
          "execution_count": 23
        }
      ],
      "source": [
        "# The length of a tensor’s shape is its rank. It is important to commit to memory and practice these bits of tensor jargon:\n",
        "# Rank is the number of axes or dimensions in a tensor; shape is the size of each axis of a tensor. The rank of a tensor is different from\n",
        "# the rank of a matrix which is the number of independent dimensions of the matrix. A tensor has magnitude, direction and a plane and is a\n",
        "# generalization of matrices and vectors.\n",
        "# The word dimension has multiple meanings and it is best to translate all statements into terms of rank, axis and length - which are unambigous\n",
        "len(stacked_threes.shape)"
      ]
    },
    {
      "cell_type": "code",
      "execution_count": 24,
      "metadata": {
        "colab": {
          "base_uri": "https://localhost:8080/"
        },
        "id": "KhcDGDL0J7_1",
        "outputId": "db163f5d-d6ec-46fb-8b02-c3171c3277b1"
      },
      "outputs": [
        {
          "output_type": "execute_result",
          "data": {
            "text/plain": [
              "3"
            ]
          },
          "metadata": {},
          "execution_count": 24
        }
      ],
      "source": [
        "# Rank of stacked_threes\n",
        "stacked_threes.ndim"
      ]
    },
    {
      "cell_type": "code",
      "execution_count": 25,
      "metadata": {
        "colab": {
          "base_uri": "https://localhost:8080/",
          "height": 114
        },
        "id": "pirXa7NCJ7_1",
        "outputId": "adaa6649-995f-4bc5-fe2a-aab754bab21b"
      },
      "outputs": [
        {
          "output_type": "display_data",
          "data": {
            "text/plain": [
              "<Figure size 100x100 with 1 Axes>"
            ],
            "image/png": "[encoded data removed]"
          },
          "metadata": {}
        }
      ],
      "source": [
        "# Compute what an ideal 3 looks like. This will compute for every pixel position, the average of that pixel over all images.\n",
        "# The result will be one value for every pixel position, or a single image\n",
        "# The image is blurry and wispy as it is an average\n",
        "mean3 = stacked_threes.mean(0)\n",
        "show_image(mean3);"
      ]
    },
    {
      "cell_type": "code",
      "execution_count": 26,
      "metadata": {
        "colab": {
          "base_uri": "https://localhost:8080/",
          "height": 114
        },
        "id": "W18Y2G5EJ7_5",
        "outputId": "955cf7b8-cc3d-4803-cc1a-24727df56f2d"
      },
      "outputs": [
        {
          "output_type": "display_data",
          "data": {
            "text/plain": [
              "<Figure size 100x100 with 1 Axes>"
            ],
            "image/png": "[encoded data removed]"
          },
          "metadata": {}
        }
      ],
      "source": [
        "mean7 = stacked_sevens.mean(0)\n",
        "show_image(mean7);"
      ]
    },
    {
      "cell_type": "code",
      "execution_count": 27,
      "metadata": {
        "colab": {
          "base_uri": "https://localhost:8080/",
          "height": 114
        },
        "id": "kVl_RBl-J8AA",
        "outputId": "08697980-e458-485b-ffe9-9ba831dd5e42"
      },
      "outputs": [
        {
          "output_type": "display_data",
          "data": {
            "text/plain": [
              "<Figure size 100x100 with 1 Axes>"
            ],
            "image/png": "[encoded data removed]"
          },
          "metadata": {}
        }
      ],
      "source": [
        "# Let us pick an arbitrary 3 and measure its distance from our \"ideal digits\"\n",
        "a_3 = stacked_threes[1]\n",
        "show_image(a_3);"
      ]
    },
    {
      "cell_type": "code",
      "execution_count": 28,
      "metadata": {
        "colab": {
          "base_uri": "https://localhost:8080/"
        },
        "id": "RTS0DRLWJ8AA",
        "outputId": "192679b4-1e9e-4b3a-d316-51179a3fa2a0"
      },
      "outputs": [
        {
          "output_type": "execute_result",
          "data": {
            "text/plain": [
              "(tensor(0.1114), tensor(0.2021))"
            ]
          },
          "metadata": {},
          "execution_count": 28
        }
      ],
      "source": [
        "# There are two broad ways to do this\n",
        "# 1. The mean of the absolute value of differences, with negative values replaced with positive values - mean absolute difference - L1 norm\n",
        "# 2. The root mean square (RMSE) or the mean of the square of differences and then take the square root of the sum  - L2 norm\n",
        "dist_3_abs = (a_3 - mean3).abs().mean()\n",
        "dist_3_sqr = ((a_3 - mean3)**2).mean().sqrt()\n",
        "dist_3_abs,dist_3_sqr"
      ]
    },
    {
      "cell_type": "code",
      "execution_count": 29,
      "metadata": {
        "colab": {
          "base_uri": "https://localhost:8080/"
        },
        "id": "QE74bwnZJ8AB",
        "outputId": "c628d2bb-3037-4d4f-f734-9d41b8d05a80"
      },
      "outputs": [
        {
          "output_type": "execute_result",
          "data": {
            "text/plain": [
              "(tensor(0.1586), tensor(0.3021))"
            ]
          },
          "metadata": {},
          "execution_count": 29
        }
      ],
      "source": [
        "# Compute the distance of the arbitrary 3 from the 7 digit mean\n",
        "# In both cases, the distance between our 3 and the “ideal” 3 is less than the distance to the ideal 7,\n",
        "# so our simple model will give the right prediction in this case.\n",
        "# (tensor(0.1114), tensor(0.2021)) < (tensor(0.1586), tensor(0.3021))\n",
        "dist_7_abs = (a_3 - mean7).abs().mean()\n",
        "dist_7_sqr = ((a_3 - mean7)**2).mean().sqrt()\n",
        "dist_7_abs,dist_7_sqr"
      ]
    },
    {
      "cell_type": "code",
      "execution_count": 30,
      "metadata": {
        "colab": {
          "base_uri": "https://localhost:8080/"
        },
        "id": "lfuPwo4NJ8AC",
        "outputId": "a78e75b7-0bbe-452d-e648-2e25c1d51bd0"
      },
      "outputs": [
        {
          "output_type": "execute_result",
          "data": {
            "text/plain": [
              "(tensor(0.1586), tensor(0.3021))"
            ]
          },
          "metadata": {},
          "execution_count": 30
        }
      ],
      "source": [
        "# We use the loss function provided by PyTorch which is inside torch.nn.functional, which the PyTorch team recommends importing as F\n",
        "F.l1_loss(a_3.float(),mean7), F.mse_loss(a_3,mean7).sqrt()"
      ]
    },
    {
      "cell_type": "markdown",
      "metadata": {
        "id": "quBC5sGVJ8AE"
      },
      "source": [
        "### NumPy Arrays and PyTorch Tensors"
      ]
    },
    {
      "cell_type": "code",
      "execution_count": 31,
      "metadata": {
        "id": "86NPoAIlJ8AE"
      },
      "outputs": [],
      "source": [
        "# Numpy is the most widely used library for scientific and numeric programming in Python.\n",
        "# It provides similar functionality and a similar API to that provided by PyTorch;\n",
        "# however, it does not support using the GPU or calculating gradients, which are both critical for deep learning.\n",
        "# Therefore, we will generally use PyTorch tensors instead of NumPy arrays, where possible.\n",
        "# A PyTorch tensor is nearly the same thing as a NumPy array except it can live on the GPU and can run much faster\n",
        "# GPUs are specifically designed to accelerate computer workloads.\n",
        "# a PyTorch tensors also cannot be jagged. It is always a regularly shaped multidimensional rectangular structure.\n",
        "data = [[1,2,3],[4,5,6]]\n",
        "arr = array (data)\n",
        "tns = tensor(data)"
      ]
    },
    {
      "cell_type": "code",
      "execution_count": 32,
      "metadata": {
        "colab": {
          "base_uri": "https://localhost:8080/"
        },
        "id": "9HQkUNVnJ8AE",
        "outputId": "751dd517-0e20-411b-f50f-9113366a6f95"
      },
      "outputs": [
        {
          "output_type": "execute_result",
          "data": {
            "text/plain": [
              "array([[1, 2, 3],\n",
              "       [4, 5, 6]])"
            ]
          },
          "metadata": {},
          "execution_count": 32
        }
      ],
      "source": [
        "arr  # numpy"
      ]
    },
    {
      "cell_type": "code",
      "execution_count": 33,
      "metadata": {
        "colab": {
          "base_uri": "https://localhost:8080/"
        },
        "id": "bzPgKYlxJ8AF",
        "outputId": "b20547c5-906e-43a7-e54f-923eb5e12737"
      },
      "outputs": [
        {
          "output_type": "execute_result",
          "data": {
            "text/plain": [
              "tensor([[1, 2, 3],\n",
              "        [4, 5, 6]])"
            ]
          },
          "metadata": {},
          "execution_count": 33
        }
      ],
      "source": [
        "tns  # pytorch"
      ]
    },
    {
      "cell_type": "code",
      "execution_count": 34,
      "metadata": {
        "colab": {
          "base_uri": "https://localhost:8080/"
        },
        "id": "kwDnV47GJ8AG",
        "outputId": "b25dae82-45ef-4913-dd8a-4ee3494595cf"
      },
      "outputs": [
        {
          "output_type": "execute_result",
          "data": {
            "text/plain": [
              "tensor([4, 5, 6])"
            ]
          },
          "metadata": {},
          "execution_count": 34
        }
      ],
      "source": [
        "# You can select a row - like lists in Python tensors are 0-indexed - so 1 refers to the second row / column\n",
        "tns[1]"
      ]
    },
    {
      "cell_type": "code",
      "execution_count": 35,
      "metadata": {
        "colab": {
          "base_uri": "https://localhost:8080/"
        },
        "id": "m_l8xHvxJ8AH",
        "outputId": "b3bd5b60-8729-4cd6-d42f-88f2945e8b7c"
      },
      "outputs": [
        {
          "output_type": "execute_result",
          "data": {
            "text/plain": [
              "tensor([2, 5])"
            ]
          },
          "metadata": {},
          "execution_count": 35
        }
      ],
      "source": [
        "# Indexing by column\n",
        "tns[:,1]"
      ]
    },
    {
      "cell_type": "code",
      "execution_count": 36,
      "metadata": {
        "colab": {
          "base_uri": "https://localhost:8080/"
        },
        "id": "RLhQsV9yJ8AH",
        "outputId": "e6fce4fd-9e12-4f4f-a9cf-c414a78e9422"
      },
      "outputs": [
        {
          "output_type": "execute_result",
          "data": {
            "text/plain": [
              "tensor([5, 6])"
            ]
          },
          "metadata": {},
          "execution_count": 36
        }
      ],
      "source": [
        "# Use the Python slice syntax ([start:end]) - start with the second row / column\n",
        "tns[1,1:3]"
      ]
    },
    {
      "cell_type": "code",
      "execution_count": 37,
      "metadata": {
        "colab": {
          "base_uri": "https://localhost:8080/"
        },
        "id": "NelzMHI6J8AH",
        "outputId": "9e783495-97f8-4576-9e9a-df8344408059"
      },
      "outputs": [
        {
          "output_type": "execute_result",
          "data": {
            "text/plain": [
              "tensor([[2, 3, 4],\n",
              "        [5, 6, 7]])"
            ]
          },
          "metadata": {},
          "execution_count": 37
        }
      ],
      "source": [
        "# Use standard operators\n",
        "tns+1"
      ]
    },
    {
      "cell_type": "code",
      "execution_count": 38,
      "metadata": {
        "colab": {
          "base_uri": "https://localhost:8080/",
          "height": 35
        },
        "id": "BLkvQfzcJ8AH",
        "outputId": "f95650ad-c1c8-4e45-ff84-f106c8180ffc"
      },
      "outputs": [
        {
          "output_type": "execute_result",
          "data": {
            "text/plain": [
              "'torch.LongTensor'"
            ],
            "application/vnd.google.colaboratory.intrinsic+json": {
              "type": "string"
            }
          },
          "metadata": {},
          "execution_count": 38
        }
      ],
      "source": [
        "# Tensors have a type\n",
        "tns.type()"
      ]
    },
    {
      "cell_type": "code",
      "execution_count": 39,
      "metadata": {
        "colab": {
          "base_uri": "https://localhost:8080/"
        },
        "id": "plvpnnZpJ8AI",
        "outputId": "2022b324-849c-44ad-f842-e673841c05e0"
      },
      "outputs": [
        {
          "output_type": "execute_result",
          "data": {
            "text/plain": [
              "tensor([[1.5000, 3.0000, 4.5000],\n",
              "        [6.0000, 7.5000, 9.0000]])"
            ]
          },
          "metadata": {},
          "execution_count": 39
        }
      ],
      "source": [
        "# Will automatically change that type as needed; for example, from int to float:\n",
        "tns*1.5"
      ]
    },
    {
      "cell_type": "markdown",
      "metadata": {
        "id": "j0ldl1MoJ8AJ"
      },
      "source": [
        "## Computing Metrics Using Broadcasting"
      ]
    },
    {
      "cell_type": "code",
      "execution_count": 40,
      "metadata": {
        "colab": {
          "base_uri": "https://localhost:8080/"
        },
        "id": "AQ5BExhRJ8AJ",
        "outputId": "67d63e2b-2c2f-4083-c812-2b699842e0d5"
      },
      "outputs": [
        {
          "output_type": "execute_result",
          "data": {
            "text/plain": [
              "(torch.Size([1010, 28, 28]), torch.Size([1028, 28, 28]))"
            ]
          },
          "metadata": {},
          "execution_count": 40
        }
      ],
      "source": [
        "# Is the baseline measure any good. For that we need to define metrics\n",
        "# The mse or rmse are not understandable to most people - and we need to define accuracy as the metric for classification models\n",
        "# We want to calculate our metric over a validation set. This is so that we do not inadvertently overfit—that is, train a model\n",
        "# to work well only on our training data. A validation dataset has already been created.\n",
        "# Create tensors for our 3s and 7s from that directory.\n",
        "# These are the tensors we will use to calculate a metric measuring the quality of our first effort / try model,\n",
        "# which measures distance from an ideal image:\n",
        "# These computations are from the validation dataset.\n",
        "# Check the shapes as you go. There are two tensors here - one representing the 3s validation data set of 1010 images of size 28*28\n",
        "# and the other representing the 7s validation set of 1028 images of size 28*28\n",
        "valid_3_tens = torch.stack([tensor(Image.open(o))\n",
        "                            for o in (path/'valid'/'3').ls()])\n",
        "valid_3_tens = valid_3_tens.float()/255\n",
        "valid_7_tens = torch.stack([tensor(Image.open(o))\n",
        "                            for o in (path/'valid'/'7').ls()])\n",
        "valid_7_tens = valid_7_tens.float()/255\n",
        "valid_3_tens.shape,valid_7_tens.shape"
      ]
    },
    {
      "cell_type": "code",
      "execution_count": 41,
      "metadata": {
        "colab": {
          "base_uri": "https://localhost:8080/"
        },
        "id": "H1kbpuDxJ8AJ",
        "outputId": "6b8b8fb5-b91a-4349-8c64-3c8a1e38db75"
      },
      "outputs": [
        {
          "output_type": "execute_result",
          "data": {
            "text/plain": [
              "tensor(0.1114)"
            ]
          },
          "metadata": {},
          "execution_count": 41
        }
      ],
      "source": [
        "#Define a simple function that calculates the mean absolute error and apply it on the arbitrary chosen 3 - same value as before\n",
        "def mnist_distance(a,b):\n",
        "  return (a-b).abs().mean((-1,-2))\n",
        "mnist_distance(a_3, mean3)"
      ]
    },
    {
      "cell_type": "code",
      "execution_count": 42,
      "metadata": {
        "colab": {
          "base_uri": "https://localhost:8080/"
        },
        "id": "qJHaBYamJ8AO",
        "outputId": "e0735a2c-ce50-415f-eb92-cff7fe225aab"
      },
      "outputs": [
        {
          "output_type": "execute_result",
          "data": {
            "text/plain": [
              "(tensor([0.1365, 0.1126, 0.1364,  ..., 0.1286, 0.1248, 0.1573]),\n",
              " torch.Size([1010]))"
            ]
          },
          "metadata": {},
          "execution_count": 42
        },
        {
          "output_type": "execute_result",
          "data": {
            "text/plain": [
              "1"
            ]
          },
          "metadata": {},
          "execution_count": 42
        }
      ],
      "source": [
        "# We need to calculate the distance to the ideal 3 for every image in teh validation set. Normally we would use a for loop\n",
        "# over all the simgle image tensors and that are stacked within our validation set tensor valid_3_tens, which has a shape of [1010,28,28] representing 1,010 images\n",
        "# PyTorch, when it tries to perform a simple subtraction operation between two tensors of different ranks, will use broadcasting:\n",
        "# it will automatically expand the tensor with the smaller rank to have the same size as the one with the larger rank.\n",
        "# Broadcasting is an important capability that makes tensor code much easier to write.\n",
        "valid_3_dist = mnist_distance(valid_3_tens, mean3)\n",
        "valid_3_dist, valid_3_dist.shape\n",
        "valid_3_dist.ndim"
      ]
    },
    {
      "cell_type": "code",
      "execution_count": 43,
      "metadata": {
        "colab": {
          "base_uri": "https://localhost:8080/"
        },
        "id": "2dewKJdMJ8AO",
        "outputId": "8b45141a-1479-45b3-9fa0-ce7c3eaa0782"
      },
      "outputs": [
        {
          "output_type": "execute_result",
          "data": {
            "text/plain": [
              "tensor([2, 3, 4])"
            ]
          },
          "metadata": {},
          "execution_count": 43
        }
      ],
      "source": [
        "# Another example\n",
        "tensor([1,2,3]) + tensor([1,1,1])"
      ]
    },
    {
      "cell_type": "code",
      "execution_count": 44,
      "metadata": {
        "colab": {
          "base_uri": "https://localhost:8080/"
        },
        "id": "aA69s0gCJ8AO",
        "outputId": "f24ca84b-0444-4ca8-c461-a36e16e8504e"
      },
      "outputs": [
        {
          "output_type": "execute_result",
          "data": {
            "text/plain": [
              "torch.Size([1010, 28, 28])"
            ]
          },
          "metadata": {},
          "execution_count": 44
        }
      ],
      "source": [
        "# So in this case, PyTorch treats mean3, a rank-2 tensor representing a single image,\n",
        "# as if it were 1,010 copies of the same image, and then subtracts each of those copies from each 3 in our validation set.\n",
        "# There are a couple of important points about how broadcasting is implemented, which make it valuable not just for expressivity\n",
        "# but also for performance:\n",
        "\n",
        "# PyTorch does not actually copy mean3 1,010 times. It pretends it were a tensor of that shape, but does not allocate any additional memory\n",
        "# It does the whole calculation in C (or, if you’re using a GPU, in CUDA, the equivalent of C on the GPU),\n",
        "# tens of thousands of times faster than pure Python (up to millions of times faster on a GPU!).\n",
        "# This is true of all broadcasting and elementwise operations and functions done in PyTorch.\n",
        "# It is the most important technique for you to know to create efficient PyTorch code.\n",
        "# There is in mnist_distance the abs function.\n",
        "# You might be able to guess now what this does when applied to a tensor.\n",
        "# It applies the method to each individual element in the tensor, and returns a tensor of the results\n",
        "# (that is, it applies the method elementwise). So in this case, we’ll get back 1,010 matrices of absolute values.\n",
        "# Finally, our function calls mean((-1,-2)).\n",
        "# The tuple (-1,-2) represents a range of axes. In Python, -1 refers to the last element, and -2 refers to the second-to-last.\n",
        "# So in this case, this tells PyTorch that we want to take the mean ranging over the values indexed by the last two axes of the tensor.\n",
        "# The last two axes are the horizontal and vertical dimensions of an image. After taking the mean over the last two axes,\n",
        "# we are left with just the first tensor axis, which indexes over our images, which is why our final size was (1010).\n",
        "# In other words, for every image, we averaged the intensity of all the pixels in that image.\n",
        "(valid_3_tens-mean3).shape"
      ]
    },
    {
      "cell_type": "code",
      "execution_count": 45,
      "metadata": {
        "id": "ABTpdpQ5J8AP"
      },
      "outputs": [],
      "source": [
        "# We can use mnist_distance to figure out whether an image is a 3 by using the following logic:\n",
        "# If the distance between the digit in question and the ideal 3 is less than the distance to the ideal 7, then it’s a 3.\n",
        "# This function will automatically do broadcasting and be applied elementwise, just like all PyTorch functions and operators:\n",
        "def is_3(x):\n",
        "  return mnist_distance(x,mean3) < mnist_distance(x,mean7)"
      ]
    },
    {
      "cell_type": "code",
      "execution_count": 46,
      "metadata": {
        "colab": {
          "base_uri": "https://localhost:8080/"
        },
        "id": "XImrSgfIJ8AP",
        "outputId": "1a0de920-157a-4b81-a086-0dab1c0d916c"
      },
      "outputs": [
        {
          "output_type": "execute_result",
          "data": {
            "text/plain": [
              "(tensor(True), tensor(1.))"
            ]
          },
          "metadata": {},
          "execution_count": 46
        }
      ],
      "source": [
        "# Test it out in our example case - Converting a Boolean response to a float - we get 1.0 for True and 0.0 for False\n",
        "is_3(a_3), is_3(a_3).float()"
      ]
    },
    {
      "cell_type": "code",
      "execution_count": 47,
      "metadata": {
        "colab": {
          "base_uri": "https://localhost:8080/"
        },
        "id": "FTpaTE2IJ8AP",
        "outputId": "9b98d61c-cead-4798-85bf-c85ec3e8e793"
      },
      "outputs": [
        {
          "output_type": "execute_result",
          "data": {
            "text/plain": [
              "tensor([ True,  True,  True,  ...,  True,  True, False])"
            ]
          },
          "metadata": {},
          "execution_count": 47
        }
      ],
      "source": [
        "# Test it out on the full validation set of 3s - 1010 images\n",
        "is_3(valid_3_tens)"
      ]
    },
    {
      "cell_type": "code",
      "execution_count": 48,
      "metadata": {
        "colab": {
          "base_uri": "https://localhost:8080/"
        },
        "id": "6_9gbEoMJ8AQ",
        "outputId": "f27448bf-b710-4068-aa1f-fdbdd61018db"
      },
      "outputs": [
        {
          "output_type": "execute_result",
          "data": {
            "text/plain": [
              "(tensor(0.9168), tensor(0.9854), tensor(0.9511))"
            ]
          },
          "metadata": {},
          "execution_count": 48
        }
      ],
      "source": [
        "# Now we can calculate the accuracy for each of the 3s and 7s, by taking the average of that function for all 3s and\n",
        "# its inverse for all 7s: Our classification accuracy is very good!!!\n",
        "accuracy_3s =      is_3(valid_3_tens).float() .mean()\n",
        "accuracy_7s = (1 - is_3(valid_7_tens).float()).mean()\n",
        "\n",
        "accuracy_3s,accuracy_7s,(accuracy_3s+accuracy_7s)/2"
      ]
    },
    {
      "cell_type": "markdown",
      "metadata": {
        "id": "C9XfVQxQJ8AQ"
      },
      "source": [
        "## Stochastic Gradient Descent (SGD)"
      ]
    },
    {
      "cell_type": "code",
      "source": [],
      "metadata": {
        "id": "Ic6bKIGcOFQA"
      },
      "execution_count": 48,
      "outputs": []
    },
    {
      "cell_type": "code",
      "execution_count": 49,
      "metadata": {
        "colab": {
          "base_uri": "https://localhost:8080/",
          "height": 125
        },
        "id": "59qt83ayJ8AR",
        "outputId": "a51d1eb2-09eb-4239-f7c0-614123c80cb2"
      },
      "outputs": [
        {
          "output_type": "execute_result",
          "data": {
            "image/svg+xml": "<?xml version=\"1.0\" encoding=\"UTF-8\" standalone=\"no\"?>\n<!DOCTYPE svg PUBLIC \"-//W3C//DTD SVG 1.1//EN\"\n \"http://www.w3.org/Graphics/SVG/1.1/DTD/svg11.dtd\">\n<!-- Generated by graphviz version 2.43.0 (0)\n -->\n<!-- Title: G Pages: 1 -->\n<svg width=\"591pt\" height=\"78pt\"\n viewBox=\"0.00 0.00 591.49 78.00\" xmlns=\"http://www.w3.org/2000/svg\" xmlns:xlink=\"http://www.w3.org/1999/xlink\">\n<g id=\"graph0\" class=\"graph\" transform=\"scale(1 1) rotate(0) translate(4 74)\">\n<title>G</title>\n<polygon fill=\"white\" stroke=\"transparent\" points=\"-4,4 -4,-74 587.49,-74 587.49,4 -4,4\"/>\n<!-- init -->\n<g id=\"node1\" class=\"node\">\n<title>init</title>\n<ellipse fill=\"none\" stroke=\"black\" cx=\"27\" cy=\"-18\" rx=\"27\" ry=\"18\"/>\n<text text-anchor=\"middle\" x=\"27\" y=\"-14.3\" font-family=\"Times,serif\" font-size=\"14.00\">init</text>\n</g>\n<!-- predict -->\n<g id=\"node2\" class=\"node\">\n<title>predict</title>\n<ellipse fill=\"none\" stroke=\"black\" cx=\"126.1\" cy=\"-18\" rx=\"35.19\" ry=\"18\"/>\n<text text-anchor=\"middle\" x=\"126.1\" y=\"-14.3\" font-family=\"Times,serif\" font-size=\"14.00\">predict</text>\n</g>\n<!-- init&#45;&gt;predict -->\n<g id=\"edge1\" class=\"edge\">\n<title>init&#45;&gt;predict</title>\n<path fill=\"none\" stroke=\"black\" d=\"M54.02,-18C62.26,-18 71.62,-18 80.78,-18\"/>\n<polygon fill=\"black\" stroke=\"black\" points=\"80.96,-21.5 90.96,-18 80.96,-14.5 80.96,-21.5\"/>\n</g>\n<!-- loss -->\n<g id=\"node3\" class=\"node\">\n<title>loss</title>\n<ellipse fill=\"none\" stroke=\"black\" cx=\"225.19\" cy=\"-52\" rx=\"27\" ry=\"18\"/>\n<text text-anchor=\"middle\" x=\"225.19\" y=\"-48.3\" font-family=\"Times,serif\" font-size=\"14.00\">loss</text>\n</g>\n<!-- predict&#45;&gt;loss -->\n<g id=\"edge2\" class=\"edge\">\n<title>predict&#45;&gt;loss</title>\n<path fill=\"none\" stroke=\"black\" d=\"M155.44,-27.93C166.61,-31.84 179.52,-36.36 191.11,-40.42\"/>\n<polygon fill=\"black\" stroke=\"black\" points=\"190.29,-43.84 200.88,-43.84 192.6,-37.23 190.29,-43.84\"/>\n</g>\n<!-- gradient -->\n<g id=\"node4\" class=\"node\">\n<title>gradient</title>\n<ellipse fill=\"none\" stroke=\"black\" cx=\"361.84\" cy=\"-52\" rx=\"39.79\" ry=\"18\"/>\n<text text-anchor=\"middle\" x=\"361.84\" y=\"-48.3\" font-family=\"Times,serif\" font-size=\"14.00\">gradient</text>\n</g>\n<!-- loss&#45;&gt;gradient -->\n<g id=\"edge3\" class=\"edge\">\n<title>loss&#45;&gt;gradient</title>\n<path fill=\"none\" stroke=\"black\" d=\"M252.47,-52C269.35,-52 291.8,-52 311.88,-52\"/>\n<polygon fill=\"black\" stroke=\"black\" points=\"312.13,-55.5 322.13,-52 312.13,-48.5 312.13,-55.5\"/>\n</g>\n<!-- step -->\n<g id=\"node5\" class=\"node\">\n<title>step</title>\n<ellipse fill=\"none\" stroke=\"black\" cx=\"465.49\" cy=\"-18\" rx=\"27\" ry=\"18\"/>\n<text text-anchor=\"middle\" x=\"465.49\" y=\"-14.3\" font-family=\"Times,serif\" font-size=\"14.00\">step</text>\n</g>\n<!-- gradient&#45;&gt;step -->\n<g id=\"edge4\" class=\"edge\">\n<title>gradient&#45;&gt;step</title>\n<path fill=\"none\" stroke=\"black\" d=\"M394.17,-41.52C405.92,-37.59 419.32,-33.11 431.25,-29.12\"/>\n<polygon fill=\"black\" stroke=\"black\" points=\"432.48,-32.4 440.85,-25.91 430.26,-25.76 432.48,-32.4\"/>\n</g>\n<!-- step&#45;&gt;predict -->\n<g id=\"edge6\" class=\"edge\">\n<title>step&#45;&gt;predict</title>\n<path fill=\"none\" stroke=\"black\" d=\"M438.29,-18C380.72,-18 242.6,-18 171.32,-18\"/>\n<polygon fill=\"black\" stroke=\"black\" points=\"171.3,-14.5 161.3,-18 171.3,-21.5 171.3,-14.5\"/>\n<text text-anchor=\"middle\" x=\"287.19\" y=\"-21.8\" font-family=\"Times,serif\" font-size=\"14.00\">repeat</text>\n</g>\n<!-- stop -->\n<g id=\"node6\" class=\"node\">\n<title>stop</title>\n<ellipse fill=\"none\" stroke=\"black\" cx=\"556.49\" cy=\"-18\" rx=\"27\" ry=\"18\"/>\n<text text-anchor=\"middle\" x=\"556.49\" y=\"-14.3\" font-family=\"Times,serif\" font-size=\"14.00\">stop</text>\n</g>\n<!-- step&#45;&gt;stop -->\n<g id=\"edge5\" class=\"edge\">\n<title>step&#45;&gt;stop</title>\n<path fill=\"none\" stroke=\"black\" d=\"M492.71,-18C501.04,-18 510.4,-18 519.3,-18\"/>\n<polygon fill=\"black\" stroke=\"black\" points=\"519.45,-21.5 529.45,-18 519.45,-14.5 519.45,-21.5\"/>\n</g>\n</g>\n</svg>\n",
            "text/plain": [
              "<graphviz.sources.Source at 0x7c73bc5a8610>"
            ]
          },
          "metadata": {},
          "execution_count": 49
        }
      ],
      "source": [
        "# As we discussed, this is the key to allowing us to have a model that can get better and better—that can learn.\n",
        "# But our pixel similarity approach does not really do this.\n",
        "# We do not have any kind of weight assignment, or any way of improving based on testing the effectiveness of a weight assignment.\n",
        "# In other words, we cannot really improve our pixel similarity approach by modifying a set of parameters.\n",
        "# To take advantage of the power of deep learning, we will first have to represent our task in the way that alters the weight assignment\n",
        "# so as to maximize perfromance.\n",
        "# Instead of trying to find the similarity between an image and an “ideal image,”\n",
        "# we could instead look at each individual pixel and come up with a set of weights for each,\n",
        "# such that the highest weights are associated with those pixels most likely to be black for a particular category.\n",
        "# For instance, pixels toward the bottom right are not very likely to be activated for a 7,\n",
        "# so they should have a low weight for a 7, but they are likely to be activated for an 3,\n",
        "# so they should have a high weight for an 3.\n",
        "# This can be represented as a function and set of weight values for each possible category—for instance,\n",
        "# the probability of being the number 3:\n",
        "\n",
        "def pr_three(x, w):\n",
        "  return (x*w).sum()\n",
        "\n",
        "gv('''\n",
        "init->predict->loss->gradient->step->stop\n",
        "step->predict[label=repeat]\n",
        "''')\n"
      ]
    },
    {
      "cell_type": "code",
      "source": [
        "# To be more specific, here are the steps required to turn this function into a machine learning classifier:\n",
        "# Initialize the weights. - We initialize the parameters to random values.\n",
        "     # This may sound surprising. There are certainly other choices we could make, such as initializing them to the percentage of\n",
        "     # times that pixel is activated for that category—but since we already know that we have a routine to improve these weights,\n",
        "     # it turns out that just starting with random weights works perfectly well.\n",
        "# For each image, use these weights to predict whether it appears to be a 3 or a 7.\n",
        "# Based on these predictions, calculate how good the model is (its loss).\n",
        "# Calculate the gradient, which measures for each weight how changing that weight would change the loss.\n",
        "     # We need to test the effectiveness of any current weight assignment in terms of actual performance.\n",
        "     # We need a function that will return a number that is small if the performance of the model is good\n",
        "     # (the standard approach is to treat a small loss as good and a large loss as bad, although this is just a convention).\n",
        "# Step (that is, change) all the weights based on that calculation.\n",
        "     # A simple way to figure out whether a weight should be increased a bit or decreased a bit would be just to try it:\n",
        "     # increase the weight by a small amount, and see if the loss goes up or down.\n",
        "     # Once you find the correct direction, you could then change that amount by a bit more,\n",
        "     # or a bit less, until you find an amount that works well.\n",
        "     # However, this is slow! As we will see, the magic of calculus allows us to directly figure out - using second derivatives\n",
        "     # in which direction, and by roughly how much, to change each weight, without having to try all these small changes.\n",
        "     # The way to do this is by calculating gradients.\n",
        "     # This is just a performance optimization; we would get exactly the same results by using the slower manual process as well.\n",
        "# Go back to step 2 and repeat the process.\n",
        "     # Once we have decided how many epochs to train the model for we apply that decision.\n",
        "     # For our digit classifier, we would keep training until the accuracy of the model started getting worse, or we ran out of time.\n",
        "# Iterate until you decide to stop the training process (for instance, because the model is good enough or you do not want to wait any longer).\n"
      ],
      "metadata": {
        "id": "RWQvz9GZOdY8"
      },
      "execution_count": 50,
      "outputs": []
    },
    {
      "cell_type": "code",
      "execution_count": 51,
      "metadata": {
        "id": "G1u6u1-uJ8AR"
      },
      "outputs": [],
      "source": [
        "def f(x): return x**2"
      ]
    },
    {
      "cell_type": "code",
      "execution_count": 52,
      "metadata": {
        "colab": {
          "base_uri": "https://localhost:8080/",
          "height": 396
        },
        "id": "y6z55-7sJ8AT",
        "outputId": "21a6b6b4-a9d3-4a6c-f7d8-3b3eef2d2b5d"
      },
      "outputs": [
        {
          "output_type": "display_data",
          "data": {
            "text/plain": [
              "<Figure size 600x400 with 1 Axes>"
            ],
            "image/png": "[encoded data removed]"
          },
          "metadata": {}
        }
      ],
      "source": [
        "plot_function(f, 'x', 'x**2')"
      ]
    },
    {
      "cell_type": "code",
      "execution_count": 53,
      "metadata": {
        "colab": {
          "base_uri": "https://localhost:8080/",
          "height": 396
        },
        "id": "vHEXP2EaJ8AT",
        "outputId": "f43f7706-fbe0-4471-a886-fa2eaaabedb0"
      },
      "outputs": [
        {
          "output_type": "display_data",
          "data": {
            "text/plain": [
              "<Figure size 600x400 with 1 Axes>"
            ],
            "image/png": "[encoded data removed]"
          },
          "metadata": {}
        }
      ],
      "source": [
        "# The sequence of steps we described earlier starts by picking a random value for a parameter, and calculating the value of the loss:\n",
        "# Now we look to see what would happen if we increased or decreased our parameter by a little bit—the adjustment.\n",
        "# This is simply the slope at a particular point:\n",
        "# We can change our weight by a little in the direction of the slope, calculate our loss and adjustment again,\n",
        "# and repeat this a few times. Eventually, we will get to the lowest point on our curve:\n",
        "plot_function(f, 'x', 'x**2')\n",
        "plt.scatter(-1.5, f(-1.5), color='red');"
      ]
    },
    {
      "cell_type": "markdown",
      "metadata": {
        "id": "HgwiQNUFJ8AU"
      },
      "source": [
        "### Calculating Gradients"
      ]
    },
    {
      "cell_type": "code",
      "execution_count": 54,
      "metadata": {
        "id": "5eG_fQuFJ8AU"
      },
      "outputs": [],
      "source": [
        "# Calculating gradients. We use calculus as a performance optimization; it allows us to more quickly calculate whether\n",
        "# our loss will go up or down when we adjust our parameters up or down.\n",
        "# In other words, the gradients will tell us how much we have to change each weight to make our model better.\n",
        "# You may remember from your high school calculus class that the derivative of a function tells you how much a change\n",
        "# in its parameters will change its result.\n",
        "# The key point about a derivative is this: for any function, such as the quadratic function we saw in the previous section,\n",
        "# we can calculate its derivative. The derivative is another function.\n",
        "# It calculates the change, rather than the value. For instance, the derivative of the quadratic function at the value 3\n",
        "# tells us how rapidly the function changes at the value 3. More specifically, you may recall that gradient is defined as rise/run;\n",
        "# It tells us the change in the value of the function, divided by the change in the value of the parameter.\n",
        "# When we know how our function will change, we know what we need to do to make it smaller.\n",
        "# This is the key to machine learning: having a way to change the parameters of a function to make it smaller.\n",
        "# Calculus provides us with a computational shortcut, the derivative, which lets us directly calculate the gradients of our functions.\n",
        "# One important thing to be aware of is that our function has lots of weights that we need to adjust,\n",
        "# so when we calculate the derivative, we will not get back one number, but\n",
        "# multiple numbers — a gradient for every weight. But there is nothing mathematically tricky here;\n",
        "# you can calculate the derivative with respect to one weight and treat all the other ones as constant,\n",
        "# and then repeat that for each other weight. This is how all of the gradients are calculated, for every weight.\n",
        "# PyTorch is able to automatically compute the derivative of nearly any function!\n",
        "# First, let’s pick a tensor value at which we want gradients using the requires_grad_ function\n",
        "\n",
        "xt = tensor(3.).requires_grad_()\n",
        "xt_7 = tensor(7.).requires_grad_()\n"
      ]
    },
    {
      "cell_type": "code",
      "execution_count": 55,
      "metadata": {
        "colab": {
          "base_uri": "https://localhost:8080/",
          "height": 71
        },
        "id": "dY6JWiIhJ8AU",
        "outputId": "43ab6012-4e89-4a2b-97a6-774b0ee0df48"
      },
      "outputs": [
        {
          "output_type": "execute_result",
          "data": {
            "text/plain": [
              "tensor(9., grad_fn=<PowBackward0>)"
            ]
          },
          "metadata": {},
          "execution_count": 55
        },
        {
          "output_type": "execute_result",
          "data": {
            "text/plain": [
              "','"
            ],
            "application/vnd.google.colaboratory.intrinsic+json": {
              "type": "string"
            }
          },
          "metadata": {},
          "execution_count": 55
        },
        {
          "output_type": "execute_result",
          "data": {
            "text/plain": [
              "tensor(49., grad_fn=<PowBackward0>)"
            ]
          },
          "metadata": {},
          "execution_count": 55
        }
      ],
      "source": [
        "# Now we calculate our function with that value.\n",
        "# Notice how PyTorch prints not just the value calculated, but also a note that it has a gradient function it will be\n",
        "# using to calculate our gradients when needed:\n",
        "yt = f(xt)\n",
        "yt\n",
        "','\n",
        "yt_7 = f(xt_7)\n",
        "yt_7"
      ]
    },
    {
      "cell_type": "code",
      "execution_count": 56,
      "metadata": {
        "id": "HIsIqqPMJ8AV"
      },
      "outputs": [],
      "source": [
        "# The “backward” here refers to backpropagation, which is the name given to the process of calculating the derivative of each layer.\n",
        "# This is called the backward pass of the network, as opposed to the forward pass, which is where the activations are calculated.\n",
        "yt.backward()"
      ]
    },
    {
      "cell_type": "code",
      "execution_count": 57,
      "metadata": {
        "colab": {
          "base_uri": "https://localhost:8080/"
        },
        "id": "JajAiYFWJ8AV",
        "outputId": "7b0c15ef-a6e6-4552-856d-1017ebbad34f"
      },
      "outputs": [
        {
          "output_type": "execute_result",
          "data": {
            "text/plain": [
              "tensor(6.)"
            ]
          },
          "metadata": {},
          "execution_count": 57
        }
      ],
      "source": [
        "# We can now view the gradients by checking the grad attribute of our tensor:\n",
        "# If you remember your high school calculus rules, the derivative of x**2 is 2*x, and we have x=3,\n",
        "# so the gradients should be 2*3=6, which is what PyTorch calculated for us!\n",
        "xt.grad"
      ]
    },
    {
      "cell_type": "code",
      "execution_count": 58,
      "metadata": {
        "colab": {
          "base_uri": "https://localhost:8080/"
        },
        "id": "OMwX3mk8J8AW",
        "outputId": "a84f5d9e-f881-4c52-8b4b-a8e7ae0b4ee0"
      },
      "outputs": [
        {
          "output_type": "execute_result",
          "data": {
            "text/plain": [
              "tensor([ 3.,  4., 10.], requires_grad=True)"
            ]
          },
          "metadata": {},
          "execution_count": 58
        }
      ],
      "source": [
        "# Repeat the preceding steps, but with a vector argument for our function:\n",
        "xt = tensor([3.,4.,10.]).requires_grad_()\n",
        "xt"
      ]
    },
    {
      "cell_type": "code",
      "execution_count": 59,
      "metadata": {
        "colab": {
          "base_uri": "https://localhost:8080/"
        },
        "id": "3ftoRVa-J8AW",
        "outputId": "0cb880c7-4779-4cf8-9cb1-22a1911236b1"
      },
      "outputs": [
        {
          "output_type": "execute_result",
          "data": {
            "text/plain": [
              "tensor(125., grad_fn=<SumBackward0>)"
            ]
          },
          "metadata": {},
          "execution_count": 59
        }
      ],
      "source": [
        "# Add sum to our function so it can take a vector (i.e., a rank-1 tensor) and return a scalar (i.e., a rank-0 tensor):\n",
        "def f(x):\n",
        "  return (x**2).sum()\n",
        "\n",
        "yt = f(xt)\n",
        "yt"
      ]
    },
    {
      "cell_type": "code",
      "execution_count": 60,
      "metadata": {
        "colab": {
          "base_uri": "https://localhost:8080/"
        },
        "id": "KqgPxtovJ8AX",
        "outputId": "293eb73a-587b-4bdc-94bd-b106d12122ed"
      },
      "outputs": [
        {
          "output_type": "execute_result",
          "data": {
            "text/plain": [
              "tensor([ 6.,  8., 20.])"
            ]
          },
          "metadata": {},
          "execution_count": 60
        }
      ],
      "source": [
        "# Our gradients are 2*xt, as we’d expect!\n",
        "# The gradients tell us only the slope of our function; they do not tell us exactly how far to adjust the parameters.\n",
        "# But they do give us some idea of how far: if the slope is very large, that may suggest that we have more adjustments to do,\n",
        "# whereas if the slope is very small, that may suggest that we are close to the optimal value.\n",
        "yt.backward()\n",
        "xt.grad"
      ]
    },
    {
      "cell_type": "code",
      "source": [
        "# Deciding how to change our parameters based on the values of the gradients is an important part of the deep learning process.\n",
        "# Nearly all approaches start with the basic idea of multiplying the gradient by some small number, called the learning rate (LR).\n",
        "# The learning rate is often a number between 0.001 and 0.1, although it could be anything.\n",
        "# Once you’ve picked a learning rate, you can adjust your parameters using this simple function:\n"
      ],
      "metadata": {
        "id": "GBJlAC40A4zc"
      },
      "execution_count": 61,
      "outputs": []
    },
    {
      "cell_type": "markdown",
      "metadata": {
        "id": "678NxitLJ8AX"
      },
      "source": [
        "### Stepping With a Learning Rate"
      ]
    },
    {
      "cell_type": "markdown",
      "metadata": {
        "id": "dlC-yYoHJ8AX"
      },
      "source": [
        "### An End-to-End SGD Example"
      ]
    },
    {
      "cell_type": "code",
      "execution_count": 62,
      "metadata": {
        "colab": {
          "base_uri": "https://localhost:8080/"
        },
        "id": "2-WXihDYJ8AX",
        "outputId": "7ac85650-835a-42d8-eef4-cc43d3ce536a"
      },
      "outputs": [
        {
          "output_type": "execute_result",
          "data": {
            "text/plain": [
              "tensor([ 0.,  1.,  2.,  3.,  4.,  5.,  6.,  7.,  8.,  9., 10., 11., 12., 13., 14., 15., 16., 17., 18., 19., 20., 21., 22., 23., 24., 25., 26., 27., 28., 29.])"
            ]
          },
          "metadata": {},
          "execution_count": 62
        }
      ],
      "source": [
        "# We have seen how to use gradients to minimize our loss. Now it is time to look at an SGD example and see how finding a minimum\n",
        "# can be used to train a model to fit data better.\n",
        "# Let us start with a simple, synthetic example model. Imagine you were measuring the speed of a roller coaster\n",
        "# as it went over the top of a hump. It would start fast, and then get slower as it went up the hill;\n",
        "# it would be slowest at the top, and it would then speed up again as it went downhill.\n",
        "# You want to build a model of how the speed changes over time.\n",
        "# If you were measuring the speed manually every second for 20 seconds, it might look something like this:\n",
        "time = torch.arange(0,30).float(); time"
      ]
    },
    {
      "cell_type": "code",
      "execution_count": 63,
      "metadata": {
        "colab": {
          "base_uri": "https://localhost:8080/",
          "height": 434
        },
        "id": "i-mwnE6bJ8AX",
        "outputId": "79d5036a-e568-403b-842a-83facb36badb"
      },
      "outputs": [
        {
          "output_type": "display_data",
          "data": {
            "text/plain": [
              "<Figure size 640x480 with 1 Axes>"
            ],
            "image/png": "[encoded data removed]"
          },
          "metadata": {}
        }
      ],
      "source": [
        "speed = torch.randn(30)*3 + 0.75*(time-9.5)**2 + 1\n",
        "plt.scatter(time,speed);"
      ]
    },
    {
      "cell_type": "code",
      "execution_count": 64,
      "metadata": {
        "id": "F-MWGOLMJ8AX"
      },
      "outputs": [],
      "source": [
        "# We have added a bit of random noise, since measuring things manually is not precise.\n",
        "# This means it is not that easy to answer the question: what was the roller coaster’s speed?\n",
        "# Using SGD, we can try to find a function that matches our observations.\n",
        "# We cannot consider every possible function, so let us use a guess that it will be quadratic;\n",
        "# i.e., a function of the form a*(time**2)+(b*time)+c.\n",
        "# We want to distinguish clearly between the function’s input (the time when we are measuring the coaster’s speed)\n",
        "# and its parameters (the values that define which quadratic we’re trying).\n",
        "# So let us collect the parameters in one argument and thus separate the input, t, and the parameters, params,\n",
        "# in the function’s signature:def f(t, params):\n",
        "def f(t, params):\n",
        "    a,b,c = params\n",
        "    return a*(t**2) + (b*t) + c"
      ]
    },
    {
      "cell_type": "code",
      "execution_count": 65,
      "metadata": {
        "id": "H_lFBeRtJ8AY"
      },
      "outputs": [],
      "source": [
        "# In other words, we have restricted the problem of finding the best imaginable function that fits the data to finding the best\n",
        "# quadratic function. This greatly simplifies the problem, since every quadratic function is fully defined by the\n",
        "# three parameters a, b, and c. Thus, to find the best quadratic function, we need to find only the best values for a, b, and c.\n",
        "\n",
        "# If we can solve this problem for the three parameters of a quadratic function, we will be able to apply the same approach for other,\n",
        "# more complex functions with more parameters—such as a neural net. Let us find the parameters for f first, and then we will come back\n",
        "# and do the same thing for the MNIST dataset with a neural net.\n",
        "\n",
        "# We need to define first what we mean by “best.” We define this precisely by choosing a loss function,\n",
        "# which will return a value based on a prediction and a target, where lower values of the function correspond to “better” predictions.\n",
        "# For continuous data, it’s common to use mean squared error:def mse(preds, targets): return ((preds-targets)**2).mean().sqrt()"
      ]
    },
    {
      "cell_type": "markdown",
      "metadata": {
        "id": "iu5aJgZqJ8AY"
      },
      "source": [
        "#### Step 1: Initialize the parameters"
      ]
    },
    {
      "cell_type": "code",
      "execution_count": 66,
      "metadata": {
        "id": "q0L3QXY-J8AY"
      },
      "outputs": [],
      "source": [
        "# First, we initialize the parameters to random values and tell PyTorch that we want to track their gradients using requires_grad_:\n",
        "\n",
        "params = torch.randn(3).requires_grad_()"
      ]
    },
    {
      "cell_type": "code",
      "execution_count": 67,
      "metadata": {
        "id": "p-uTUr_8J8AY"
      },
      "outputs": [],
      "source": [
        "#hide\n",
        "orig_params = params.clone()"
      ]
    },
    {
      "cell_type": "markdown",
      "metadata": {
        "id": "BZvSybL_J8AZ"
      },
      "source": [
        "#### Step 2: Calculate the predictions"
      ]
    },
    {
      "cell_type": "code",
      "execution_count": 68,
      "metadata": {
        "id": "Quyc4y8bJ8AZ"
      },
      "outputs": [],
      "source": [
        "preds = f(time, params)"
      ]
    },
    {
      "cell_type": "code",
      "execution_count": 69,
      "metadata": {
        "id": "hEZOhrVVJ8AZ"
      },
      "outputs": [],
      "source": [
        "# Let us create a little function to see how close our predictions are to our targets, and take a look:\n",
        "def show_preds(preds, ax=None):\n",
        "    if ax is None: ax=plt.subplots()[1]\n",
        "    ax.scatter(time, speed)\n",
        "    ax.scatter(time, to_np(preds), color='red')\n",
        "    ax.set_ylim(-300,100)"
      ]
    },
    {
      "cell_type": "code",
      "execution_count": 70,
      "metadata": {
        "colab": {
          "base_uri": "https://localhost:8080/",
          "height": 441
        },
        "id": "YsHHTjTEJ8AZ",
        "outputId": "9e61f651-6ed8-49db-f160-d8868abdb6eb"
      },
      "outputs": [
        {
          "output_type": "display_data",
          "data": {
            "text/plain": [
              "<Figure size 640x480 with 1 Axes>"
            ],
            "image/png": "[encoded data removed]"
          },
          "metadata": {}
        }
      ],
      "source": [
        "# This does not look good. Our random parameters suggest that the roller coaster will end up going backward, since we have negative speeds!\n",
        "show_preds(preds)"
      ]
    },
    {
      "cell_type": "markdown",
      "metadata": {
        "id": "CBUPwABOJ8AZ"
      },
      "source": [
        "#### Step 3: Calculate the loss"
      ]
    },
    {
      "cell_type": "code",
      "execution_count": 71,
      "metadata": {
        "colab": {
          "base_uri": "https://localhost:8080/"
        },
        "id": "HPZvlakUJ8AZ",
        "outputId": "7ace99e1-8959-419c-b115-7c83d1cf297f"
      },
      "outputs": [
        {
          "output_type": "execute_result",
          "data": {
            "text/plain": [
              "TensorBase(19810.0410, grad_fn=<AliasBackward0>)"
            ]
          },
          "metadata": {},
          "execution_count": 71
        }
      ],
      "source": [
        "# We calculate the loss as follows:\n",
        "loss = mse(preds, speed)\n",
        "loss"
      ]
    },
    {
      "cell_type": "markdown",
      "metadata": {
        "id": "5vxeecBSJ8AZ"
      },
      "source": [
        "#### Step 4: Calculate the gradients"
      ]
    },
    {
      "cell_type": "code",
      "execution_count": 72,
      "metadata": {
        "colab": {
          "base_uri": "https://localhost:8080/"
        },
        "id": "6uXw8GieJ8Aa",
        "outputId": "aff1dad8-1068-41ca-c985-5b2608cc97ef"
      },
      "outputs": [
        {
          "output_type": "execute_result",
          "data": {
            "text/plain": [
              "tensor([-105236.3359,   -4255.6318,    -191.3027])"
            ]
          },
          "metadata": {},
          "execution_count": 72
        }
      ],
      "source": [
        "# Our goal is now to improve the loss function shown below. To do that, we will need to know the gradients.\n",
        "# The next step is to calculate the gradients, or an approximation of how the parameters need to change:\n",
        "\n",
        "loss.backward()\n",
        "params.grad"
      ]
    },
    {
      "cell_type": "code",
      "execution_count": 73,
      "metadata": {
        "colab": {
          "base_uri": "https://localhost:8080/"
        },
        "id": "OQEKNwGIJ8Aa",
        "outputId": "de681461-8ce9-402a-e082-76904cd78a9a"
      },
      "outputs": [
        {
          "output_type": "execute_result",
          "data": {
            "text/plain": [
              "tensor([-1.0524, -0.0426, -0.0019])"
            ]
          },
          "metadata": {},
          "execution_count": 73
        }
      ],
      "source": [
        "# Multiplying with a learning parameter - 1/100000\n",
        "params.grad * 1e-5"
      ]
    },
    {
      "cell_type": "code",
      "execution_count": 74,
      "metadata": {
        "colab": {
          "base_uri": "https://localhost:8080/"
        },
        "collapsed": true,
        "id": "vqW2xp7nJ8Aa",
        "outputId": "5c4949ee-0144-4b93-ac49-82e6ca828ebb"
      },
      "outputs": [
        {
          "output_type": "execute_result",
          "data": {
            "text/plain": [
              "tensor([-0.0915,  0.2352,  2.2440], requires_grad=True)"
            ]
          },
          "metadata": {},
          "execution_count": 74
        }
      ],
      "source": [
        "params"
      ]
    },
    {
      "cell_type": "markdown",
      "metadata": {
        "id": "DRFOlO7sJ8Aa"
      },
      "source": [
        "#### Step 5: Step the weights."
      ]
    },
    {
      "cell_type": "code",
      "execution_count": 75,
      "metadata": {
        "id": "0nlWlz23J8Aa"
      },
      "outputs": [],
      "source": [
        "# Update the parameters based on the gradients we calculated\n",
        "lr = 1e-5\n",
        "params.data -= lr * params.grad.data\n",
        "params.grad = None"
      ]
    },
    {
      "cell_type": "code",
      "execution_count": 76,
      "metadata": {
        "colab": {
          "base_uri": "https://localhost:8080/"
        },
        "id": "YDdtt5FDJ8Ab",
        "outputId": "0624ba81-26fa-496c-dbc9-24ef45406531"
      },
      "outputs": [
        {
          "output_type": "execute_result",
          "data": {
            "text/plain": [
              "TensorBase(74239.6250, grad_fn=<AliasBackward0>)"
            ]
          },
          "metadata": {},
          "execution_count": 76
        }
      ],
      "source": [
        "# Has the loss improved?\n",
        "preds = f(time,params)\n",
        "mse(preds, speed)"
      ]
    },
    {
      "cell_type": "code",
      "execution_count": 77,
      "metadata": {
        "colab": {
          "base_uri": "https://localhost:8080/",
          "height": 441
        },
        "id": "7GaQPdfyJ8Ac",
        "outputId": "f0d7f8a7-ac51-417c-b4b9-74c84e649c2d"
      },
      "outputs": [
        {
          "output_type": "display_data",
          "data": {
            "text/plain": [
              "<Figure size 640x480 with 1 Axes>"
            ],
            "image/png": "[encoded data removed]"
          },
          "metadata": {}
        }
      ],
      "source": [
        "show_preds(preds)"
      ]
    },
    {
      "cell_type": "code",
      "execution_count": 78,
      "metadata": {
        "id": "WcB90uG9J8Ad"
      },
      "outputs": [],
      "source": [
        "def apply_step(params, prn=True):\n",
        "    preds = f(time, params)\n",
        "    loss = mse(preds, speed)\n",
        "    loss.backward()\n",
        "    params.data -= lr * params.grad.data\n",
        "    params.grad = None\n",
        "    if prn: print(loss.item())\n",
        "    return preds"
      ]
    },
    {
      "cell_type": "markdown",
      "metadata": {
        "id": "q3BiFoVxJ8Ad"
      },
      "source": [
        "#### Step 6: Repeat the process"
      ]
    },
    {
      "cell_type": "code",
      "execution_count": 79,
      "metadata": {
        "colab": {
          "base_uri": "https://localhost:8080/"
        },
        "id": "cauiFA8nJ8Ad",
        "outputId": "48be63e9-925d-41ac-ea12-9699d1d00d7c"
      },
      "outputs": [
        {
          "output_type": "stream",
          "name": "stdout",
          "text": [
            "74239.625\n"
          ]
        },
        {
          "output_type": "execute_result",
          "data": {
            "text/plain": [
              "tensor([  2.2459,   3.4845,   6.6448,  11.7268,  18.7305,  27.6559,  38.5031,  51.2719,  65.9624,  82.5747, 101.1087, 121.5643, 143.9417, 168.2408, 194.4616, 222.6041, 252.6683, 284.6543, 318.5619,\n",
              "        354.3912, 392.1422, 431.8150, 473.4095, 516.9257, 562.3635, 609.7231, 659.0044, 710.2074, 763.3321, 818.3785], grad_fn=<AddBackward0>)"
            ]
          },
          "metadata": {},
          "execution_count": 79
        },
        {
          "output_type": "stream",
          "name": "stdout",
          "text": [
            "287919.40625\n"
          ]
        },
        {
          "output_type": "execute_result",
          "data": {
            "text/plain": [
              "tensor([   2.2418,    1.3051,   -1.8796,   -7.3123,  -14.9929,  -24.9216,  -37.0982,  -51.5229,  -68.1955,  -87.1161, -108.2847, -131.7013, -157.3659, -185.2784, -215.4390, -247.8475, -282.5041,\n",
              "        -319.4086, -358.5611, -399.9616, -443.6101, -489.5066, -537.6509, -588.0435, -640.6839, -695.5723, -752.7087, -812.0931, -873.7255, -937.6059], grad_fn=<AddBackward0>)"
            ]
          },
          "metadata": {},
          "execution_count": 79
        },
        {
          "output_type": "stream",
          "name": "stdout",
          "text": [
            "1126781.125\n"
          ]
        },
        {
          "output_type": "execute_result",
          "data": {
            "text/plain": [
              "tensor([2.2496e+00, 5.6171e+00, 1.4999e+01, 3.0395e+01, 5.1805e+01, 7.9229e+01, 1.1267e+02, 1.5212e+02, 1.9759e+02, 2.4907e+02, 3.0656e+02, 3.7007e+02, 4.3960e+02, 5.1513e+02, 5.9669e+02, 6.8425e+02,\n",
              "        7.7783e+02, 8.7743e+02, 9.8304e+02, 1.0947e+03, 1.2123e+03, 1.3359e+03, 1.4656e+03, 1.6013e+03, 1.7430e+03, 1.8907e+03, 2.0444e+03, 2.2042e+03, 2.3699e+03, 2.5417e+03],\n",
              "       grad_fn=<AddBackward0>)"
            ]
          },
          "metadata": {},
          "execution_count": 79
        },
        {
          "output_type": "stream",
          "name": "stdout",
          "text": [
            "4419967.5\n"
          ]
        },
        {
          "output_type": "execute_result",
          "data": {
            "text/plain": [
              "tensor([ 2.2338e+00, -2.9327e+00, -1.8455e+01, -4.4333e+01, -8.0566e+01, -1.2715e+02, -1.8410e+02, -2.5140e+02, -3.2906e+02, -4.1707e+02, -5.1543e+02, -6.2416e+02, -7.4324e+02, -8.7267e+02,\n",
              "        -1.0125e+03, -1.1626e+03, -1.3231e+03, -1.4940e+03, -1.6752e+03, -1.8667e+03, -2.0687e+03, -2.2809e+03, -2.5036e+03, -2.7366e+03, -2.9799e+03, -3.2336e+03, -3.4977e+03, -3.7721e+03,\n",
              "        -4.0569e+03, -4.3520e+03], grad_fn=<AddBackward0>)"
            ]
          },
          "metadata": {},
          "execution_count": 79
        },
        {
          "output_type": "stream",
          "name": "stdout",
          "text": [
            "17348292.0\n"
          ]
        },
        {
          "output_type": "execute_result",
          "data": {
            "text/plain": [
              "tensor([2.2648e+00, 1.4001e+01, 4.7817e+01, 1.0371e+02, 1.8169e+02, 2.8174e+02, 4.0387e+02, 5.4809e+02, 7.1438e+02, 9.0275e+02, 1.1132e+03, 1.3457e+03, 1.6003e+03, 1.8770e+03, 2.1758e+03, 2.4966e+03,\n",
              "        2.8396e+03, 3.2046e+03, 3.5917e+03, 4.0008e+03, 4.4321e+03, 4.8854e+03, 5.3608e+03, 5.8583e+03, 6.3778e+03, 6.9195e+03, 7.4832e+03, 8.0690e+03, 8.6769e+03, 9.3068e+03],\n",
              "       grad_fn=<AddBackward0>)"
            ]
          },
          "metadata": {},
          "execution_count": 79
        },
        {
          "output_type": "stream",
          "name": "stdout",
          "text": [
            "68102072.0\n"
          ]
        },
        {
          "output_type": "execute_result",
          "data": {
            "text/plain": [
              "tensor([ 2.2031e+00, -1.9557e+01, -8.3503e+01, -1.8963e+02, -3.3795e+02, -5.2845e+02, -7.6114e+02, -1.0360e+03, -1.3531e+03, -1.7123e+03, -2.1137e+03, -2.5574e+03, -3.0432e+03, -3.5711e+03,\n",
              "        -4.1413e+03, -4.7537e+03, -5.4082e+03, -6.1049e+03, -6.8439e+03, -7.6250e+03, -8.4482e+03, -9.3137e+03, -1.0221e+04, -1.1171e+04, -1.2163e+04, -1.3197e+04, -1.4274e+04, -1.5392e+04,\n",
              "        -1.6553e+04, -1.7756e+04], grad_fn=<AddBackward0>)"
            ]
          },
          "metadata": {},
          "execution_count": 79
        },
        {
          "output_type": "stream",
          "name": "stdout",
          "text": [
            "267350256.0\n"
          ]
        },
        {
          "output_type": "execute_result",
          "data": {
            "text/plain": [
              "tensor([2.3251e+00, 4.6928e+01, 1.7668e+02, 3.9157e+02, 6.9162e+02, 1.0768e+03, 1.5471e+03, 2.1026e+03, 2.7433e+03, 3.4690e+03, 4.2800e+03, 5.1760e+03, 6.1572e+03, 7.2236e+03, 8.3751e+03, 9.6118e+03,\n",
              "        1.0934e+04, 1.2341e+04, 1.3833e+04, 1.5410e+04, 1.7072e+04, 1.8820e+04, 2.0652e+04, 2.2570e+04, 2.4573e+04, 2.6661e+04, 2.8835e+04, 3.1093e+04, 3.3437e+04, 3.5865e+04],\n",
              "       grad_fn=<AddBackward0>)"
            ]
          },
          "metadata": {},
          "execution_count": 79
        },
        {
          "output_type": "stream",
          "name": "stdout",
          "text": [
            "1049554944.0\n"
          ]
        },
        {
          "output_type": "execute_result",
          "data": {
            "text/plain": [
              "tensor([ 2.0831e+00, -8.4809e+01, -3.3884e+02, -7.6002e+02, -1.3483e+03, -2.1038e+03, -3.0264e+03, -4.1162e+03, -5.3731e+03, -6.7971e+03, -8.3883e+03, -1.0147e+04, -1.2072e+04, -1.4165e+04,\n",
              "        -1.6424e+04, -1.8851e+04, -2.1445e+04, -2.4207e+04, -2.7135e+04, -3.0230e+04, -3.3493e+04, -3.6923e+04, -4.0520e+04, -4.4284e+04, -4.8215e+04, -5.2313e+04, -5.6579e+04, -6.1011e+04,\n",
              "        -6.5611e+04, -7.0378e+04], grad_fn=<AddBackward0>)"
            ]
          },
          "metadata": {},
          "execution_count": 79
        },
        {
          "output_type": "stream",
          "name": "stdout",
          "text": [
            "4120319744.0\n"
          ]
        },
        {
          "output_type": "execute_result",
          "data": {
            "text/plain": [
              "tensor([2.5622e+00, 1.7620e+02, 6.8258e+02, 1.5217e+03, 2.6935e+03, 4.1981e+03, 6.0354e+03, 8.2055e+03, 1.0708e+04, 1.3544e+04, 1.6712e+04, 2.0213e+04, 2.4047e+04, 2.8213e+04, 3.2712e+04, 3.7544e+04,\n",
              "        4.2709e+04, 4.8206e+04, 5.4036e+04, 6.0199e+04, 6.6695e+04, 7.3523e+04, 8.0684e+04, 8.8178e+04, 9.6005e+04, 1.0416e+05, 1.1266e+05, 1.2148e+05, 1.3064e+05, 1.4013e+05],\n",
              "       grad_fn=<AddBackward0>)"
            ]
          },
          "metadata": {},
          "execution_count": 79
        },
        {
          "output_type": "stream",
          "name": "stdout",
          "text": [
            "16175466496.0\n"
          ]
        },
        {
          "output_type": "execute_result",
          "data": {
            "text/plain": [
              "tensor([ 1.6127e+00, -3.4096e+02, -1.3412e+03, -2.9992e+03, -5.3149e+03, -8.2883e+03, -1.1919e+04, -1.6208e+04, -2.1155e+04, -2.6759e+04, -3.3021e+04, -3.9940e+04, -4.7518e+04, -5.5753e+04,\n",
              "        -6.4645e+04, -7.4196e+04, -8.4404e+04, -9.5270e+04, -1.0679e+05, -1.1897e+05, -1.3181e+05, -1.4531e+05, -1.5946e+05, -1.7428e+05, -1.8975e+05, -2.0587e+05, -2.2266e+05, -2.4010e+05,\n",
              "        -2.5820e+05, -2.7696e+05], grad_fn=<AddBackward0>)"
            ]
          },
          "metadata": {},
          "execution_count": 79
        }
      ],
      "source": [
        "# Iterate and looping over the process, we can determien the improvement if any\n",
        "for i in range(10): apply_step(params)"
      ]
    },
    {
      "cell_type": "code",
      "execution_count": 80,
      "metadata": {
        "id": "zQOIKpIWJ8Ae"
      },
      "outputs": [],
      "source": [
        "#hide\n",
        "params = orig_params.detach().requires_grad_()"
      ]
    },
    {
      "cell_type": "code",
      "execution_count": 81,
      "metadata": {
        "colab": {
          "base_uri": "https://localhost:8080/",
          "height": 300
        },
        "id": "lLJJpjdrJ8Ae",
        "outputId": "2861a743-d508-493c-ddf7-8cdf6ecfbea7"
      },
      "outputs": [
        {
          "output_type": "display_data",
          "data": {
            "text/plain": [
              "<Figure size 1200x300 with 4 Axes>"
            ],
            "image/png": "[encoded data removed]"
          },
          "metadata": {}
        }
      ],
      "source": [
        "# The loss is going down, just as we hoped! But looking only at these loss numbers disguises the fact that each iteration\n",
        "# represents an entirely different quadratic function being tried, on the way to finding the best possible quadratic function.\n",
        "# We can see this process visually if, instead of printing out the loss function, we plot the function at every step.\n",
        "# Then we can see how the shape is approaching the best possible quadratic function for our data:\n",
        "# We just decided to stop after 10 epochs arbitrarily.\n",
        "# In practice, we would watch the training and validation losses and our metrics to decide when to stop, as we’ve discussed.\n",
        "_,axs = plt.subplots(1,4,figsize=(12,3))\n",
        "for ax in axs: show_preds(apply_step(params, False), ax)\n",
        "plt.tight_layout()"
      ]
    },
    {
      "cell_type": "markdown",
      "metadata": {
        "id": "wAQ5Nh9LJ8Af"
      },
      "source": [
        "#### Step 7: stop"
      ]
    },
    {
      "cell_type": "markdown",
      "metadata": {
        "id": "iJQWUnXXJ8Ag"
      },
      "source": [
        "### Summarizing Gradient Descent"
      ]
    },
    {
      "cell_type": "code",
      "execution_count": 82,
      "metadata": {
        "colab": {
          "base_uri": "https://localhost:8080/",
          "height": 125
        },
        "id": "DGtSUl_OJ8Ag",
        "outputId": "be8c2742-817b-404c-8ff9-91e2181c5d72"
      },
      "outputs": [
        {
          "output_type": "execute_result",
          "data": {
            "image/svg+xml": "<?xml version=\"1.0\" encoding=\"UTF-8\" standalone=\"no\"?>\n<!DOCTYPE svg PUBLIC \"-//W3C//DTD SVG 1.1//EN\"\n \"http://www.w3.org/Graphics/SVG/1.1/DTD/svg11.dtd\">\n<!-- Generated by graphviz version 2.43.0 (0)\n -->\n<!-- Title: G Pages: 1 -->\n<svg width=\"591pt\" height=\"78pt\"\n viewBox=\"0.00 0.00 591.49 78.00\" xmlns=\"http://www.w3.org/2000/svg\" xmlns:xlink=\"http://www.w3.org/1999/xlink\">\n<g id=\"graph0\" class=\"graph\" transform=\"scale(1 1) rotate(0) translate(4 74)\">\n<title>G</title>\n<polygon fill=\"white\" stroke=\"transparent\" points=\"-4,4 -4,-74 587.49,-74 587.49,4 -4,4\"/>\n<!-- init -->\n<g id=\"node1\" class=\"node\">\n<title>init</title>\n<ellipse fill=\"none\" stroke=\"black\" cx=\"27\" cy=\"-18\" rx=\"27\" ry=\"18\"/>\n<text text-anchor=\"middle\" x=\"27\" y=\"-14.3\" font-family=\"Times,serif\" font-size=\"14.00\">init</text>\n</g>\n<!-- predict -->\n<g id=\"node2\" class=\"node\">\n<title>predict</title>\n<ellipse fill=\"none\" stroke=\"black\" cx=\"126.1\" cy=\"-18\" rx=\"35.19\" ry=\"18\"/>\n<text text-anchor=\"middle\" x=\"126.1\" y=\"-14.3\" font-family=\"Times,serif\" font-size=\"14.00\">predict</text>\n</g>\n<!-- init&#45;&gt;predict -->\n<g id=\"edge1\" class=\"edge\">\n<title>init&#45;&gt;predict</title>\n<path fill=\"none\" stroke=\"black\" d=\"M54.02,-18C62.26,-18 71.62,-18 80.78,-18\"/>\n<polygon fill=\"black\" stroke=\"black\" points=\"80.96,-21.5 90.96,-18 80.96,-14.5 80.96,-21.5\"/>\n</g>\n<!-- loss -->\n<g id=\"node3\" class=\"node\">\n<title>loss</title>\n<ellipse fill=\"none\" stroke=\"black\" cx=\"225.19\" cy=\"-52\" rx=\"27\" ry=\"18\"/>\n<text text-anchor=\"middle\" x=\"225.19\" y=\"-48.3\" font-family=\"Times,serif\" font-size=\"14.00\">loss</text>\n</g>\n<!-- predict&#45;&gt;loss -->\n<g id=\"edge2\" class=\"edge\">\n<title>predict&#45;&gt;loss</title>\n<path fill=\"none\" stroke=\"black\" d=\"M155.44,-27.93C166.61,-31.84 179.52,-36.36 191.11,-40.42\"/>\n<polygon fill=\"black\" stroke=\"black\" points=\"190.29,-43.84 200.88,-43.84 192.6,-37.23 190.29,-43.84\"/>\n</g>\n<!-- gradient -->\n<g id=\"node4\" class=\"node\">\n<title>gradient</title>\n<ellipse fill=\"none\" stroke=\"black\" cx=\"361.84\" cy=\"-52\" rx=\"39.79\" ry=\"18\"/>\n<text text-anchor=\"middle\" x=\"361.84\" y=\"-48.3\" font-family=\"Times,serif\" font-size=\"14.00\">gradient</text>\n</g>\n<!-- loss&#45;&gt;gradient -->\n<g id=\"edge3\" class=\"edge\">\n<title>loss&#45;&gt;gradient</title>\n<path fill=\"none\" stroke=\"black\" d=\"M252.47,-52C269.35,-52 291.8,-52 311.88,-52\"/>\n<polygon fill=\"black\" stroke=\"black\" points=\"312.13,-55.5 322.13,-52 312.13,-48.5 312.13,-55.5\"/>\n</g>\n<!-- step -->\n<g id=\"node5\" class=\"node\">\n<title>step</title>\n<ellipse fill=\"none\" stroke=\"black\" cx=\"465.49\" cy=\"-18\" rx=\"27\" ry=\"18\"/>\n<text text-anchor=\"middle\" x=\"465.49\" y=\"-14.3\" font-family=\"Times,serif\" font-size=\"14.00\">step</text>\n</g>\n<!-- gradient&#45;&gt;step -->\n<g id=\"edge4\" class=\"edge\">\n<title>gradient&#45;&gt;step</title>\n<path fill=\"none\" stroke=\"black\" d=\"M394.17,-41.52C405.92,-37.59 419.32,-33.11 431.25,-29.12\"/>\n<polygon fill=\"black\" stroke=\"black\" points=\"432.48,-32.4 440.85,-25.91 430.26,-25.76 432.48,-32.4\"/>\n</g>\n<!-- step&#45;&gt;predict -->\n<g id=\"edge6\" class=\"edge\">\n<title>step&#45;&gt;predict</title>\n<path fill=\"none\" stroke=\"black\" d=\"M438.29,-18C380.72,-18 242.6,-18 171.32,-18\"/>\n<polygon fill=\"black\" stroke=\"black\" points=\"171.3,-14.5 161.3,-18 171.3,-21.5 171.3,-14.5\"/>\n<text text-anchor=\"middle\" x=\"287.19\" y=\"-21.8\" font-family=\"Times,serif\" font-size=\"14.00\">repeat</text>\n</g>\n<!-- stop -->\n<g id=\"node6\" class=\"node\">\n<title>stop</title>\n<ellipse fill=\"none\" stroke=\"black\" cx=\"556.49\" cy=\"-18\" rx=\"27\" ry=\"18\"/>\n<text text-anchor=\"middle\" x=\"556.49\" y=\"-14.3\" font-family=\"Times,serif\" font-size=\"14.00\">stop</text>\n</g>\n<!-- step&#45;&gt;stop -->\n<g id=\"edge5\" class=\"edge\">\n<title>step&#45;&gt;stop</title>\n<path fill=\"none\" stroke=\"black\" d=\"M492.71,-18C501.04,-18 510.4,-18 519.3,-18\"/>\n<polygon fill=\"black\" stroke=\"black\" points=\"519.45,-21.5 529.45,-18 519.45,-14.5 519.45,-21.5\"/>\n</g>\n</g>\n</svg>\n",
            "text/plain": [
              "<graphviz.sources.Source at 0x7c73b900cf70>"
            ]
          },
          "metadata": {},
          "execution_count": 82
        }
      ],
      "source": [
        "gv('''\n",
        "init->predict->loss->gradient->step->stop\n",
        "step->predict[label=repeat]\n",
        "''')"
      ]
    },
    {
      "cell_type": "markdown",
      "metadata": {
        "id": "fQRg3_jMJ8Ah"
      },
      "source": [
        "## The MNIST Loss Function"
      ]
    },
    {
      "cell_type": "code",
      "execution_count": 83,
      "metadata": {
        "id": "RQf7KOAvJ8Ah"
      },
      "outputs": [],
      "source": [
        "# We already have our xs—that is, our independent variables, the images themselves.\n",
        "# We will concatenate them all into a single tensor, and also change them from a list of matrices (a rank-3 tensor)\n",
        "# to a list of vectors (a rank-2 tensor). We can do this using view, which is a PyTorch method that changes the shape\n",
        "# of a tensor without changing its contents. -1 is a special parameter to view that means\n",
        "# “make this axis as big as necessary to fit all the data”:\n",
        "train_x = torch.cat([stacked_threes, stacked_sevens]).view(-1, 28*28)"
      ]
    },
    {
      "cell_type": "code",
      "execution_count": 84,
      "metadata": {
        "colab": {
          "base_uri": "https://localhost:8080/"
        },
        "id": "JcOQGdcWJ8Ai",
        "outputId": "c8215c28-049f-44b1-f63b-85cbf0939fea"
      },
      "outputs": [
        {
          "output_type": "execute_result",
          "data": {
            "text/plain": [
              "(torch.Size([12396, 784]), torch.Size([12396, 1]))"
            ]
          },
          "metadata": {},
          "execution_count": 84
        }
      ],
      "source": [
        "# We need a label for each image. We will use 1 for 3s and 0 for 7s:\n",
        "\n",
        "train_y = tensor([1]*len(threes) + [0]*len(sevens)).unsqueeze(1)\n",
        "train_x.shape,train_y.shape"
      ]
    },
    {
      "cell_type": "code",
      "execution_count": 85,
      "metadata": {
        "colab": {
          "base_uri": "https://localhost:8080/"
        },
        "id": "jTuNf9-4J8Ai",
        "outputId": "7b6feaee-14bc-450e-8959-29830e478435"
      },
      "outputs": [
        {
          "output_type": "execute_result",
          "data": {
            "text/plain": [
              "(torch.Size([784]), tensor([1]))"
            ]
          },
          "metadata": {},
          "execution_count": 85
        }
      ],
      "source": [
        "# A Dataset in PyTorch is required to return a tuple of (x,y) when indexed.\n",
        "# Python provides a zip function that, when combined with list, provides a simple way to get this functionality:\n",
        "\n",
        "dset = list(zip(train_x,train_y))\n",
        "x,y = dset[0]\n",
        "x.shape,y"
      ]
    },
    {
      "cell_type": "code",
      "execution_count": 86,
      "metadata": {
        "id": "0CG9rj8ZJ8Ai"
      },
      "outputs": [],
      "source": [
        "\n",
        "valid_x = torch.cat([valid_3_tens, valid_7_tens]).view(-1, 28*28)\n",
        "valid_y = tensor([1]*len(valid_3_tens) + [0]*len(valid_7_tens)).unsqueeze(1)\n",
        "valid_dset = list(zip(valid_x,valid_y))"
      ]
    },
    {
      "cell_type": "code",
      "execution_count": 87,
      "metadata": {
        "id": "XhTwFomOJ8Am"
      },
      "outputs": [],
      "source": [
        "# Now we need an (initially random) weight for every pixel (this is the initialize step in our seven-step process):\n",
        "def init_params(size, std=1.0):\n",
        "  return (torch.randn(size)*std).requires_grad_()"
      ]
    },
    {
      "cell_type": "code",
      "execution_count": 88,
      "metadata": {
        "id": "AkFFAwtHJ8Ap"
      },
      "outputs": [],
      "source": [
        "# The function weights*pixels won’t be flexible enough—it is always equal to 0 when the pixels are equal to 0\n",
        "# (i.e., its intercept is 0). You might remember from high school math that the formula for a line is y = w*x+b y = Ax = b\n",
        "# we still need the b. We’ll initialize it to a random number too:\n",
        "weights = init_params((28*28,1))"
      ]
    },
    {
      "cell_type": "code",
      "execution_count": 89,
      "metadata": {
        "id": "zYYOMRiSJ8Ap"
      },
      "outputs": [],
      "source": [
        "# In neural networks, the w in the equation y=w*x+b is called the weights, and the b is called the bias.\n",
        "# In statistical modeling alpha or A in the equation y = A*x+b is called the intercept, and the b is called the parameter\n",
        "# Together, the weights and bias make up the parameters.\n",
        "\n",
        "bias = init_params(1)"
      ]
    },
    {
      "cell_type": "code",
      "execution_count": 90,
      "metadata": {
        "colab": {
          "base_uri": "https://localhost:8080/"
        },
        "id": "RCwmZpccJ8Aq",
        "outputId": "f0835666-1c41-40f5-ff32-ffaeb8ec3ea2"
      },
      "outputs": [
        {
          "output_type": "execute_result",
          "data": {
            "text/plain": [
              "tensor([-1.8459], grad_fn=<AddBackward0>)"
            ]
          },
          "metadata": {},
          "execution_count": 90
        }
      ],
      "source": [
        "# We can now calculate a prediction for one image:\n",
        "(train_x[0]*weights.T).sum() + bias"
      ]
    },
    {
      "cell_type": "code",
      "execution_count": 91,
      "metadata": {
        "colab": {
          "base_uri": "https://localhost:8080/"
        },
        "id": "RSXDTgU-J8Ar",
        "outputId": "4e272836-c41f-48e4-b56e-1b68cba976cd"
      },
      "outputs": [
        {
          "output_type": "execute_result",
          "data": {
            "text/plain": [
              "tensor([[-1.8459],\n",
              "        [-4.7343],\n",
              "        [ 1.4528],\n",
              "        ...,\n",
              "        [ 7.2002],\n",
              "        [ 2.7452],\n",
              "        [ 7.8953]], grad_fn=<AddBackward0>)"
            ]
          },
          "metadata": {},
          "execution_count": 91
        }
      ],
      "source": [
        "# We use matrix multiplication here\n",
        "# The first element is the same as we calculated before, as we’d expect. This equation, batch @ weights + bias,\n",
        "# is one of the two fundamental equations of any neural network (the other one is the activation function, which we’ll see in a moment).\n",
        "# Let us check our accuracy. To decide if an output represents a 3 or a 7, we can just check whether it is greater than 0,\n",
        "# so our accuracy for each item can be calculated (using broadcasting, so no loops!) as follows:\n",
        "def linear1(xb): return xb@weights + bias\n",
        "preds = linear1(train_x)\n",
        "preds"
      ]
    },
    {
      "cell_type": "code",
      "execution_count": 92,
      "metadata": {
        "colab": {
          "base_uri": "https://localhost:8080/"
        },
        "id": "RIr7b7i3J8As",
        "outputId": "6d6325b7-055d-4d54-d129-3e468f5bf54b"
      },
      "outputs": [
        {
          "output_type": "execute_result",
          "data": {
            "text/plain": [
              "tensor([[False],\n",
              "        [False],\n",
              "        [ True],\n",
              "        ...,\n",
              "        [False],\n",
              "        [False],\n",
              "        [False]])"
            ]
          },
          "metadata": {},
          "execution_count": 92
        }
      ],
      "source": [
        "\n",
        "corrects = (preds>0.0).float() == train_y\n",
        "corrects"
      ]
    },
    {
      "cell_type": "code",
      "execution_count": 93,
      "metadata": {
        "colab": {
          "base_uri": "https://localhost:8080/"
        },
        "id": "V1ylOpFOJ8As",
        "outputId": "1f9dd0b6-dc37-43a0-ba76-47b67715eff9"
      },
      "outputs": [
        {
          "output_type": "execute_result",
          "data": {
            "text/plain": [
              "0.47620201110839844"
            ]
          },
          "metadata": {},
          "execution_count": 93
        }
      ],
      "source": [
        "# Now let us see what the change in accuracy is for a small change in one of the weights:\n",
        "corrects.float().mean().item()"
      ]
    },
    {
      "cell_type": "code",
      "execution_count": 94,
      "metadata": {
        "id": "U6nflrOuJ8As"
      },
      "outputs": [],
      "source": [
        "with torch.no_grad():\n",
        "  weights[0] *= 1.0001"
      ]
    },
    {
      "cell_type": "code",
      "execution_count": 95,
      "metadata": {
        "colab": {
          "base_uri": "https://localhost:8080/"
        },
        "id": "6pLYl26kJ8As",
        "outputId": "4d4af102-3851-4b7c-8496-b7b0b3c341c4"
      },
      "outputs": [
        {
          "output_type": "execute_result",
          "data": {
            "text/plain": [
              "0.47620201110839844"
            ]
          },
          "metadata": {},
          "execution_count": 95
        }
      ],
      "source": [
        "\n",
        "preds = linear1(train_x)\n",
        "((preds>0.0).float() == train_y).float().mean().item()"
      ]
    },
    {
      "cell_type": "code",
      "execution_count": 96,
      "metadata": {
        "id": "CTZldxcbJ8At"
      },
      "outputs": [],
      "source": [
        "# As we have seen, we need gradients in order to improve our model using SGD, and in order to calculate gradients we need a loss function\n",
        "# that represents how good our model is. That is because the gradients are a measure of how that loss function changes with small tweaks\n",
        "# to the weights.\n",
        "\n",
        "# So, we need to choose a loss function. The obvious approach would be to use accuracy, which is our metric, as our loss function as well.\n",
        "# In this case, we would calculate our prediction for each image, collect these values to calculate an overall accuracy,\n",
        "# and then calculate the gradients of each weight with respect to that overall accuracy.\n",
        "\n",
        "# Unfortunately, we have a significant technical problem here. The gradient of a function is its slope, or its steepness,\n",
        "# which can be defined as rise over run—that is, how much the value of the function goes up or down, divided by how much we changed the input.\n",
        "# We can write this mathematically as:\n",
        "\n",
        "# (y_new – y_old) / (x_new – x_old)\n",
        "# This gives a good approximation of the gradient when x_new is very similar to x_old, meaning that their difference is very small.\n",
        "# But accuracy changes at all only when a prediction changes from a 3 to a 7, or vice versa.\n",
        "# The problem is that a small change in weights from x_old to x_new isn’t likely to cause any prediction to change, so (y_new – y_old)\n",
        "# will almost always be 0. In other words, the gradient is 0 almost everywhere.\n",
        "\n",
        "# A very small change in the value of a weight will often not change the accuracy at all.\n",
        "# This means it is not useful to use accuracy as a loss function—if we do, most of the time our gradients will be 0,\n",
        "# and the model will not be able to learn from that number.\n",
        "\n",
        "# Instead, we need a loss function that, when our weights result in slightly better predictions,\n",
        "# gives us a slightly better loss. So what does a “slightly better prediction” look like, exactly?\n",
        "# Well, in this case, it means that if the correct answer is a 3, the score is a little higher, or if the correct answer is a 7,\n",
        "# the score is a little lower.\n",
        "\n",
        "# Let’s write such a function now. What form does it take?\n",
        "\n",
        "# The loss function receives not the images themselves, but the predictions from the model.\n",
        "# So let’s make one argument, prds, of values between 0 and 1, where each value is the prediction that an image is a 3.\n",
        "# It is a vector (i.e., a rank-1 tensor) indexed over the images.\n",
        "\n",
        "# The purpose of the loss function is to measure the difference between predicted values and the true values—that is,\n",
        "# the targets (aka labels). Let’s therefore make another argument, trgts, with values of 0 or 1 that tells whether an image actually is a 3 or not. It is also a vector (i.e., another rank-1 tensor) indexed over the images.\n",
        "\n",
        "# For instance, suppose we had three images that we knew were a 3, a 7, and a 3.\n",
        "# And suppose our model predicted with high confidence (0.9) that the first was a 3, with slight confidence (0.4)\n",
        "# that the second was a 7, and with fair confidence (0.2), but incorrectly, that the last was a 7.\n",
        "# This would mean our loss function would receive these values as its inputs:\n",
        "trgts  = tensor([1,0,1])\n",
        "prds   = tensor([0.9, 0.4, 0.2])"
      ]
    },
    {
      "cell_type": "code",
      "execution_count": 97,
      "metadata": {
        "id": "7UrMB1b-J8At"
      },
      "outputs": [],
      "source": [
        "# We’re using a new function, torch.where(a,b,c).\n",
        "# This is the same as running the list comprehension [b[i] if a[i] else c[i] for i in range(len(a))],\n",
        "# except it works on tensors, at C/CUDA speed. In plain English, this function will measure how distant each prediction is from 1\n",
        "# if it should be 1, and how distant it is from 0 if it should be 0, and then it will take the mean of all those distances.\n",
        "\n",
        "def mnist_loss(predictions, targets):\n",
        "    return torch.where(targets==1, 1-predictions, predictions).mean()"
      ]
    },
    {
      "cell_type": "code",
      "execution_count": 98,
      "metadata": {
        "colab": {
          "base_uri": "https://localhost:8080/"
        },
        "id": "_Z82bChyJ8At",
        "outputId": "2f0c49ef-274c-4532-af52-30012dd37012"
      },
      "outputs": [
        {
          "output_type": "execute_result",
          "data": {
            "text/plain": [
              "tensor([0.1000, 0.4000, 0.8000])"
            ]
          },
          "metadata": {},
          "execution_count": 98
        }
      ],
      "source": [
        "\n",
        "torch.where(trgts==1, 1-prds, prds)"
      ]
    },
    {
      "cell_type": "code",
      "execution_count": 99,
      "metadata": {
        "colab": {
          "base_uri": "https://localhost:8080/"
        },
        "id": "yutgffojJ8At",
        "outputId": "2a3dc0cf-42d7-4c59-b021-827b3b824d82"
      },
      "outputs": [
        {
          "output_type": "execute_result",
          "data": {
            "text/plain": [
              "tensor(0.4333)"
            ]
          },
          "metadata": {},
          "execution_count": 99
        }
      ],
      "source": [
        "# You can see that this function returns a lower number when predictions are more accurate,\n",
        "# when accurate predictions are more confident (higher absolute values), and when inaccurate predictions are less confident.\n",
        "# In PyTorch, we always assume that a lower value of a loss function is better.\n",
        "# Since we need a scalar for the final loss, mnist_loss takes the mean of the previous tensor:\n",
        "mnist_loss(prds,trgts)"
      ]
    },
    {
      "cell_type": "code",
      "execution_count": 100,
      "metadata": {
        "colab": {
          "base_uri": "https://localhost:8080/"
        },
        "id": "rw9fo9qDJ8At",
        "outputId": "e8478987-c2ab-40f4-bd0c-1ca5a71cbbae"
      },
      "outputs": [
        {
          "output_type": "execute_result",
          "data": {
            "text/plain": [
              "tensor(0.2333)"
            ]
          },
          "metadata": {},
          "execution_count": 100
        }
      ],
      "source": [
        "# For instance, if we change our prediction for the one “false” target from 0.2 to 0.8, the loss will go down,\n",
        "# indicating that this is a better prediction:\n",
        "mnist_loss(tensor([0.9, 0.4, 0.8]),trgts)"
      ]
    },
    {
      "cell_type": "markdown",
      "metadata": {
        "id": "IGdXMTs8J8Au"
      },
      "source": [
        "### Sigmoid"
      ]
    },
    {
      "cell_type": "code",
      "execution_count": 101,
      "metadata": {
        "id": "1w5yZARuJ8Au"
      },
      "outputs": [],
      "source": [
        "# One problem with mnist_loss as currently defined is that it assumes that predictions are always between 0 and 1.\n",
        "# We need to ensure, then, that this is actually the case! As it happens, there is a function that does exactly that—let’s take a look.\n",
        "# The sigmoid function always outputs a number between 0 and 1. It’s defined as follows:\n",
        "# Also called the logistic function\n",
        "\n",
        "def sigmoid(x): return 1/(1+torch.exp(-x))"
      ]
    },
    {
      "cell_type": "code",
      "execution_count": 102,
      "metadata": {
        "colab": {
          "base_uri": "https://localhost:8080/",
          "height": 396
        },
        "id": "vMS4I91ZJ8Au",
        "outputId": "57c1d990-b3f2-4e75-b55b-a5fc3035e035"
      },
      "outputs": [
        {
          "output_type": "display_data",
          "data": {
            "text/plain": [
              "<Figure size 600x400 with 1 Axes>"
            ],
            "image/png": "[encoded data removed]"
          },
          "metadata": {}
        }
      ],
      "source": [
        "# As you can see, it takes any input value, positive or negative, and smooshes it into an output value between 0 and 1.\n",
        "# It is also a smooth curve that only goes up, which makes it easier for SGD to find meaningful gradients.\n",
        "# Let’s update mnist_loss to first apply sigmoid to the inputs:\n",
        "\n",
        "plot_function(torch.sigmoid, title='Sigmoid', min=-4, max=4)"
      ]
    },
    {
      "cell_type": "code",
      "execution_count": 103,
      "metadata": {
        "id": "y9gjmzneJ8Aw"
      },
      "outputs": [],
      "source": [
        "# Now we can be confident our loss function will work, even if the predictions are not between 0 and 1.\n",
        "# All that is required is that a higher prediction corresponds to higher confidence.\n",
        "\n",
        "# Having defined a loss function, now is a good moment to recapitulate why we did this.\n",
        "# After all, we already had a metric, which was overall accuracy. So why did we define a loss?\n",
        "\n",
        "# The key difference is that the metric is to drive human understanding and the loss is to drive automated learning.\n",
        "# To drive automated learning, the loss must be a function that has a meaningful derivative. It can’t have big flat sections and large jumps, but instead must be reasonably smooth. This is why we designed a loss function that would respond to small changes in confidence level. This requirement means that sometimes it does not really reflect exactly what we are trying to achieve, but is rather a compromise between our real goal and a function that can be optimized using its gradient. The loss function is calculated for each item in our dataset, and then at the end of an epoch, the loss values are all averaged and the overall mean is reported for the epoch.\n",
        "\n",
        "# Metrics, on the other hand, are the numbers that we care about.\n",
        "# These are the values that are printed at the end of each epoch that tell us how our model is doing.\n",
        "# It is important that we learn to focus on these metrics, rather than the loss, when judging the performance of a model.\n",
        "\n",
        "def mnist_loss(predictions, targets):\n",
        "    predictions = predictions.sigmoid()\n",
        "    return torch.where(targets==1, 1-predictions, predictions).mean()"
      ]
    },
    {
      "cell_type": "markdown",
      "metadata": {
        "id": "rN2h6RnDJ8Aw"
      },
      "source": [
        "### SGD and Mini-Batches"
      ]
    },
    {
      "cell_type": "code",
      "execution_count": 104,
      "metadata": {
        "colab": {
          "base_uri": "https://localhost:8080/"
        },
        "id": "sBwRP0sHJ8Aw",
        "outputId": "48195449-5f61-4a8b-8d08-02f89cc98af2"
      },
      "outputs": [
        {
          "output_type": "execute_result",
          "data": {
            "text/plain": [
              "[tensor([ 3, 12,  8, 10,  2]),\n",
              " tensor([ 9,  4,  7, 14,  5]),\n",
              " tensor([ 1, 13,  0,  6, 11])]"
            ]
          },
          "metadata": {},
          "execution_count": 104
        }
      ],
      "source": [
        "# Now that we have a loss function suitable for driving SGD, we can consider some of the details involved in the next\n",
        "# phase of the learning process, which is to change or update the weights based on the gradients. This is called an optimization step.\n",
        "\n",
        "# To take an optimization step, we need to calculate the loss over one or more data items. How many should we use?\n",
        "# We could calculate it for the whole dataset and take the average, or we could calculate it for a single data item.\n",
        "# But neither of these is ideal. Calculating it for the whole dataset would take a long time.\n",
        "# Calculating it for a single item would not use much information, so it would result in an imprecise and unstable gradient.\n",
        "# You’d be going to the trouble of updating the weights, but taking into account only how that would improve\n",
        "# the model’s performance on that single item.\n",
        "\n",
        "# So instead we compromise: we calculate the average loss for a few data items at a time.\n",
        "# This is called a mini-batch. The number of data items in the mini-batch is called the batch size.\n",
        "# A larger batch size means that you will get a more accurate and stable estimate of your dataset’s gradients\n",
        "# from the loss function, but it will take longer, and you will process fewer mini-batches per epoch.\n",
        "# Choosing a good batch size is one of the decisions you need to make as a deep learning practitioner to train\n",
        "# your model quickly and accurately.\n",
        "# Another good reason for using mini-batches rather than calculating the gradient on individual data items is that,\n",
        "# in practice, we nearly always do our training on an accelerator such as a GPU.\n",
        "# These accelerators perform well only if they have lots of work to do at a time,\n",
        "# so it’s helpful if we can give them lots of data items to work on.\n",
        "# Using mini-batches is one of the best ways to do this.\n",
        "# However, if you give them too much data to work on at once, they run out of memory—making GPUs happy is also tricky!\n",
        "# we get better generalization if we can vary things during training.\n",
        "# One simple and effective thing we can vary is what data items we put in each mini-batch.\n",
        "# Rather than simply enumerating our dataset in order for every epoch,\n",
        "# instead what we normally do is randomly shuffle it on every epoch, before we create mini-batches.\n",
        "# PyTorch and fastai provide a class that will do the shuffling and mini-batch collation for you, called DataLoader.\n",
        "\n",
        "# A DataLoader can take any Python collection and turn it into an iterator over many batches, like so:\n",
        "\n",
        "coll = range(15)\n",
        "dl = DataLoader(coll, batch_size=5, shuffle=True)\n",
        "list(dl)"
      ]
    },
    {
      "cell_type": "code",
      "execution_count": 105,
      "metadata": {
        "colab": {
          "base_uri": "https://localhost:8080/"
        },
        "id": "nfxG_sN_J8Ax",
        "outputId": "c680c16a-6235-42fa-82a5-917e9fe3f35f"
      },
      "outputs": [
        {
          "output_type": "execute_result",
          "data": {
            "text/plain": [
              "(#26) [(0, 'a'),(1, 'b'),(2, 'c'),(3, 'd'),(4, 'e'),(5, 'f'),(6, 'g'),(7, 'h'),(8, 'i'),(9, 'j')...]"
            ]
          },
          "metadata": {},
          "execution_count": 105
        }
      ],
      "source": [
        "# For training a model, we don’t just want any Python collection, but a collection containing independent and dependent variables\n",
        "# (the inputs and targets of the model).\n",
        "# A collection that contains tuples of independent and dependent variables is known in PyTorch as a Dataset.\n",
        "# Here’s an example of an extremely simple Dataset:\n",
        "\n",
        "ds = L(enumerate(string.ascii_lowercase))\n",
        "ds"
      ]
    },
    {
      "cell_type": "code",
      "execution_count": 106,
      "metadata": {
        "colab": {
          "base_uri": "https://localhost:8080/"
        },
        "id": "sw3AXA1RJ8Ax",
        "outputId": "42c8ec21-2d54-40db-823c-4a1043f512f6"
      },
      "outputs": [
        {
          "output_type": "execute_result",
          "data": {
            "text/plain": [
              "[(tensor([17, 18, 10, 22,  8, 14]), ('r', 's', 'k', 'w', 'i', 'o')),\n",
              " (tensor([20, 15,  9, 13, 21, 12]), ('u', 'p', 'j', 'n', 'v', 'm')),\n",
              " (tensor([ 7, 25,  6,  5, 11, 23]), ('h', 'z', 'g', 'f', 'l', 'x')),\n",
              " (tensor([ 1,  3,  0, 24, 19, 16]), ('b', 'd', 'a', 'y', 't', 'q')),\n",
              " (tensor([2, 4]), ('c', 'e'))]"
            ]
          },
          "metadata": {},
          "execution_count": 106
        }
      ],
      "source": [
        "# When we pass a Dataset to a DataLoader we will get back many batches that are themselves tuples of\n",
        "# tensors representing batches of independent and dependent variables:\n",
        "\n",
        "dl = DataLoader(ds, batch_size=6, shuffle=True)\n",
        "list(dl)"
      ]
    },
    {
      "cell_type": "markdown",
      "metadata": {
        "id": "NFrzJDanJ8Ay"
      },
      "source": [
        "## Putting It All Together"
      ]
    },
    {
      "cell_type": "code",
      "source": [
        "# In code, our process will be implemented something like this for each epoch:\n",
        "# ```\n",
        "# for x,y in dl:\n",
        "#     pred = model(x)\n",
        "#     loss = loss_func(pred, y)\n",
        "#     loss.backward()\n",
        "#     parameters -= parameters.grad * lr\n",
        "# ```"
      ],
      "metadata": {
        "collapsed": true,
        "id": "uhkowBJ9PljE"
      },
      "execution_count": 107,
      "outputs": []
    },
    {
      "cell_type": "code",
      "execution_count": 108,
      "metadata": {
        "id": "RgiSmUF_J8A0"
      },
      "outputs": [],
      "source": [
        "weights = init_params((28*28,1))\n",
        "bias = init_params(1)"
      ]
    },
    {
      "cell_type": "code",
      "execution_count": 109,
      "metadata": {
        "colab": {
          "base_uri": "https://localhost:8080/"
        },
        "id": "sjOboTBSJ8A0",
        "outputId": "da14a1be-047a-4416-f00a-70b023511422"
      },
      "outputs": [
        {
          "output_type": "execute_result",
          "data": {
            "text/plain": [
              "(torch.Size([256, 784]), torch.Size([256, 1]))"
            ]
          },
          "metadata": {},
          "execution_count": 109
        }
      ],
      "source": [
        "dl = DataLoader(dset, batch_size=256)\n",
        "xb,yb = first(dl)\n",
        "xb.shape,yb.shape"
      ]
    },
    {
      "cell_type": "code",
      "execution_count": 110,
      "metadata": {
        "id": "L-7mWBDrJ8A1"
      },
      "outputs": [],
      "source": [
        "valid_dl = DataLoader(valid_dset, batch_size=256)"
      ]
    },
    {
      "cell_type": "code",
      "execution_count": 111,
      "metadata": {
        "colab": {
          "base_uri": "https://localhost:8080/"
        },
        "id": "KHi2cirZJ8A1",
        "outputId": "42922826-aee0-482a-9ea9-337fe0f160b6"
      },
      "outputs": [
        {
          "output_type": "execute_result",
          "data": {
            "text/plain": [
              "torch.Size([4, 784])"
            ]
          },
          "metadata": {},
          "execution_count": 111
        }
      ],
      "source": [
        "batch = train_x[:4]\n",
        "batch.shape"
      ]
    },
    {
      "cell_type": "code",
      "execution_count": 112,
      "metadata": {
        "colab": {
          "base_uri": "https://localhost:8080/"
        },
        "id": "Qj0W6CLIJ8A1",
        "outputId": "ad17b8bd-c45e-4c42-de6b-16350b2f0b2d"
      },
      "outputs": [
        {
          "output_type": "execute_result",
          "data": {
            "text/plain": [
              "tensor([[  1.8859],\n",
              "        [ -9.0000],\n",
              "        [-13.4936],\n",
              "        [  9.5951]], grad_fn=<AddBackward0>)"
            ]
          },
          "metadata": {},
          "execution_count": 112
        }
      ],
      "source": [
        "preds = linear1(batch)\n",
        "preds"
      ]
    },
    {
      "cell_type": "code",
      "execution_count": 113,
      "metadata": {
        "colab": {
          "base_uri": "https://localhost:8080/"
        },
        "id": "Njnnp-bpJ8A1",
        "outputId": "c5432bb5-07aa-4d46-9aed-907fbb8ecf07"
      },
      "outputs": [
        {
          "output_type": "execute_result",
          "data": {
            "text/plain": [
              "tensor(0.5329, grad_fn=<MeanBackward0>)"
            ]
          },
          "metadata": {},
          "execution_count": 113
        }
      ],
      "source": [
        "loss = mnist_loss(preds, train_y[:4])\n",
        "loss"
      ]
    },
    {
      "cell_type": "code",
      "execution_count": 114,
      "metadata": {
        "colab": {
          "base_uri": "https://localhost:8080/"
        },
        "id": "Eq4fsaQbJ8A2",
        "outputId": "aba72a4c-83c6-42fb-987a-2711ee199c7b"
      },
      "outputs": [
        {
          "output_type": "execute_result",
          "data": {
            "text/plain": [
              "(torch.Size([784, 1]), tensor(-0.0041), tensor([-0.0286]))"
            ]
          },
          "metadata": {},
          "execution_count": 114
        }
      ],
      "source": [
        " # Calculate the gradients\n",
        "loss.backward()\n",
        "weights.grad.shape,weights.grad.mean(),bias.grad"
      ]
    },
    {
      "cell_type": "code",
      "execution_count": 115,
      "metadata": {
        "id": "VGk4bJjgJ8A2"
      },
      "outputs": [],
      "source": [
        "# Put it in a function\n",
        "def calc_grad(xb, yb, model):\n",
        "    preds = model(xb)\n",
        "    loss = mnist_loss(preds, yb)\n",
        "    loss.backward()"
      ]
    },
    {
      "cell_type": "code",
      "execution_count": 116,
      "metadata": {
        "colab": {
          "base_uri": "https://localhost:8080/"
        },
        "id": "iJNlf2dKJ8A3",
        "outputId": "063610a1-6930-4ca2-bac5-0f1d807f9e28"
      },
      "outputs": [
        {
          "output_type": "execute_result",
          "data": {
            "text/plain": [
              "(tensor(-0.0082), tensor([-0.0573]))"
            ]
          },
          "metadata": {},
          "execution_count": 116
        }
      ],
      "source": [
        "# test it\n",
        "calc_grad(batch, train_y[:4], linear1)\n",
        "weights.grad.mean(),bias.grad"
      ]
    },
    {
      "cell_type": "code",
      "execution_count": 117,
      "metadata": {
        "colab": {
          "base_uri": "https://localhost:8080/"
        },
        "id": "UypvCL9IJ8A3",
        "outputId": "ef45cb4a-8d62-40d0-c21f-fa4e3a793820"
      },
      "outputs": [
        {
          "output_type": "execute_result",
          "data": {
            "text/plain": [
              "(tensor(-0.0123), tensor([-0.0859]))"
            ]
          },
          "metadata": {},
          "execution_count": 117
        }
      ],
      "source": [
        "\n",
        "calc_grad(batch, train_y[:4], linear1)\n",
        "weights.grad.mean(),bias.grad"
      ]
    },
    {
      "cell_type": "code",
      "execution_count": 118,
      "metadata": {
        "id": "DY6VR0vPJ8A4"
      },
      "outputs": [],
      "source": [
        "weights.grad.zero_()\n",
        "bias.grad.zero_();"
      ]
    },
    {
      "cell_type": "code",
      "execution_count": 119,
      "metadata": {
        "id": "oLG6Fd9uJ8A4"
      },
      "outputs": [],
      "source": [
        "# Our only remaining step is to update the weights and biases based on the gradient and learning rate.\n",
        "# When we do so, we have to tell PyTorch not to take the gradient of this step too—otherwise,\n",
        "# things will get confusing when we try to compute the derivative at the next batch!\n",
        "# If we assign to the data attribute of a tensor, PyTorch will not take the gradient of that step.\n",
        "# Here’s our basic training loop for an epoch:\n",
        "def train_epoch(model, lr, params):\n",
        "    for xb,yb in dl:\n",
        "        calc_grad(xb, yb, model)\n",
        "        for p in params:\n",
        "            p.data -= p.grad*lr\n",
        "            p.grad.zero_()"
      ]
    },
    {
      "cell_type": "code",
      "execution_count": 120,
      "metadata": {
        "colab": {
          "base_uri": "https://localhost:8080/"
        },
        "id": "F7yp8QdCJ8A4",
        "outputId": "6acdc545-c17a-44d4-d39f-db0bdf0a621e"
      },
      "outputs": [
        {
          "output_type": "execute_result",
          "data": {
            "text/plain": [
              "tensor([[ True],\n",
              "        [False],\n",
              "        [False],\n",
              "        [ True]])"
            ]
          },
          "metadata": {},
          "execution_count": 120
        }
      ],
      "source": [
        "(preds>0.0).float() == train_y[:4]"
      ]
    },
    {
      "cell_type": "code",
      "execution_count": 121,
      "metadata": {
        "id": "qnyd7BRhJ8A5"
      },
      "outputs": [],
      "source": [
        "# That gives us this function to calculate our validation accuracy:\n",
        "def batch_accuracy(xb, yb):\n",
        "    preds = xb.sigmoid()\n",
        "    correct = (preds>0.5) == yb\n",
        "    return correct.float().mean()"
      ]
    },
    {
      "cell_type": "code",
      "execution_count": 122,
      "metadata": {
        "colab": {
          "base_uri": "https://localhost:8080/"
        },
        "id": "pASB38MPJ8A6",
        "outputId": "0c33efe7-0ec4-458f-e71b-6474828fa390"
      },
      "outputs": [
        {
          "output_type": "execute_result",
          "data": {
            "text/plain": [
              "tensor(0.5000)"
            ]
          },
          "metadata": {},
          "execution_count": 122
        }
      ],
      "source": [
        "batch_accuracy(linear1(batch), train_y[:4])"
      ]
    },
    {
      "cell_type": "code",
      "execution_count": 123,
      "metadata": {
        "id": "dtwjFCeEJ8A-"
      },
      "outputs": [],
      "source": [
        "# And then put the batches together:\n",
        "def validate_epoch(model):\n",
        "    accs = [batch_accuracy(model(xb), yb) for xb,yb in valid_dl]\n",
        "    return round(torch.stack(accs).mean().item(), 4)"
      ]
    },
    {
      "cell_type": "code",
      "execution_count": 124,
      "metadata": {
        "colab": {
          "base_uri": "https://localhost:8080/"
        },
        "id": "BofEcTxSJ8A-",
        "outputId": "8ee503e8-6048-4655-fc50-9c5f3d8e2455"
      },
      "outputs": [
        {
          "output_type": "execute_result",
          "data": {
            "text/plain": [
              "0.3233"
            ]
          },
          "metadata": {},
          "execution_count": 124
        }
      ],
      "source": [
        "# That’s our starting point. Let’s train for one epoch and see if the accuracy improves:\n",
        "\n",
        "validate_epoch(linear1)"
      ]
    },
    {
      "cell_type": "code",
      "execution_count": 125,
      "metadata": {
        "colab": {
          "base_uri": "https://localhost:8080/"
        },
        "id": "Ck7d_wW5J8A_",
        "outputId": "aad919ee-77fd-4927-d75e-a14468d7be08"
      },
      "outputs": [
        {
          "output_type": "execute_result",
          "data": {
            "text/plain": [
              "0.5861"
            ]
          },
          "metadata": {},
          "execution_count": 125
        }
      ],
      "source": [
        "lr = 1.\n",
        "params = weights,bias\n",
        "train_epoch(linear1, lr, params)\n",
        "validate_epoch(linear1)"
      ]
    },
    {
      "cell_type": "code",
      "execution_count": 126,
      "metadata": {
        "colab": {
          "base_uri": "https://localhost:8080/"
        },
        "id": "gwZFUdzaJ8A_",
        "outputId": "e9013e0e-f08e-4852-e121-1c69b841354a"
      },
      "outputs": [
        {
          "output_type": "stream",
          "name": "stdout",
          "text": [
            "0.6848 0.8338 0.9051 0.932 0.9432 0.9476 0.952 0.9554 0.9603 0.9637 0.9647 0.9657 0.9677 0.9681 0.9691 0.9691 0.9706 0.9716 0.972 0.9725 "
          ]
        }
      ],
      "source": [
        "# Looking good! We’re already about at the same accuracy as our “pixel similarity” approach,\n",
        "# and we’ve created a general-purpose foundation we can build on.\n",
        "# Our next step will be to create an object that will handle the SGD step for us. In PyTorch, it’s called an optimizer.\n",
        "for i in range(20):\n",
        "    train_epoch(linear1, lr, params)\n",
        "    print(validate_epoch(linear1), end=' ')"
      ]
    },
    {
      "cell_type": "markdown",
      "metadata": {
        "id": "MYjgbcu3J8A_"
      },
      "source": [
        "### Creating an Optimizer"
      ]
    },
    {
      "cell_type": "code",
      "execution_count": 127,
      "metadata": {
        "id": "7jeqnBgVJ8BA"
      },
      "outputs": [],
      "source": [
        "# Because this is such a general foundation, PyTorch provides some useful classes to make it easier to implement.\n",
        "# The first thing we can do is replace our linear1 function with PyTorch’s nn.Linear module.\n",
        "# A module is an object of a class that inherits from the PyTorch nn.Module class.\n",
        "# Objects of this class behave identically to standard Python functions, in that you can call them using parentheses,\n",
        "# and they will return the activations of a model.\n",
        "\n",
        "# nn.Linear does the same thing as our init_params and linear together.\n",
        "# It contains both the weights and biases in a single class.\n",
        "# Here’s how we replicate our model from the previous section:\n",
        "\n",
        "linear_model = nn.Linear(28*28,1)"
      ]
    },
    {
      "cell_type": "code",
      "execution_count": 128,
      "metadata": {
        "colab": {
          "base_uri": "https://localhost:8080/"
        },
        "id": "1s2Ecri_J8BA",
        "outputId": "bf1830d0-e658-4ecb-b486-24983bd9cb28"
      },
      "outputs": [
        {
          "output_type": "execute_result",
          "data": {
            "text/plain": [
              "(torch.Size([1, 784]), torch.Size([1]))"
            ]
          },
          "metadata": {},
          "execution_count": 128
        }
      ],
      "source": [
        "# Every PyTorch module knows what parameters it has that can be trained; they are available through the parameters method:\n",
        "\n",
        "\n",
        "w,b = linear_model.parameters()\n",
        "w.shape,b.shape"
      ]
    },
    {
      "cell_type": "code",
      "execution_count": 129,
      "metadata": {
        "id": "7BbNsulvJ8BA"
      },
      "outputs": [],
      "source": [
        "# We can use this information to create an optimizer:\n",
        "class BasicOptim:\n",
        "    def __init__(self,params,lr): self.params,self.lr = list(params),lr\n",
        "\n",
        "    def step(self, *args, **kwargs):\n",
        "        for p in self.params: p.data -= p.grad.data * self.lr\n",
        "\n",
        "    def zero_grad(self, *args, **kwargs):\n",
        "        for p in self.params: p.grad = None"
      ]
    },
    {
      "cell_type": "code",
      "execution_count": 130,
      "metadata": {
        "id": "BbeLS8B8J8BB"
      },
      "outputs": [],
      "source": [
        "# We can create our optimizer by passing in the model’s parameters:\n",
        "\n",
        "opt = BasicOptim(linear_model.parameters(), lr)"
      ]
    },
    {
      "cell_type": "code",
      "execution_count": 131,
      "metadata": {
        "id": "W8_fiPAPJ8BB"
      },
      "outputs": [],
      "source": [
        "# Our training loop can now be simplified:\n",
        "def train_epoch(model):\n",
        "    for xb,yb in dl:\n",
        "        calc_grad(xb, yb, model)\n",
        "        opt.step()\n",
        "        opt.zero_grad()"
      ]
    },
    {
      "cell_type": "code",
      "source": [],
      "metadata": {
        "id": "NyVVHHXZPieb"
      },
      "execution_count": 131,
      "outputs": []
    },
    {
      "cell_type": "code",
      "execution_count": 132,
      "metadata": {
        "colab": {
          "base_uri": "https://localhost:8080/"
        },
        "id": "N8tbCdGaJ8BB",
        "outputId": "a3e46f23-e92d-4e5f-afa3-320af31afe85"
      },
      "outputs": [
        {
          "output_type": "execute_result",
          "data": {
            "text/plain": [
              "0.5947"
            ]
          },
          "metadata": {},
          "execution_count": 132
        }
      ],
      "source": [
        "# Our validation function doesn’t need to change at all:\n",
        "\n",
        "validate_epoch(linear_model)"
      ]
    },
    {
      "cell_type": "code",
      "execution_count": 133,
      "metadata": {
        "id": "_jbWV8rqJ8BC"
      },
      "outputs": [],
      "source": [
        "# Let’s put our little training loop in a function, to make things simpler:\n",
        "\n",
        "def train_model(model, epochs):\n",
        "    for i in range(epochs):\n",
        "        train_epoch(model)\n",
        "        print(validate_epoch(model), end=' ')"
      ]
    },
    {
      "cell_type": "code",
      "execution_count": 134,
      "metadata": {
        "colab": {
          "base_uri": "https://localhost:8080/"
        },
        "id": "UG_g0xAbJ8BD",
        "outputId": "5ad42210-4c35-4b44-b743-38cfd8f261c4"
      },
      "outputs": [
        {
          "output_type": "stream",
          "name": "stdout",
          "text": [
            "0.4932 0.7881 0.8511 0.9155 0.9336 0.9482 0.957 0.9634 0.9658 0.9688 0.9697 0.9717 0.9731 0.9746 0.9761 0.9766 0.9771 0.9775 0.978 0.979 "
          ]
        }
      ],
      "source": [
        "train_model(linear_model, 20)"
      ]
    },
    {
      "cell_type": "code",
      "execution_count": 135,
      "metadata": {
        "colab": {
          "base_uri": "https://localhost:8080/"
        },
        "id": "iXN6C6e7J8BG",
        "outputId": "68ffbd47-e524-4657-8c3e-ff48fdbdbcf8"
      },
      "outputs": [
        {
          "output_type": "stream",
          "name": "stdout",
          "text": [
            "0.4932 0.8286 0.8462 0.9146 0.9341 0.9487 0.9556 0.9634 0.9658 0.9673 0.9702 0.9731 0.9741 0.9751 0.9761 0.9766 0.9775 0.978 0.978 0.9785 "
          ]
        }
      ],
      "source": [
        "# fastai provides the SGD class that, by default, does the same thing as our BasicOptim:\n",
        "\n",
        "linear_model = nn.Linear(28*28,1)\n",
        "opt = SGD(linear_model.parameters(), lr)\n",
        "train_model(linear_model, 20)"
      ]
    },
    {
      "cell_type": "code",
      "execution_count": 136,
      "metadata": {
        "id": "q13Gu0-IJ8BG"
      },
      "outputs": [],
      "source": [
        "# fastai also provides Learner.fit, which we can use instead of train_model.\n",
        "# To create a Learner, we first need to create a DataLoaders, by passing in our training and validation DataLoaders:\n",
        "\n",
        "dls = DataLoaders(dl, valid_dl)"
      ]
    },
    {
      "cell_type": "code",
      "execution_count": 137,
      "metadata": {
        "id": "Qystuv9LJ8BH"
      },
      "outputs": [],
      "source": [
        "# To create a Learner without using an application (such as cnn_learner),\n",
        "# we need to pass in all the elements that we’ve created in this chapter: the DataLoaders,\n",
        "# the model, the optimization function (which will be passed the parameters), the loss function, and optionally any metrics to print:\n",
        "\n",
        "\n",
        "import requests\n",
        "learn = Learner(dls, nn.Linear(28*28,1), opt_func=SGD,\n",
        "                loss_func=mnist_loss, metrics=batch_accuracy)"
      ]
    },
    {
      "cell_type": "code",
      "execution_count": 138,
      "metadata": {
        "colab": {
          "base_uri": "https://localhost:8080/",
          "height": 363
        },
        "id": "ueqBqQr9J8BH",
        "outputId": "2af21fac-c0c2-440d-aa71-ab0b3fa9be70"
      },
      "outputs": [
        {
          "output_type": "display_data",
          "data": {
            "text/plain": [
              "<IPython.core.display.HTML object>"
            ],
            "text/html": [
              "\n",
              "<style>\n",
              "    /* Turns off some styling */\n",
              "    progress {\n",
              "        /* gets rid of default border in Firefox and Opera. */\n",
              "        border: none;\n",
              "        /* Needs to be in here for Safari polyfill so background images work as expected. */\n",
              "        background-size: auto;\n",
              "    }\n",
              "    progress:not([value]), progress:not([value])::-webkit-progress-bar {\n",
              "        background: repeating-linear-gradient(45deg, #7e7e7e, #7e7e7e 10px, #5c5c5c 10px, #5c5c5c 20px);\n",
              "    }\n",
              "    .progress-bar-interrupted, .progress-bar-interrupted::-webkit-progress-bar {\n",
              "        background: #F44336;\n",
              "    }\n",
              "</style>\n"
            ]
          },
          "metadata": {}
        },
        {
          "output_type": "display_data",
          "data": {
            "text/plain": [
              "<IPython.core.display.HTML object>"
            ],
            "text/html": [
              "<table border=\"1\" class=\"dataframe\">\n",
              "  <thead>\n",
              "    <tr style=\"text-align: left;\">\n",
              "      <th>epoch</th>\n",
              "      <th>train_loss</th>\n",
              "      <th>valid_loss</th>\n",
              "      <th>batch_accuracy</th>\n",
              "      <th>time</th>\n",
              "    </tr>\n",
              "  </thead>\n",
              "  <tbody>\n",
              "    <tr>\n",
              "      <td>0</td>\n",
              "      <td>0.636739</td>\n",
              "      <td>0.503628</td>\n",
              "      <td>0.495584</td>\n",
              "      <td>00:00</td>\n",
              "    </tr>\n",
              "    <tr>\n",
              "      <td>1</td>\n",
              "      <td>0.595945</td>\n",
              "      <td>0.168011</td>\n",
              "      <td>0.864082</td>\n",
              "      <td>00:00</td>\n",
              "    </tr>\n",
              "    <tr>\n",
              "      <td>2</td>\n",
              "      <td>0.216200</td>\n",
              "      <td>0.190648</td>\n",
              "      <td>0.826791</td>\n",
              "      <td>00:00</td>\n",
              "    </tr>\n",
              "    <tr>\n",
              "      <td>3</td>\n",
              "      <td>0.092847</td>\n",
              "      <td>0.109619</td>\n",
              "      <td>0.908734</td>\n",
              "      <td>00:00</td>\n",
              "    </tr>\n",
              "    <tr>\n",
              "      <td>4</td>\n",
              "      <td>0.047612</td>\n",
              "      <td>0.079268</td>\n",
              "      <td>0.931796</td>\n",
              "      <td>00:00</td>\n",
              "    </tr>\n",
              "    <tr>\n",
              "      <td>5</td>\n",
              "      <td>0.030110</td>\n",
              "      <td>0.063166</td>\n",
              "      <td>0.945535</td>\n",
              "      <td>00:00</td>\n",
              "    </tr>\n",
              "    <tr>\n",
              "      <td>6</td>\n",
              "      <td>0.023015</td>\n",
              "      <td>0.053199</td>\n",
              "      <td>0.955348</td>\n",
              "      <td>00:00</td>\n",
              "    </tr>\n",
              "    <tr>\n",
              "      <td>7</td>\n",
              "      <td>0.019924</td>\n",
              "      <td>0.046597</td>\n",
              "      <td>0.962218</td>\n",
              "      <td>00:00</td>\n",
              "    </tr>\n",
              "    <tr>\n",
              "      <td>8</td>\n",
              "      <td>0.018399</td>\n",
              "      <td>0.041971</td>\n",
              "      <td>0.965162</td>\n",
              "      <td>00:00</td>\n",
              "    </tr>\n",
              "    <tr>\n",
              "      <td>9</td>\n",
              "      <td>0.017508</td>\n",
              "      <td>0.038567</td>\n",
              "      <td>0.966634</td>\n",
              "      <td>00:00</td>\n",
              "    </tr>\n",
              "  </tbody>\n",
              "</table>"
            ]
          },
          "metadata": {}
        }
      ],
      "source": [
        "learn.fit(10, lr=lr)"
      ]
    },
    {
      "cell_type": "markdown",
      "metadata": {
        "id": "tR6igkf7J8BH"
      },
      "source": [
        "## Adding a Nonlinearity"
      ]
    },
    {
      "cell_type": "code",
      "execution_count": 139,
      "metadata": {
        "id": "xLHbwFl8J8BH"
      },
      "outputs": [],
      "source": [
        "def simple_net(xb):\n",
        "    res = xb@w1 + b1\n",
        "    res = res.max(tensor(0.0))\n",
        "    res = res@w2 + b2\n",
        "    return res"
      ]
    },
    {
      "cell_type": "code",
      "execution_count": 140,
      "metadata": {
        "id": "or8LgiGOJ8BH"
      },
      "outputs": [],
      "source": [
        "w1 = init_params((28*28,30))\n",
        "b1 = init_params(30)\n",
        "w2 = init_params((30,1))\n",
        "b2 = init_params(1)"
      ]
    },
    {
      "cell_type": "code",
      "execution_count": 141,
      "metadata": {
        "colab": {
          "base_uri": "https://localhost:8080/",
          "height": 372
        },
        "id": "FYJP9E2EJ8BI",
        "outputId": "4bdb3494-324a-4123-f2f2-cd9ba94e06ef"
      },
      "outputs": [
        {
          "output_type": "display_data",
          "data": {
            "text/plain": [
              "<Figure size 600x400 with 1 Axes>"
            ],
            "image/png": "[encoded data removed]"
          },
          "metadata": {}
        }
      ],
      "source": [
        "plot_function(F.relu)"
      ]
    },
    {
      "cell_type": "code",
      "execution_count": 142,
      "metadata": {
        "id": "pjgGcXwgJ8BI"
      },
      "outputs": [],
      "source": [
        "simple_net = nn.Sequential(\n",
        "    nn.Linear(28*28,30),\n",
        "    nn.ReLU(),\n",
        "    nn.Linear(30,1)\n",
        ")"
      ]
    },
    {
      "cell_type": "code",
      "execution_count": 143,
      "metadata": {
        "id": "MfMxWb9-J8BI"
      },
      "outputs": [],
      "source": [
        "learn = Learner(dls, simple_net, opt_func=SGD,\n",
        "                loss_func=mnist_loss, metrics=batch_accuracy)"
      ]
    },
    {
      "cell_type": "code",
      "execution_count": 144,
      "metadata": {
        "colab": {
          "base_uri": "https://localhost:8080/",
          "height": 1000
        },
        "id": "l0ckhkjUJ8BI",
        "outputId": "60ae307c-ed23-46c5-8ed5-9da6458ecfc1"
      },
      "outputs": [
        {
          "output_type": "display_data",
          "data": {
            "text/plain": [
              "<IPython.core.display.HTML object>"
            ],
            "text/html": [
              "\n",
              "<style>\n",
              "    /* Turns off some styling */\n",
              "    progress {\n",
              "        /* gets rid of default border in Firefox and Opera. */\n",
              "        border: none;\n",
              "        /* Needs to be in here for Safari polyfill so background images work as expected. */\n",
              "        background-size: auto;\n",
              "    }\n",
              "    progress:not([value]), progress:not([value])::-webkit-progress-bar {\n",
              "        background: repeating-linear-gradient(45deg, #7e7e7e, #7e7e7e 10px, #5c5c5c 10px, #5c5c5c 20px);\n",
              "    }\n",
              "    .progress-bar-interrupted, .progress-bar-interrupted::-webkit-progress-bar {\n",
              "        background: #F44336;\n",
              "    }\n",
              "</style>\n"
            ]
          },
          "metadata": {}
        },
        {
          "output_type": "display_data",
          "data": {
            "text/plain": [
              "<IPython.core.display.HTML object>"
            ],
            "text/html": [
              "<table border=\"1\" class=\"dataframe\">\n",
              "  <thead>\n",
              "    <tr style=\"text-align: left;\">\n",
              "      <th>epoch</th>\n",
              "      <th>train_loss</th>\n",
              "      <th>valid_loss</th>\n",
              "      <th>batch_accuracy</th>\n",
              "      <th>time</th>\n",
              "    </tr>\n",
              "  </thead>\n",
              "  <tbody>\n",
              "    <tr>\n",
              "      <td>0</td>\n",
              "      <td>0.340932</td>\n",
              "      <td>0.416107</td>\n",
              "      <td>0.505397</td>\n",
              "      <td>00:00</td>\n",
              "    </tr>\n",
              "    <tr>\n",
              "      <td>1</td>\n",
              "      <td>0.156382</td>\n",
              "      <td>0.240118</td>\n",
              "      <td>0.792444</td>\n",
              "      <td>00:00</td>\n",
              "    </tr>\n",
              "    <tr>\n",
              "      <td>2</td>\n",
              "      <td>0.084884</td>\n",
              "      <td>0.118733</td>\n",
              "      <td>0.912659</td>\n",
              "      <td>00:00</td>\n",
              "    </tr>\n",
              "    <tr>\n",
              "      <td>3</td>\n",
              "      <td>0.054765</td>\n",
              "      <td>0.079261</td>\n",
              "      <td>0.939156</td>\n",
              "      <td>00:00</td>\n",
              "    </tr>\n",
              "    <tr>\n",
              "      <td>4</td>\n",
              "      <td>0.040993</td>\n",
              "      <td>0.061500</td>\n",
              "      <td>0.953876</td>\n",
              "      <td>00:00</td>\n",
              "    </tr>\n",
              "    <tr>\n",
              "      <td>5</td>\n",
              "      <td>0.034059</td>\n",
              "      <td>0.051595</td>\n",
              "      <td>0.963690</td>\n",
              "      <td>00:00</td>\n",
              "    </tr>\n",
              "    <tr>\n",
              "      <td>6</td>\n",
              "      <td>0.030135</td>\n",
              "      <td>0.045390</td>\n",
              "      <td>0.966143</td>\n",
              "      <td>00:00</td>\n",
              "    </tr>\n",
              "    <tr>\n",
              "      <td>7</td>\n",
              "      <td>0.027620</td>\n",
              "      <td>0.041159</td>\n",
              "      <td>0.967125</td>\n",
              "      <td>00:00</td>\n",
              "    </tr>\n",
              "    <tr>\n",
              "      <td>8</td>\n",
              "      <td>0.025826</td>\n",
              "      <td>0.038091</td>\n",
              "      <td>0.969087</td>\n",
              "      <td>00:00</td>\n",
              "    </tr>\n",
              "    <tr>\n",
              "      <td>9</td>\n",
              "      <td>0.024443</td>\n",
              "      <td>0.035761</td>\n",
              "      <td>0.971050</td>\n",
              "      <td>00:00</td>\n",
              "    </tr>\n",
              "    <tr>\n",
              "      <td>10</td>\n",
              "      <td>0.023326</td>\n",
              "      <td>0.033915</td>\n",
              "      <td>0.973013</td>\n",
              "      <td>00:00</td>\n",
              "    </tr>\n",
              "    <tr>\n",
              "      <td>11</td>\n",
              "      <td>0.022396</td>\n",
              "      <td>0.032409</td>\n",
              "      <td>0.973013</td>\n",
              "      <td>00:00</td>\n",
              "    </tr>\n",
              "    <tr>\n",
              "      <td>12</td>\n",
              "      <td>0.021606</td>\n",
              "      <td>0.031149</td>\n",
              "      <td>0.974485</td>\n",
              "      <td>00:00</td>\n",
              "    </tr>\n",
              "    <tr>\n",
              "      <td>13</td>\n",
              "      <td>0.020922</td>\n",
              "      <td>0.030070</td>\n",
              "      <td>0.975466</td>\n",
              "      <td>00:00</td>\n",
              "    </tr>\n",
              "    <tr>\n",
              "      <td>14</td>\n",
              "      <td>0.020324</td>\n",
              "      <td>0.029130</td>\n",
              "      <td>0.975957</td>\n",
              "      <td>00:00</td>\n",
              "    </tr>\n",
              "    <tr>\n",
              "      <td>15</td>\n",
              "      <td>0.019793</td>\n",
              "      <td>0.028301</td>\n",
              "      <td>0.976448</td>\n",
              "      <td>00:00</td>\n",
              "    </tr>\n",
              "    <tr>\n",
              "      <td>16</td>\n",
              "      <td>0.019320</td>\n",
              "      <td>0.027562</td>\n",
              "      <td>0.976938</td>\n",
              "      <td>00:00</td>\n",
              "    </tr>\n",
              "    <tr>\n",
              "      <td>17</td>\n",
              "      <td>0.018892</td>\n",
              "      <td>0.026898</td>\n",
              "      <td>0.977920</td>\n",
              "      <td>00:00</td>\n",
              "    </tr>\n",
              "    <tr>\n",
              "      <td>18</td>\n",
              "      <td>0.018505</td>\n",
              "      <td>0.026296</td>\n",
              "      <td>0.978410</td>\n",
              "      <td>00:00</td>\n",
              "    </tr>\n",
              "    <tr>\n",
              "      <td>19</td>\n",
              "      <td>0.018150</td>\n",
              "      <td>0.025751</td>\n",
              "      <td>0.978410</td>\n",
              "      <td>00:00</td>\n",
              "    </tr>\n",
              "    <tr>\n",
              "      <td>20</td>\n",
              "      <td>0.017824</td>\n",
              "      <td>0.025253</td>\n",
              "      <td>0.978410</td>\n",
              "      <td>00:00</td>\n",
              "    </tr>\n",
              "    <tr>\n",
              "      <td>21</td>\n",
              "      <td>0.017522</td>\n",
              "      <td>0.024797</td>\n",
              "      <td>0.978901</td>\n",
              "      <td>00:00</td>\n",
              "    </tr>\n",
              "    <tr>\n",
              "      <td>22</td>\n",
              "      <td>0.017241</td>\n",
              "      <td>0.024379</td>\n",
              "      <td>0.979882</td>\n",
              "      <td>00:00</td>\n",
              "    </tr>\n",
              "    <tr>\n",
              "      <td>23</td>\n",
              "      <td>0.016979</td>\n",
              "      <td>0.023993</td>\n",
              "      <td>0.980373</td>\n",
              "      <td>00:00</td>\n",
              "    </tr>\n",
              "    <tr>\n",
              "      <td>24</td>\n",
              "      <td>0.016733</td>\n",
              "      <td>0.023637</td>\n",
              "      <td>0.980864</td>\n",
              "      <td>00:00</td>\n",
              "    </tr>\n",
              "    <tr>\n",
              "      <td>25</td>\n",
              "      <td>0.016502</td>\n",
              "      <td>0.023307</td>\n",
              "      <td>0.981354</td>\n",
              "      <td>00:00</td>\n",
              "    </tr>\n",
              "    <tr>\n",
              "      <td>26</td>\n",
              "      <td>0.016284</td>\n",
              "      <td>0.023001</td>\n",
              "      <td>0.981354</td>\n",
              "      <td>00:00</td>\n",
              "    </tr>\n",
              "    <tr>\n",
              "      <td>27</td>\n",
              "      <td>0.016077</td>\n",
              "      <td>0.022718</td>\n",
              "      <td>0.981354</td>\n",
              "      <td>00:00</td>\n",
              "    </tr>\n",
              "    <tr>\n",
              "      <td>28</td>\n",
              "      <td>0.015882</td>\n",
              "      <td>0.022453</td>\n",
              "      <td>0.981845</td>\n",
              "      <td>00:00</td>\n",
              "    </tr>\n",
              "    <tr>\n",
              "      <td>29</td>\n",
              "      <td>0.015696</td>\n",
              "      <td>0.022207</td>\n",
              "      <td>0.982336</td>\n",
              "      <td>00:00</td>\n",
              "    </tr>\n",
              "    <tr>\n",
              "      <td>30</td>\n",
              "      <td>0.015518</td>\n",
              "      <td>0.021977</td>\n",
              "      <td>0.982336</td>\n",
              "      <td>00:00</td>\n",
              "    </tr>\n",
              "    <tr>\n",
              "      <td>31</td>\n",
              "      <td>0.015349</td>\n",
              "      <td>0.021762</td>\n",
              "      <td>0.981845</td>\n",
              "      <td>00:00</td>\n",
              "    </tr>\n",
              "    <tr>\n",
              "      <td>32</td>\n",
              "      <td>0.015188</td>\n",
              "      <td>0.021560</td>\n",
              "      <td>0.981845</td>\n",
              "      <td>00:00</td>\n",
              "    </tr>\n",
              "    <tr>\n",
              "      <td>33</td>\n",
              "      <td>0.015033</td>\n",
              "      <td>0.021372</td>\n",
              "      <td>0.981845</td>\n",
              "      <td>00:00</td>\n",
              "    </tr>\n",
              "    <tr>\n",
              "      <td>34</td>\n",
              "      <td>0.014885</td>\n",
              "      <td>0.021194</td>\n",
              "      <td>0.982336</td>\n",
              "      <td>00:00</td>\n",
              "    </tr>\n",
              "    <tr>\n",
              "      <td>35</td>\n",
              "      <td>0.014743</td>\n",
              "      <td>0.021027</td>\n",
              "      <td>0.982826</td>\n",
              "      <td>00:00</td>\n",
              "    </tr>\n",
              "    <tr>\n",
              "      <td>36</td>\n",
              "      <td>0.014606</td>\n",
              "      <td>0.020870</td>\n",
              "      <td>0.982826</td>\n",
              "      <td>00:00</td>\n",
              "    </tr>\n",
              "    <tr>\n",
              "      <td>37</td>\n",
              "      <td>0.014475</td>\n",
              "      <td>0.020721</td>\n",
              "      <td>0.982826</td>\n",
              "      <td>00:00</td>\n",
              "    </tr>\n",
              "    <tr>\n",
              "      <td>38</td>\n",
              "      <td>0.014348</td>\n",
              "      <td>0.020579</td>\n",
              "      <td>0.982826</td>\n",
              "      <td>00:00</td>\n",
              "    </tr>\n",
              "    <tr>\n",
              "      <td>39</td>\n",
              "      <td>0.014225</td>\n",
              "      <td>0.020445</td>\n",
              "      <td>0.983317</td>\n",
              "      <td>00:00</td>\n",
              "    </tr>\n",
              "  </tbody>\n",
              "</table>"
            ]
          },
          "metadata": {}
        }
      ],
      "source": [
        "learn.fit(40, 0.1)"
      ]
    },
    {
      "cell_type": "code",
      "execution_count": 145,
      "metadata": {
        "colab": {
          "base_uri": "https://localhost:8080/",
          "height": 436
        },
        "id": "FSGKaLqrJ8BI",
        "outputId": "33184fec-d3c6-4da6-9d4e-d0f8151dbed9"
      },
      "outputs": [
        {
          "output_type": "display_data",
          "data": {
            "text/plain": [
              "<Figure size 640x480 with 1 Axes>"
            ],
            "image/png": "[encoded data removed]"
          },
          "metadata": {}
        }
      ],
      "source": [
        "plt.plot(L(learn.recorder.values).itemgot(2));"
      ]
    },
    {
      "cell_type": "code",
      "execution_count": 146,
      "metadata": {
        "colab": {
          "base_uri": "https://localhost:8080/"
        },
        "id": "m5fV47GKJ8BI",
        "outputId": "f0dce36d-20b8-4a78-ef1e-0fdbe537537c"
      },
      "outputs": [
        {
          "output_type": "execute_result",
          "data": {
            "text/plain": [
              "0.983316957950592"
            ]
          },
          "metadata": {},
          "execution_count": 146
        }
      ],
      "source": [
        "learn.recorder.values[-1][2]"
      ]
    },
    {
      "cell_type": "markdown",
      "metadata": {
        "id": "ys5ymtk1J8BJ"
      },
      "source": [
        "### Going Deeper"
      ]
    },
    {
      "cell_type": "code",
      "execution_count": 147,
      "metadata": {
        "colab": {
          "base_uri": "https://localhost:8080/",
          "height": 116
        },
        "id": "W7mvlIW9J8BJ",
        "outputId": "6120376a-ab2f-4fee-cc69-8b8f96c52243"
      },
      "outputs": [
        {
          "output_type": "stream",
          "name": "stderr",
          "text": [
            "/usr/local/lib/python3.10/dist-packages/fastai/vision/learner.py:301: UserWarning: `cnn_learner` has been renamed to `vision_learner` -- please update your code\n",
            "  warn(\"`cnn_learner` has been renamed to `vision_learner` -- please update your code\")\n"
          ]
        },
        {
          "output_type": "display_data",
          "data": {
            "text/plain": [
              "<IPython.core.display.HTML object>"
            ],
            "text/html": [
              "\n",
              "<style>\n",
              "    /* Turns off some styling */\n",
              "    progress {\n",
              "        /* gets rid of default border in Firefox and Opera. */\n",
              "        border: none;\n",
              "        /* Needs to be in here for Safari polyfill so background images work as expected. */\n",
              "        background-size: auto;\n",
              "    }\n",
              "    progress:not([value]), progress:not([value])::-webkit-progress-bar {\n",
              "        background: repeating-linear-gradient(45deg, #7e7e7e, #7e7e7e 10px, #5c5c5c 10px, #5c5c5c 20px);\n",
              "    }\n",
              "    .progress-bar-interrupted, .progress-bar-interrupted::-webkit-progress-bar {\n",
              "        background: #F44336;\n",
              "    }\n",
              "</style>\n"
            ]
          },
          "metadata": {}
        },
        {
          "output_type": "display_data",
          "data": {
            "text/plain": [
              "<IPython.core.display.HTML object>"
            ],
            "text/html": [
              "<table border=\"1\" class=\"dataframe\">\n",
              "  <thead>\n",
              "    <tr style=\"text-align: left;\">\n",
              "      <th>epoch</th>\n",
              "      <th>train_loss</th>\n",
              "      <th>valid_loss</th>\n",
              "      <th>accuracy</th>\n",
              "      <th>time</th>\n",
              "    </tr>\n",
              "  </thead>\n",
              "  <tbody>\n",
              "    <tr>\n",
              "      <td>0</td>\n",
              "      <td>0.103532</td>\n",
              "      <td>0.018086</td>\n",
              "      <td>0.997056</td>\n",
              "      <td>00:18</td>\n",
              "    </tr>\n",
              "  </tbody>\n",
              "</table>"
            ]
          },
          "metadata": {}
        }
      ],
      "source": [
        "dls = ImageDataLoaders.from_folder(path)\n",
        "learn = cnn_learner(dls, resnet18, pretrained=False,\n",
        "                    loss_func=F.cross_entropy, metrics=accuracy)\n",
        "learn.fit_one_cycle(1, 0.1)"
      ]
    },
    {
      "cell_type": "markdown",
      "metadata": {
        "id": "JmJsI1U6J8BJ"
      },
      "source": [
        "## Jargon Recap"
      ]
    },
    {
      "cell_type": "markdown",
      "metadata": {
        "id": "f5olS-7DJ8BJ"
      },
      "source": [
        "## Questionnaire"
      ]
    },
    {
      "cell_type": "markdown",
      "metadata": {
        "id": "RNsMbq5cJ8BJ"
      },
      "source": [
        "1. How is a grayscale image represented on a computer? How about a color image?\n",
        "1. How are the files and folders in the `MNIST_SAMPLE` dataset structured? Why?\n",
        "1. Explain how the \"pixel similarity\" approach to classifying digits works.\n",
        "1. What is a list comprehension? Create one now that selects odd numbers from a list and doubles them.\n",
        "1. What is a \"rank-3 tensor\"?\n",
        "1. What is the difference between tensor rank and shape? How do you get the rank from the shape?\n",
        "1. What are RMSE and L1 norm?\n",
        "1. How can you apply a calculation on thousands of numbers at once, many thousands of times faster than a Python loop?\n",
        "1. Create a 3×3 tensor or array containing the numbers from 1 to 9. Double it. Select the bottom-right four numbers.\n",
        "1. What is broadcasting?\n",
        "1. Are metrics generally calculated using the training set, or the validation set? Why?\n",
        "1. What is SGD?\n",
        "1. Why does SGD use mini-batches?\n",
        "1. What are the seven steps in SGD for machine learning?\n",
        "1. How do we initialize the weights in a model?\n",
        "1. What is \"loss\"?\n",
        "1. Why can't we always use a high learning rate?\n",
        "1. What is a \"gradient\"?\n",
        "1. Do you need to know how to calculate gradients yourself?\n",
        "1. Why can't we use accuracy as a loss function?\n",
        "1. Draw the sigmoid function. What is special about its shape?\n",
        "1. What is the difference between a loss function and a metric?\n",
        "1. What is the function to calculate new weights using a learning rate?\n",
        "1. What does the `DataLoader` class do?\n",
        "1. Write pseudocode showing the basic steps taken in each epoch for SGD.\n",
        "1. Create a function that, if passed two arguments `[1,2,3,4]` and `'abcd'`, returns `[(1, 'a'), (2, 'b'), (3, 'c'), (4, 'd')]`. What is special about that output data structure?\n",
        "1. What does `view` do in PyTorch?\n",
        "1. What are the \"bias\" parameters in a neural network? Why do we need them?\n",
        "1. What does the `@` operator do in Python?\n",
        "1. What does the `backward` method do?\n",
        "1. Why do we have to zero the gradients?\n",
        "1. What information do we have to pass to `Learner`?\n",
        "1. Show Python or pseudocode for the basic steps of a training loop.\n",
        "1. What is \"ReLU\"? Draw a plot of it for values from `-2` to `+2`.\n",
        "1. What is an \"activation function\"?\n",
        "1. What's the difference between `F.relu` and `nn.ReLU`?\n",
        "1. The universal approximation theorem shows that any function can be approximated as closely as needed using just one nonlinearity. So why do we normally use more?"
      ]
    },
    {
      "cell_type": "markdown",
      "metadata": {
        "id": "emvE7EWlJ8BU"
      },
      "source": [
        "### Further Research"
      ]
    },
    {
      "cell_type": "markdown",
      "metadata": {
        "id": "PK_XGn6IJ8BV"
      },
      "source": [
        "1. Create your own implementation of `Learner` from scratch, based on the training loop shown in this chapter.\n",
        "1. Complete all the steps in this chapter using the full MNIST datasets (that is, for all digits, not just 3s and 7s). This is a significant project and will take you quite a bit of time to complete! You'll need to do some of your own research to figure out how to overcome some obstacles you'll meet on the way."
      ]
    },
    {
      "cell_type": "code",
      "execution_count": 147,
      "metadata": {
        "id": "fseOt-ExJ8BW"
      },
      "outputs": [],
      "source": []
    }
  ],
  "metadata": {
    "jupytext": {
      "split_at_heading": true
    },
    "kernelspec": {
      "display_name": "Python 3",
      "name": "python3"
    },
    "colab": {
      "provenance": [],
      "collapsed_sections": [
        "wQObhO9SJ7-v",
        "678NxitLJ8AX",
        "wAQ5Nh9LJ8Af",
        "JmJsI1U6J8BJ",
        "emvE7EWlJ8BU"
      ],
      "gpuType": "T4"
    },
    "accelerator": "GPU"
  },
  "nbformat": 4,
  "nbformat_minor": 0
}